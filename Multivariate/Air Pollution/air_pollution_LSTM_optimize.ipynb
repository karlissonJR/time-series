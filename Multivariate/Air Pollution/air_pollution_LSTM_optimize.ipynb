{
 "cells": [
  {
   "cell_type": "code",
   "execution_count": 1,
   "metadata": {},
   "outputs": [
    {
     "name": "stderr",
     "output_type": "stream",
     "text": [
      "Using TensorFlow backend.\n"
     ]
    }
   ],
   "source": [
    "import numpy as np\n",
    "import pandas as pd\n",
    "from datetime import datetime\n",
    "\n",
    "import matplotlib\n",
    "from matplotlib import pyplot as plt\n",
    "\n",
    "from sklearn.preprocessing import MinMaxScaler\n",
    "from sklearn.preprocessing import LabelEncoder\n",
    "from sklearn.metrics import mean_squared_error\n",
    "from keras.models import Sequential\n",
    "from keras.callbacks import EarlyStopping\n",
    "from keras.layers import Dense\n",
    "from keras.layers import LSTM\n",
    "from keras.layers import GRU"
   ]
  },
  {
   "cell_type": "markdown",
   "metadata": {},
   "source": [
    "# Loading data train"
   ]
  },
  {
   "cell_type": "code",
   "execution_count": 16,
   "metadata": {},
   "outputs": [
    {
     "data": {
      "text/html": [
       "<div>\n",
       "<style scoped>\n",
       "    .dataframe tbody tr th:only-of-type {\n",
       "        vertical-align: middle;\n",
       "    }\n",
       "\n",
       "    .dataframe tbody tr th {\n",
       "        vertical-align: top;\n",
       "    }\n",
       "\n",
       "    .dataframe thead th {\n",
       "        text-align: right;\n",
       "    }\n",
       "</style>\n",
       "<table border=\"1\" class=\"dataframe\">\n",
       "  <thead>\n",
       "    <tr style=\"text-align: right;\">\n",
       "      <th></th>\n",
       "      <th>Unnamed: 0</th>\n",
       "      <th>var2(t-1)</th>\n",
       "      <th>var3(t-1)</th>\n",
       "      <th>var4(t-1)</th>\n",
       "      <th>var5(t-1)</th>\n",
       "      <th>var6(t-1)</th>\n",
       "      <th>var7(t-1)</th>\n",
       "      <th>var8(t-1)</th>\n",
       "      <th>var9(t-1)</th>\n",
       "      <th>var2(t)</th>\n",
       "    </tr>\n",
       "  </thead>\n",
       "  <tbody>\n",
       "    <tr>\n",
       "      <th>0</th>\n",
       "      <td>1</td>\n",
       "      <td>129.0</td>\n",
       "      <td>-16.0</td>\n",
       "      <td>-4.0</td>\n",
       "      <td>1020.0</td>\n",
       "      <td>SE</td>\n",
       "      <td>1.79</td>\n",
       "      <td>0.0</td>\n",
       "      <td>0.0</td>\n",
       "      <td>148.0</td>\n",
       "    </tr>\n",
       "    <tr>\n",
       "      <th>1</th>\n",
       "      <td>2</td>\n",
       "      <td>148.0</td>\n",
       "      <td>-15.0</td>\n",
       "      <td>-4.0</td>\n",
       "      <td>1020.0</td>\n",
       "      <td>SE</td>\n",
       "      <td>2.68</td>\n",
       "      <td>0.0</td>\n",
       "      <td>0.0</td>\n",
       "      <td>159.0</td>\n",
       "    </tr>\n",
       "    <tr>\n",
       "      <th>2</th>\n",
       "      <td>3</td>\n",
       "      <td>159.0</td>\n",
       "      <td>-11.0</td>\n",
       "      <td>-5.0</td>\n",
       "      <td>1021.0</td>\n",
       "      <td>SE</td>\n",
       "      <td>3.57</td>\n",
       "      <td>0.0</td>\n",
       "      <td>0.0</td>\n",
       "      <td>181.0</td>\n",
       "    </tr>\n",
       "    <tr>\n",
       "      <th>3</th>\n",
       "      <td>4</td>\n",
       "      <td>181.0</td>\n",
       "      <td>-7.0</td>\n",
       "      <td>-5.0</td>\n",
       "      <td>1022.0</td>\n",
       "      <td>SE</td>\n",
       "      <td>5.36</td>\n",
       "      <td>1.0</td>\n",
       "      <td>0.0</td>\n",
       "      <td>138.0</td>\n",
       "    </tr>\n",
       "    <tr>\n",
       "      <th>4</th>\n",
       "      <td>5</td>\n",
       "      <td>138.0</td>\n",
       "      <td>-7.0</td>\n",
       "      <td>-5.0</td>\n",
       "      <td>1022.0</td>\n",
       "      <td>SE</td>\n",
       "      <td>6.25</td>\n",
       "      <td>2.0</td>\n",
       "      <td>0.0</td>\n",
       "      <td>109.0</td>\n",
       "    </tr>\n",
       "  </tbody>\n",
       "</table>\n",
       "</div>"
      ],
      "text/plain": [
       "   Unnamed: 0  var2(t-1)  var3(t-1)  var4(t-1)  var5(t-1) var6(t-1)  \\\n",
       "0           1      129.0      -16.0       -4.0     1020.0        SE   \n",
       "1           2      148.0      -15.0       -4.0     1020.0        SE   \n",
       "2           3      159.0      -11.0       -5.0     1021.0        SE   \n",
       "3           4      181.0       -7.0       -5.0     1022.0        SE   \n",
       "4           5      138.0       -7.0       -5.0     1022.0        SE   \n",
       "\n",
       "   var7(t-1)  var8(t-1)  var9(t-1)  var2(t)  \n",
       "0       1.79        0.0        0.0    148.0  \n",
       "1       2.68        0.0        0.0    159.0  \n",
       "2       3.57        0.0        0.0    181.0  \n",
       "3       5.36        1.0        0.0    138.0  \n",
       "4       6.25        2.0        0.0    109.0  "
      ]
     },
     "execution_count": 16,
     "metadata": {},
     "output_type": "execute_result"
    }
   ],
   "source": [
    "data_train = pd.read_csv('air_pollution_train.csv')\n",
    "data_train.head(5)"
   ]
  },
  {
   "cell_type": "code",
   "execution_count": 17,
   "metadata": {},
   "outputs": [],
   "source": [
    "data_train.drop(['Unnamed: 0', 'var2(t)'], axis=1, inplace=True)"
   ]
  },
  {
   "cell_type": "code",
   "execution_count": 18,
   "metadata": {},
   "outputs": [
    {
     "data": {
      "text/html": [
       "<div>\n",
       "<style scoped>\n",
       "    .dataframe tbody tr th:only-of-type {\n",
       "        vertical-align: middle;\n",
       "    }\n",
       "\n",
       "    .dataframe tbody tr th {\n",
       "        vertical-align: top;\n",
       "    }\n",
       "\n",
       "    .dataframe thead th {\n",
       "        text-align: right;\n",
       "    }\n",
       "</style>\n",
       "<table border=\"1\" class=\"dataframe\">\n",
       "  <thead>\n",
       "    <tr style=\"text-align: right;\">\n",
       "      <th></th>\n",
       "      <th>var2(t-1)</th>\n",
       "      <th>var3(t-1)</th>\n",
       "      <th>var4(t-1)</th>\n",
       "      <th>var5(t-1)</th>\n",
       "      <th>var6(t-1)</th>\n",
       "      <th>var7(t-1)</th>\n",
       "      <th>var8(t-1)</th>\n",
       "      <th>var9(t-1)</th>\n",
       "    </tr>\n",
       "  </thead>\n",
       "  <tbody>\n",
       "    <tr>\n",
       "      <th>0</th>\n",
       "      <td>129.0</td>\n",
       "      <td>-16.0</td>\n",
       "      <td>-4.0</td>\n",
       "      <td>1020.0</td>\n",
       "      <td>SE</td>\n",
       "      <td>1.79</td>\n",
       "      <td>0.0</td>\n",
       "      <td>0.0</td>\n",
       "    </tr>\n",
       "    <tr>\n",
       "      <th>1</th>\n",
       "      <td>148.0</td>\n",
       "      <td>-15.0</td>\n",
       "      <td>-4.0</td>\n",
       "      <td>1020.0</td>\n",
       "      <td>SE</td>\n",
       "      <td>2.68</td>\n",
       "      <td>0.0</td>\n",
       "      <td>0.0</td>\n",
       "    </tr>\n",
       "    <tr>\n",
       "      <th>2</th>\n",
       "      <td>159.0</td>\n",
       "      <td>-11.0</td>\n",
       "      <td>-5.0</td>\n",
       "      <td>1021.0</td>\n",
       "      <td>SE</td>\n",
       "      <td>3.57</td>\n",
       "      <td>0.0</td>\n",
       "      <td>0.0</td>\n",
       "    </tr>\n",
       "    <tr>\n",
       "      <th>3</th>\n",
       "      <td>181.0</td>\n",
       "      <td>-7.0</td>\n",
       "      <td>-5.0</td>\n",
       "      <td>1022.0</td>\n",
       "      <td>SE</td>\n",
       "      <td>5.36</td>\n",
       "      <td>1.0</td>\n",
       "      <td>0.0</td>\n",
       "    </tr>\n",
       "    <tr>\n",
       "      <th>4</th>\n",
       "      <td>138.0</td>\n",
       "      <td>-7.0</td>\n",
       "      <td>-5.0</td>\n",
       "      <td>1022.0</td>\n",
       "      <td>SE</td>\n",
       "      <td>6.25</td>\n",
       "      <td>2.0</td>\n",
       "      <td>0.0</td>\n",
       "    </tr>\n",
       "  </tbody>\n",
       "</table>\n",
       "</div>"
      ],
      "text/plain": [
       "   var2(t-1)  var3(t-1)  var4(t-1)  var5(t-1) var6(t-1)  var7(t-1)  var8(t-1)  \\\n",
       "0      129.0      -16.0       -4.0     1020.0        SE       1.79        0.0   \n",
       "1      148.0      -15.0       -4.0     1020.0        SE       2.68        0.0   \n",
       "2      159.0      -11.0       -5.0     1021.0        SE       3.57        0.0   \n",
       "3      181.0       -7.0       -5.0     1022.0        SE       5.36        1.0   \n",
       "4      138.0       -7.0       -5.0     1022.0        SE       6.25        2.0   \n",
       "\n",
       "   var9(t-1)  \n",
       "0        0.0  \n",
       "1        0.0  \n",
       "2        0.0  \n",
       "3        0.0  \n",
       "4        0.0  "
      ]
     },
     "execution_count": 18,
     "metadata": {},
     "output_type": "execute_result"
    }
   ],
   "source": [
    "data_train.head(5)"
   ]
  },
  {
   "cell_type": "code",
   "execution_count": 19,
   "metadata": {},
   "outputs": [],
   "source": [
    "label_encoder = LabelEncoder()\n",
    "data_train.iloc[:,4] = label_encoder.fit_transform(data_train.iloc[:,4])"
   ]
  },
  {
   "cell_type": "code",
   "execution_count": 20,
   "metadata": {},
   "outputs": [],
   "source": [
    "scaler = MinMaxScaler(feature_range=(0,1))\n",
    "data_train = scaler.fit_transform(data_train)"
   ]
  },
  {
   "cell_type": "code",
   "execution_count": 21,
   "metadata": {},
   "outputs": [],
   "source": [
    "def series_to_supervised(data, input_lag=1, out_lag=1, dropnan=True):\n",
    "    n_vars = 1 if type(data) is list else data.shape[1]\n",
    "    df = pd.DataFrame(data)\n",
    "    cols, names = list(), list()\n",
    "    \n",
    "    for i in range(input_lag, 0, -1):\n",
    "        cols.append(df.shift(i))\n",
    "        names += [('var%d(t-%d)' % (j+1, i)) for j in range(n_vars)]\n",
    "    \n",
    "    for i in range(0, out_lag):\n",
    "        cols.append(df.shift(-i))\n",
    "        if (i == 0):\n",
    "            names += [('var%d(t)' % (j+1)) for j in range(n_vars)]\n",
    "        else:\n",
    "            names += [('var%d(t+%d)' % (j+1, i)) for j in range(n_vars)]\n",
    "    \n",
    "    new_df = pd.concat(cols, axis=1)\n",
    "    new_df.columns = names\n",
    "    \n",
    "    if (dropnan):\n",
    "        new_df.dropna(inplace=True)\n",
    "    \n",
    "    return new_df"
   ]
  },
  {
   "cell_type": "markdown",
   "metadata": {},
   "source": [
    "# Lag 1"
   ]
  },
  {
   "cell_type": "code",
   "execution_count": 22,
   "metadata": {},
   "outputs": [],
   "source": [
    "data_train_framed = series_to_supervised(data=data_train)"
   ]
  },
  {
   "cell_type": "code",
   "execution_count": 23,
   "metadata": {},
   "outputs": [
    {
     "data": {
      "text/html": [
       "<div>\n",
       "<style scoped>\n",
       "    .dataframe tbody tr th:only-of-type {\n",
       "        vertical-align: middle;\n",
       "    }\n",
       "\n",
       "    .dataframe tbody tr th {\n",
       "        vertical-align: top;\n",
       "    }\n",
       "\n",
       "    .dataframe thead th {\n",
       "        text-align: right;\n",
       "    }\n",
       "</style>\n",
       "<table border=\"1\" class=\"dataframe\">\n",
       "  <thead>\n",
       "    <tr style=\"text-align: right;\">\n",
       "      <th></th>\n",
       "      <th>var1(t-1)</th>\n",
       "      <th>var2(t-1)</th>\n",
       "      <th>var3(t-1)</th>\n",
       "      <th>var4(t-1)</th>\n",
       "      <th>var5(t-1)</th>\n",
       "      <th>var6(t-1)</th>\n",
       "      <th>var7(t-1)</th>\n",
       "      <th>var8(t-1)</th>\n",
       "      <th>var1(t)</th>\n",
       "    </tr>\n",
       "  </thead>\n",
       "  <tbody>\n",
       "    <tr>\n",
       "      <th>1</th>\n",
       "      <td>0.129779</td>\n",
       "      <td>0.278689</td>\n",
       "      <td>0.250000</td>\n",
       "      <td>0.527273</td>\n",
       "      <td>0.666667</td>\n",
       "      <td>0.002290</td>\n",
       "      <td>0.000000</td>\n",
       "      <td>0.0</td>\n",
       "      <td>0.148893</td>\n",
       "    </tr>\n",
       "    <tr>\n",
       "      <th>2</th>\n",
       "      <td>0.148893</td>\n",
       "      <td>0.295082</td>\n",
       "      <td>0.250000</td>\n",
       "      <td>0.527273</td>\n",
       "      <td>0.666667</td>\n",
       "      <td>0.003811</td>\n",
       "      <td>0.000000</td>\n",
       "      <td>0.0</td>\n",
       "      <td>0.159960</td>\n",
       "    </tr>\n",
       "    <tr>\n",
       "      <th>3</th>\n",
       "      <td>0.159960</td>\n",
       "      <td>0.360656</td>\n",
       "      <td>0.233333</td>\n",
       "      <td>0.545455</td>\n",
       "      <td>0.666667</td>\n",
       "      <td>0.005332</td>\n",
       "      <td>0.000000</td>\n",
       "      <td>0.0</td>\n",
       "      <td>0.182093</td>\n",
       "    </tr>\n",
       "    <tr>\n",
       "      <th>4</th>\n",
       "      <td>0.182093</td>\n",
       "      <td>0.426230</td>\n",
       "      <td>0.233333</td>\n",
       "      <td>0.563636</td>\n",
       "      <td>0.666667</td>\n",
       "      <td>0.008391</td>\n",
       "      <td>0.037037</td>\n",
       "      <td>0.0</td>\n",
       "      <td>0.138833</td>\n",
       "    </tr>\n",
       "    <tr>\n",
       "      <th>5</th>\n",
       "      <td>0.138833</td>\n",
       "      <td>0.426230</td>\n",
       "      <td>0.233333</td>\n",
       "      <td>0.563636</td>\n",
       "      <td>0.666667</td>\n",
       "      <td>0.009912</td>\n",
       "      <td>0.074074</td>\n",
       "      <td>0.0</td>\n",
       "      <td>0.109658</td>\n",
       "    </tr>\n",
       "  </tbody>\n",
       "</table>\n",
       "</div>"
      ],
      "text/plain": [
       "   var1(t-1)  var2(t-1)  var3(t-1)  var4(t-1)  var5(t-1)  var6(t-1)  \\\n",
       "1   0.129779   0.278689   0.250000   0.527273   0.666667   0.002290   \n",
       "2   0.148893   0.295082   0.250000   0.527273   0.666667   0.003811   \n",
       "3   0.159960   0.360656   0.233333   0.545455   0.666667   0.005332   \n",
       "4   0.182093   0.426230   0.233333   0.563636   0.666667   0.008391   \n",
       "5   0.138833   0.426230   0.233333   0.563636   0.666667   0.009912   \n",
       "\n",
       "   var7(t-1)  var8(t-1)   var1(t)  \n",
       "1   0.000000        0.0  0.148893  \n",
       "2   0.000000        0.0  0.159960  \n",
       "3   0.000000        0.0  0.182093  \n",
       "4   0.037037        0.0  0.138833  \n",
       "5   0.074074        0.0  0.109658  "
      ]
     },
     "execution_count": 23,
     "metadata": {},
     "output_type": "execute_result"
    }
   ],
   "source": [
    "data_train_framed.drop(data_train_framed.columns[[9, 10, 11, 12, 13, 14, 15]], axis=1, inplace=True)\n",
    "data_train_framed.head(5)"
   ]
  },
  {
   "cell_type": "code",
   "execution_count": 24,
   "metadata": {},
   "outputs": [],
   "source": [
    "x = data_train_framed.loc[:,[\n",
    "    'var1(t-1)',\n",
    "    'var2(t-1)',\n",
    "    'var3(t-1)',\n",
    "    'var4(t-1)',\n",
    "    'var5(t-1)',\n",
    "    'var6(t-1)',\n",
    "    'var7(t-1)',\n",
    "    'var8(t-1)'\n",
    "]]\n",
    "\n",
    "y = data_train_framed.loc[:,['var1(t)']]"
   ]
  },
  {
   "cell_type": "markdown",
   "metadata": {},
   "source": [
    "# Loading data test"
   ]
  },
  {
   "cell_type": "code",
   "execution_count": 25,
   "metadata": {},
   "outputs": [],
   "source": [
    "data_test = pd.read_csv('air_pollution_test.csv')"
   ]
  },
  {
   "cell_type": "code",
   "execution_count": 26,
   "metadata": {},
   "outputs": [],
   "source": [
    "data_test.drop(['Unnamed: 0', 'var2(t)'], axis=1, inplace=True)"
   ]
  },
  {
   "cell_type": "code",
   "execution_count": 27,
   "metadata": {},
   "outputs": [
    {
     "data": {
      "text/html": [
       "<div>\n",
       "<style scoped>\n",
       "    .dataframe tbody tr th:only-of-type {\n",
       "        vertical-align: middle;\n",
       "    }\n",
       "\n",
       "    .dataframe tbody tr th {\n",
       "        vertical-align: top;\n",
       "    }\n",
       "\n",
       "    .dataframe thead th {\n",
       "        text-align: right;\n",
       "    }\n",
       "</style>\n",
       "<table border=\"1\" class=\"dataframe\">\n",
       "  <thead>\n",
       "    <tr style=\"text-align: right;\">\n",
       "      <th></th>\n",
       "      <th>var2(t-1)</th>\n",
       "      <th>var3(t-1)</th>\n",
       "      <th>var4(t-1)</th>\n",
       "      <th>var5(t-1)</th>\n",
       "      <th>var6(t-1)</th>\n",
       "      <th>var7(t-1)</th>\n",
       "      <th>var8(t-1)</th>\n",
       "      <th>var9(t-1)</th>\n",
       "    </tr>\n",
       "  </thead>\n",
       "  <tbody>\n",
       "    <tr>\n",
       "      <th>0</th>\n",
       "      <td>23.0</td>\n",
       "      <td>-20.0</td>\n",
       "      <td>7.0</td>\n",
       "      <td>1014.0</td>\n",
       "      <td>NW</td>\n",
       "      <td>137.67</td>\n",
       "      <td>0.0</td>\n",
       "      <td>0.0</td>\n",
       "    </tr>\n",
       "    <tr>\n",
       "      <th>1</th>\n",
       "      <td>24.0</td>\n",
       "      <td>-20.0</td>\n",
       "      <td>7.0</td>\n",
       "      <td>1014.0</td>\n",
       "      <td>NW</td>\n",
       "      <td>143.48</td>\n",
       "      <td>0.0</td>\n",
       "      <td>0.0</td>\n",
       "    </tr>\n",
       "    <tr>\n",
       "      <th>2</th>\n",
       "      <td>53.0</td>\n",
       "      <td>-20.0</td>\n",
       "      <td>7.0</td>\n",
       "      <td>1013.0</td>\n",
       "      <td>NW</td>\n",
       "      <td>147.50</td>\n",
       "      <td>0.0</td>\n",
       "      <td>0.0</td>\n",
       "    </tr>\n",
       "    <tr>\n",
       "      <th>3</th>\n",
       "      <td>65.0</td>\n",
       "      <td>-20.0</td>\n",
       "      <td>6.0</td>\n",
       "      <td>1013.0</td>\n",
       "      <td>NW</td>\n",
       "      <td>151.52</td>\n",
       "      <td>0.0</td>\n",
       "      <td>0.0</td>\n",
       "    </tr>\n",
       "    <tr>\n",
       "      <th>4</th>\n",
       "      <td>70.0</td>\n",
       "      <td>-20.0</td>\n",
       "      <td>6.0</td>\n",
       "      <td>1013.0</td>\n",
       "      <td>NW</td>\n",
       "      <td>153.31</td>\n",
       "      <td>0.0</td>\n",
       "      <td>0.0</td>\n",
       "    </tr>\n",
       "  </tbody>\n",
       "</table>\n",
       "</div>"
      ],
      "text/plain": [
       "   var2(t-1)  var3(t-1)  var4(t-1)  var5(t-1) var6(t-1)  var7(t-1)  var8(t-1)  \\\n",
       "0       23.0      -20.0        7.0     1014.0        NW     137.67        0.0   \n",
       "1       24.0      -20.0        7.0     1014.0        NW     143.48        0.0   \n",
       "2       53.0      -20.0        7.0     1013.0        NW     147.50        0.0   \n",
       "3       65.0      -20.0        6.0     1013.0        NW     151.52        0.0   \n",
       "4       70.0      -20.0        6.0     1013.0        NW     153.31        0.0   \n",
       "\n",
       "   var9(t-1)  \n",
       "0        0.0  \n",
       "1        0.0  \n",
       "2        0.0  \n",
       "3        0.0  \n",
       "4        0.0  "
      ]
     },
     "execution_count": 27,
     "metadata": {},
     "output_type": "execute_result"
    }
   ],
   "source": [
    "data_test.head(5)"
   ]
  },
  {
   "cell_type": "code",
   "execution_count": 28,
   "metadata": {},
   "outputs": [],
   "source": [
    "data_test.iloc[:,4] = label_encoder.fit_transform(data_test.iloc[:,4])"
   ]
  },
  {
   "cell_type": "code",
   "execution_count": 29,
   "metadata": {},
   "outputs": [],
   "source": [
    "data_test = pd.DataFrame(data=scaler.fit_transform(data_test), columns=data_test.columns)"
   ]
  },
  {
   "cell_type": "code",
   "execution_count": 30,
   "metadata": {},
   "outputs": [
    {
     "data": {
      "text/html": [
       "<div>\n",
       "<style scoped>\n",
       "    .dataframe tbody tr th:only-of-type {\n",
       "        vertical-align: middle;\n",
       "    }\n",
       "\n",
       "    .dataframe tbody tr th {\n",
       "        vertical-align: top;\n",
       "    }\n",
       "\n",
       "    .dataframe thead th {\n",
       "        text-align: right;\n",
       "    }\n",
       "</style>\n",
       "<table border=\"1\" class=\"dataframe\">\n",
       "  <thead>\n",
       "    <tr style=\"text-align: right;\">\n",
       "      <th></th>\n",
       "      <th>var2(t-1)</th>\n",
       "      <th>var3(t-1)</th>\n",
       "      <th>var4(t-1)</th>\n",
       "      <th>var5(t-1)</th>\n",
       "      <th>var6(t-1)</th>\n",
       "      <th>var7(t-1)</th>\n",
       "      <th>var8(t-1)</th>\n",
       "      <th>var9(t-1)</th>\n",
       "    </tr>\n",
       "  </thead>\n",
       "  <tbody>\n",
       "    <tr>\n",
       "      <th>0</th>\n",
       "      <td>0.034277</td>\n",
       "      <td>0.307692</td>\n",
       "      <td>0.363636</td>\n",
       "      <td>0.456522</td>\n",
       "      <td>0.333333</td>\n",
       "      <td>0.311347</td>\n",
       "      <td>0.0</td>\n",
       "      <td>0.0</td>\n",
       "    </tr>\n",
       "    <tr>\n",
       "      <th>1</th>\n",
       "      <td>0.035768</td>\n",
       "      <td>0.307692</td>\n",
       "      <td>0.363636</td>\n",
       "      <td>0.456522</td>\n",
       "      <td>0.333333</td>\n",
       "      <td>0.324530</td>\n",
       "      <td>0.0</td>\n",
       "      <td>0.0</td>\n",
       "    </tr>\n",
       "    <tr>\n",
       "      <th>2</th>\n",
       "      <td>0.078987</td>\n",
       "      <td>0.307692</td>\n",
       "      <td>0.363636</td>\n",
       "      <td>0.434783</td>\n",
       "      <td>0.333333</td>\n",
       "      <td>0.333651</td>\n",
       "      <td>0.0</td>\n",
       "      <td>0.0</td>\n",
       "    </tr>\n",
       "    <tr>\n",
       "      <th>3</th>\n",
       "      <td>0.096870</td>\n",
       "      <td>0.307692</td>\n",
       "      <td>0.345455</td>\n",
       "      <td>0.434783</td>\n",
       "      <td>0.333333</td>\n",
       "      <td>0.342772</td>\n",
       "      <td>0.0</td>\n",
       "      <td>0.0</td>\n",
       "    </tr>\n",
       "    <tr>\n",
       "      <th>4</th>\n",
       "      <td>0.104322</td>\n",
       "      <td>0.307692</td>\n",
       "      <td>0.345455</td>\n",
       "      <td>0.434783</td>\n",
       "      <td>0.333333</td>\n",
       "      <td>0.346834</td>\n",
       "      <td>0.0</td>\n",
       "      <td>0.0</td>\n",
       "    </tr>\n",
       "  </tbody>\n",
       "</table>\n",
       "</div>"
      ],
      "text/plain": [
       "   var2(t-1)  var3(t-1)  var4(t-1)  var5(t-1)  var6(t-1)  var7(t-1)  \\\n",
       "0   0.034277   0.307692   0.363636   0.456522   0.333333   0.311347   \n",
       "1   0.035768   0.307692   0.363636   0.456522   0.333333   0.324530   \n",
       "2   0.078987   0.307692   0.363636   0.434783   0.333333   0.333651   \n",
       "3   0.096870   0.307692   0.345455   0.434783   0.333333   0.342772   \n",
       "4   0.104322   0.307692   0.345455   0.434783   0.333333   0.346834   \n",
       "\n",
       "   var8(t-1)  var9(t-1)  \n",
       "0        0.0        0.0  \n",
       "1        0.0        0.0  \n",
       "2        0.0        0.0  \n",
       "3        0.0        0.0  \n",
       "4        0.0        0.0  "
      ]
     },
     "execution_count": 30,
     "metadata": {},
     "output_type": "execute_result"
    }
   ],
   "source": [
    "data_test.head(5)"
   ]
  },
  {
   "cell_type": "code",
   "execution_count": 31,
   "metadata": {},
   "outputs": [],
   "source": [
    "data_test_framed = series_to_supervised(data=data_test)"
   ]
  },
  {
   "cell_type": "code",
   "execution_count": 32,
   "metadata": {},
   "outputs": [
    {
     "data": {
      "text/plain": [
       "pandas.core.frame.DataFrame"
      ]
     },
     "execution_count": 32,
     "metadata": {},
     "output_type": "execute_result"
    }
   ],
   "source": [
    "type(data_test)"
   ]
  },
  {
   "cell_type": "code",
   "execution_count": 34,
   "metadata": {},
   "outputs": [
    {
     "data": {
      "text/html": [
       "<div>\n",
       "<style scoped>\n",
       "    .dataframe tbody tr th:only-of-type {\n",
       "        vertical-align: middle;\n",
       "    }\n",
       "\n",
       "    .dataframe tbody tr th {\n",
       "        vertical-align: top;\n",
       "    }\n",
       "\n",
       "    .dataframe thead th {\n",
       "        text-align: right;\n",
       "    }\n",
       "</style>\n",
       "<table border=\"1\" class=\"dataframe\">\n",
       "  <thead>\n",
       "    <tr style=\"text-align: right;\">\n",
       "      <th></th>\n",
       "      <th>var1(t-1)</th>\n",
       "      <th>var2(t-1)</th>\n",
       "      <th>var3(t-1)</th>\n",
       "      <th>var4(t-1)</th>\n",
       "      <th>var5(t-1)</th>\n",
       "      <th>var6(t-1)</th>\n",
       "      <th>var7(t-1)</th>\n",
       "      <th>var8(t-1)</th>\n",
       "      <th>var1(t)</th>\n",
       "    </tr>\n",
       "  </thead>\n",
       "  <tbody>\n",
       "    <tr>\n",
       "      <th>1</th>\n",
       "      <td>0.034277</td>\n",
       "      <td>0.307692</td>\n",
       "      <td>0.363636</td>\n",
       "      <td>0.456522</td>\n",
       "      <td>0.333333</td>\n",
       "      <td>0.311347</td>\n",
       "      <td>0.0</td>\n",
       "      <td>0.0</td>\n",
       "      <td>0.035768</td>\n",
       "    </tr>\n",
       "    <tr>\n",
       "      <th>2</th>\n",
       "      <td>0.035768</td>\n",
       "      <td>0.307692</td>\n",
       "      <td>0.363636</td>\n",
       "      <td>0.456522</td>\n",
       "      <td>0.333333</td>\n",
       "      <td>0.324530</td>\n",
       "      <td>0.0</td>\n",
       "      <td>0.0</td>\n",
       "      <td>0.078987</td>\n",
       "    </tr>\n",
       "    <tr>\n",
       "      <th>3</th>\n",
       "      <td>0.078987</td>\n",
       "      <td>0.307692</td>\n",
       "      <td>0.363636</td>\n",
       "      <td>0.434783</td>\n",
       "      <td>0.333333</td>\n",
       "      <td>0.333651</td>\n",
       "      <td>0.0</td>\n",
       "      <td>0.0</td>\n",
       "      <td>0.096870</td>\n",
       "    </tr>\n",
       "    <tr>\n",
       "      <th>4</th>\n",
       "      <td>0.096870</td>\n",
       "      <td>0.307692</td>\n",
       "      <td>0.345455</td>\n",
       "      <td>0.434783</td>\n",
       "      <td>0.333333</td>\n",
       "      <td>0.342772</td>\n",
       "      <td>0.0</td>\n",
       "      <td>0.0</td>\n",
       "      <td>0.104322</td>\n",
       "    </tr>\n",
       "    <tr>\n",
       "      <th>5</th>\n",
       "      <td>0.104322</td>\n",
       "      <td>0.307692</td>\n",
       "      <td>0.345455</td>\n",
       "      <td>0.434783</td>\n",
       "      <td>0.333333</td>\n",
       "      <td>0.346834</td>\n",
       "      <td>0.0</td>\n",
       "      <td>0.0</td>\n",
       "      <td>0.117735</td>\n",
       "    </tr>\n",
       "  </tbody>\n",
       "</table>\n",
       "</div>"
      ],
      "text/plain": [
       "   var1(t-1)  var2(t-1)  var3(t-1)  var4(t-1)  var5(t-1)  var6(t-1)  \\\n",
       "1   0.034277   0.307692   0.363636   0.456522   0.333333   0.311347   \n",
       "2   0.035768   0.307692   0.363636   0.456522   0.333333   0.324530   \n",
       "3   0.078987   0.307692   0.363636   0.434783   0.333333   0.333651   \n",
       "4   0.096870   0.307692   0.345455   0.434783   0.333333   0.342772   \n",
       "5   0.104322   0.307692   0.345455   0.434783   0.333333   0.346834   \n",
       "\n",
       "   var7(t-1)  var8(t-1)   var1(t)  \n",
       "1        0.0        0.0  0.035768  \n",
       "2        0.0        0.0  0.078987  \n",
       "3        0.0        0.0  0.096870  \n",
       "4        0.0        0.0  0.104322  \n",
       "5        0.0        0.0  0.117735  "
      ]
     },
     "execution_count": 34,
     "metadata": {},
     "output_type": "execute_result"
    }
   ],
   "source": [
    "data_test_framed.drop(data_test_framed.columns[[9, 10, 11, 12, 13, 14, 15]], axis=1, inplace=True)\n",
    "data_test_framed.head(5)"
   ]
  },
  {
   "cell_type": "code",
   "execution_count": 37,
   "metadata": {},
   "outputs": [],
   "source": [
    "x_validation = data_test_framed.loc[:,[\n",
    "    'var1(t-1)',\n",
    "    'var2(t-1)',\n",
    "    'var3(t-1)',\n",
    "    'var4(t-1)',\n",
    "    'var5(t-1)',\n",
    "    'var6(t-1)',\n",
    "    'var7(t-1)',\n",
    "    'var8(t-1)'\n",
    "]]\n",
    "\n",
    "y_validation = data_test_framed.loc[:,['var1(t)']]"
   ]
  },
  {
   "cell_type": "code",
   "execution_count": 38,
   "metadata": {},
   "outputs": [],
   "source": [
    "x_validation = np.expand_dims(x_validation, axis=2)"
   ]
  },
  {
   "cell_type": "code",
   "execution_count": 39,
   "metadata": {},
   "outputs": [],
   "source": [
    "def split_data(x, y, train_size):\n",
    "    x_train = x[:int(len(x)*train_size)]\n",
    "    x_test = x[int(len(x)*train_size):]\n",
    "    y_train = y[:int(len(y)*train_size)]\n",
    "    y_test = y[int(len(y)*train_size):]\n",
    "    \n",
    "    return x_train, x_test, y_train, y_test"
   ]
  },
  {
   "cell_type": "code",
   "execution_count": 40,
   "metadata": {},
   "outputs": [],
   "source": [
    "x_train, x_test, y_train, y_test = split_data(x, y, train_size=0.8)"
   ]
  },
  {
   "cell_type": "code",
   "execution_count": 41,
   "metadata": {},
   "outputs": [
    {
     "name": "stdout",
     "output_type": "stream",
     "text": [
      "(28030, 8) (7008, 8) (28030, 1) (7008, 1)\n"
     ]
    }
   ],
   "source": [
    "print(x_train.shape, x_test.shape, y_train.shape, y_test.shape)"
   ]
  },
  {
   "cell_type": "code",
   "execution_count": 42,
   "metadata": {},
   "outputs": [
    {
     "name": "stdout",
     "output_type": "stream",
     "text": [
      "(28030, 8, 1) (7008, 8, 1)\n"
     ]
    }
   ],
   "source": [
    "x_train = np.expand_dims(x_train, axis=2)\n",
    "x_test = np.expand_dims(x_test, axis=2)\n",
    "\n",
    "print(x_train.shape, x_test.shape)"
   ]
  },
  {
   "cell_type": "code",
   "execution_count": 43,
   "metadata": {},
   "outputs": [
    {
     "name": "stderr",
     "output_type": "stream",
     "text": [
      "WARNING: Logging before flag parsing goes to stderr.\n",
      "W0710 03:16:19.604210 139816635106944 deprecation_wrapper.py:119] From /home/lucas/LICA/LICA/lib/python3.7/site-packages/keras/backend/tensorflow_backend.py:74: The name tf.get_default_graph is deprecated. Please use tf.compat.v1.get_default_graph instead.\n",
      "\n",
      "W0710 03:16:19.635159 139816635106944 deprecation_wrapper.py:119] From /home/lucas/LICA/LICA/lib/python3.7/site-packages/keras/backend/tensorflow_backend.py:517: The name tf.placeholder is deprecated. Please use tf.compat.v1.placeholder instead.\n",
      "\n",
      "W0710 03:16:19.640282 139816635106944 deprecation_wrapper.py:119] From /home/lucas/LICA/LICA/lib/python3.7/site-packages/keras/backend/tensorflow_backend.py:4138: The name tf.random_uniform is deprecated. Please use tf.random.uniform instead.\n",
      "\n",
      "W0710 03:16:19.945739 139816635106944 deprecation_wrapper.py:119] From /home/lucas/LICA/LICA/lib/python3.7/site-packages/keras/backend/tensorflow_backend.py:133: The name tf.placeholder_with_default is deprecated. Please use tf.compat.v1.placeholder_with_default instead.\n",
      "\n",
      "W0710 03:16:19.961695 139816635106944 deprecation.py:506] From /home/lucas/LICA/LICA/lib/python3.7/site-packages/keras/backend/tensorflow_backend.py:3445: calling dropout (from tensorflow.python.ops.nn_ops) with keep_prob is deprecated and will be removed in a future version.\n",
      "Instructions for updating:\n",
      "Please use `rate` instead of `keep_prob`. Rate should be set to `rate = 1 - keep_prob`.\n",
      "W0710 03:16:20.531410 139816635106944 deprecation_wrapper.py:119] From /home/lucas/LICA/LICA/lib/python3.7/site-packages/keras/optimizers.py:790: The name tf.train.Optimizer is deprecated. Please use tf.compat.v1.train.Optimizer instead.\n",
      "\n"
     ]
    }
   ],
   "source": [
    "stop_noimprovement = EarlyStopping(patience=10)\n",
    "\n",
    "model = Sequential()\n",
    "\n",
    "model.add(LSTM(50, input_shape=(8, 1), dropout=0.2))\n",
    "model.add(Dense(1))\n",
    "\n",
    "model.compile(loss=\"mae\", optimizer=\"adam\")"
   ]
  },
  {
   "cell_type": "markdown",
   "metadata": {},
   "source": [
    "# Test/validation with 100 epochs"
   ]
  },
  {
   "cell_type": "code",
   "execution_count": 44,
   "metadata": {},
   "outputs": [
    {
     "name": "stderr",
     "output_type": "stream",
     "text": [
      "W0710 03:16:25.000968 139816635106944 deprecation.py:323] From /home/lucas/LICA/LICA/lib/python3.7/site-packages/tensorflow/python/ops/math_grad.py:1250: add_dispatch_support.<locals>.wrapper (from tensorflow.python.ops.array_ops) is deprecated and will be removed in a future version.\n",
      "Instructions for updating:\n",
      "Use tf.where in 2.0, which has the same broadcast rule as np.where\n",
      "W0710 03:16:25.908154 139816635106944 deprecation_wrapper.py:119] From /home/lucas/LICA/LICA/lib/python3.7/site-packages/keras/backend/tensorflow_backend.py:986: The name tf.assign_add is deprecated. Please use tf.compat.v1.assign_add instead.\n",
      "\n"
     ]
    },
    {
     "name": "stdout",
     "output_type": "stream",
     "text": [
      "Train on 28030 samples, validate on 7008 samples\n",
      "Epoch 1/100\n",
      " - 11s - loss: 0.0694 - val_loss: 0.0680\n",
      "Epoch 2/100\n",
      " - 11s - loss: 0.0583 - val_loss: 0.0626\n",
      "Epoch 3/100\n",
      " - 12s - loss: 0.0438 - val_loss: 0.0605\n",
      "Epoch 4/100\n",
      " - 9s - loss: 0.0400 - val_loss: 0.0641\n",
      "Epoch 5/100\n",
      " - 9s - loss: 0.0385 - val_loss: 0.0613\n",
      "Epoch 6/100\n",
      " - 9s - loss: 0.0378 - val_loss: 0.0585\n",
      "Epoch 7/100\n",
      " - 9s - loss: 0.0375 - val_loss: 0.0522\n",
      "Epoch 8/100\n",
      " - 9s - loss: 0.0359 - val_loss: 0.0520\n",
      "Epoch 9/100\n",
      " - 9s - loss: 0.0348 - val_loss: 0.0475\n",
      "Epoch 10/100\n",
      " - 9s - loss: 0.0341 - val_loss: 0.0451\n",
      "Epoch 11/100\n",
      " - 9s - loss: 0.0338 - val_loss: 0.0420\n",
      "Epoch 12/100\n",
      " - 9s - loss: 0.0328 - val_loss: 0.0400\n",
      "Epoch 13/100\n",
      " - 9s - loss: 0.0320 - val_loss: 0.0364\n",
      "Epoch 14/100\n",
      " - 9s - loss: 0.0317 - val_loss: 0.0334\n",
      "Epoch 15/100\n",
      " - 9s - loss: 0.0311 - val_loss: 0.0311\n",
      "Epoch 16/100\n",
      " - 9s - loss: 0.0308 - val_loss: 0.0294\n",
      "Epoch 17/100\n",
      " - 9s - loss: 0.0295 - val_loss: 0.0278\n",
      "Epoch 18/100\n",
      " - 9s - loss: 0.0294 - val_loss: 0.0270\n",
      "Epoch 19/100\n",
      " - 9s - loss: 0.0283 - val_loss: 0.0272\n",
      "Epoch 20/100\n",
      " - 9s - loss: 0.0249 - val_loss: 0.0247\n",
      "Epoch 21/100\n",
      " - 9s - loss: 0.0228 - val_loss: 0.0235\n",
      "Epoch 22/100\n",
      " - 9s - loss: 0.0212 - val_loss: 0.0211\n",
      "Epoch 23/100\n",
      " - 9s - loss: 0.0201 - val_loss: 0.0215\n",
      "Epoch 24/100\n",
      " - 9s - loss: 0.0188 - val_loss: 0.0201\n",
      "Epoch 25/100\n",
      " - 9s - loss: 0.0181 - val_loss: 0.0223\n",
      "Epoch 26/100\n",
      " - 9s - loss: 0.0175 - val_loss: 0.0231\n",
      "Epoch 27/100\n",
      " - 9s - loss: 0.0173 - val_loss: 0.0197\n",
      "Epoch 28/100\n",
      " - 9s - loss: 0.0170 - val_loss: 0.0201\n",
      "Epoch 29/100\n",
      " - 9s - loss: 0.0169 - val_loss: 0.0238\n",
      "Epoch 30/100\n",
      " - 9s - loss: 0.0168 - val_loss: 0.0232\n",
      "Epoch 31/100\n",
      " - 9s - loss: 0.0169 - val_loss: 0.0216\n",
      "Epoch 32/100\n",
      " - 9s - loss: 0.0166 - val_loss: 0.0232\n",
      "Epoch 33/100\n",
      " - 9s - loss: 0.0166 - val_loss: 0.0228\n",
      "Epoch 34/100\n",
      " - 9s - loss: 0.0164 - val_loss: 0.0215\n",
      "Epoch 35/100\n",
      " - 9s - loss: 0.0162 - val_loss: 0.0210\n",
      "Epoch 36/100\n",
      " - 9s - loss: 0.0161 - val_loss: 0.0232\n",
      "Epoch 37/100\n",
      " - 9s - loss: 0.0161 - val_loss: 0.0198\n"
     ]
    }
   ],
   "source": [
    "history = model.fit(\n",
    "    x_train,\n",
    "    y_train,\n",
    "    validation_data=(x_test, y_test),\n",
    "    epochs=100,\n",
    "    verbose=2,\n",
    "    callbacks=[stop_noimprovement],\n",
    "    shuffle=False\n",
    ")"
   ]
  },
  {
   "cell_type": "code",
   "execution_count": 45,
   "metadata": {},
   "outputs": [
    {
     "data": {
      "image/png": "[encoded data removed]",
      "text/plain": [
       "<Figure size 432x288 with 1 Axes>"
      ]
     },
     "metadata": {
      "needs_background": "light"
     },
     "output_type": "display_data"
    }
   ],
   "source": [
    "plt.plot(history.history['loss'], label='train')\n",
    "plt.plot(history.history['val_loss'], label='test')\n",
    "plt.legend()\n",
    "plt.grid(True)\n",
    "plt.show()"
   ]
  },
  {
   "cell_type": "code",
   "execution_count": 46,
   "metadata": {},
   "outputs": [],
   "source": [
    "prediction = model.predict(x_test)"
   ]
  },
  {
   "cell_type": "code",
   "execution_count": 47,
   "metadata": {},
   "outputs": [
    {
     "name": "stdout",
     "output_type": "stream",
     "text": [
      "Test:\n",
      "0.03149\n"
     ]
    }
   ],
   "source": [
    "print('Test:')\n",
    "print(np.sqrt(mean_squared_error(y_test, prediction)).round(5))"
   ]
  },
  {
   "cell_type": "code",
   "execution_count": 48,
   "metadata": {},
   "outputs": [
    {
     "data": {
      "image/png": "[encoded data removed]",
      "text/plain": [
       "<Figure size 432x288 with 1 Axes>"
      ]
     },
     "metadata": {
      "needs_background": "light"
     },
     "output_type": "display_data"
    }
   ],
   "source": [
    "plt.plot(y_test.reset_index(drop=True), 'b')\n",
    "plt.plot(prediction, 'g')\n",
    "plt.grid(True)"
   ]
  },
  {
   "cell_type": "code",
   "execution_count": 49,
   "metadata": {},
   "outputs": [],
   "source": [
    "validation = model.predict(x_validation)"
   ]
  },
  {
   "cell_type": "code",
   "execution_count": 50,
   "metadata": {},
   "outputs": [
    {
     "name": "stdout",
     "output_type": "stream",
     "text": [
      "Validation:\n",
      "0.05968\n"
     ]
    }
   ],
   "source": [
    "print('Validation:')\n",
    "print(np.sqrt(mean_squared_error(y_validation, validation)).round(5))"
   ]
  },
  {
   "cell_type": "code",
   "execution_count": 51,
   "metadata": {},
   "outputs": [
    {
     "data": {
      "image/png": "[encoded data removed]",
      "text/plain": [
       "<Figure size 432x288 with 1 Axes>"
      ]
     },
     "metadata": {
      "needs_background": "light"
     },
     "output_type": "display_data"
    }
   ],
   "source": [
    "plt.plot(y_validation, 'b')\n",
    "plt.plot(validation, 'g')\n",
    "plt.grid(True)"
   ]
  },
  {
   "cell_type": "markdown",
   "metadata": {},
   "source": [
    "# Test/validation with 500 epochs"
   ]
  },
  {
   "cell_type": "code",
   "execution_count": 52,
   "metadata": {},
   "outputs": [
    {
     "name": "stdout",
     "output_type": "stream",
     "text": [
      "Train on 28030 samples, validate on 7008 samples\n",
      "Epoch 1/500\n",
      " - 9s - loss: 0.0157 - val_loss: 0.0213\n",
      "Epoch 2/500\n",
      " - 9s - loss: 0.0162 - val_loss: 0.0205\n",
      "Epoch 3/500\n",
      " - 9s - loss: 0.0161 - val_loss: 0.0210\n",
      "Epoch 4/500\n",
      " - 9s - loss: 0.0160 - val_loss: 0.0225\n",
      "Epoch 5/500\n",
      " - 9s - loss: 0.0159 - val_loss: 0.0197\n",
      "Epoch 6/500\n",
      " - 9s - loss: 0.0158 - val_loss: 0.0198\n",
      "Epoch 7/500\n",
      " - 9s - loss: 0.0160 - val_loss: 0.0227\n",
      "Epoch 8/500\n",
      " - 9s - loss: 0.0158 - val_loss: 0.0231\n",
      "Epoch 9/500\n",
      " - 9s - loss: 0.0160 - val_loss: 0.0239\n",
      "Epoch 10/500\n",
      " - 9s - loss: 0.0158 - val_loss: 0.0205\n",
      "Epoch 11/500\n",
      " - 9s - loss: 0.0157 - val_loss: 0.0220\n",
      "Epoch 12/500\n",
      " - 9s - loss: 0.0155 - val_loss: 0.0230\n",
      "Epoch 13/500\n",
      " - 9s - loss: 0.0156 - val_loss: 0.0207\n",
      "Epoch 14/500\n",
      " - 9s - loss: 0.0155 - val_loss: 0.0221\n",
      "Epoch 15/500\n",
      " - 9s - loss: 0.0154 - val_loss: 0.0227\n"
     ]
    }
   ],
   "source": [
    "history = model.fit(\n",
    "    x_train,\n",
    "    y_train,\n",
    "    validation_data=(x_test, y_test),\n",
    "    epochs=500,\n",
    "    verbose=2,\n",
    "    callbacks=[stop_noimprovement],\n",
    "    shuffle=False\n",
    ")"
   ]
  },
  {
   "cell_type": "code",
   "execution_count": 53,
   "metadata": {},
   "outputs": [
    {
     "data": {
      "image/png": "[encoded data removed]",
      "text/plain": [
       "<Figure size 432x288 with 1 Axes>"
      ]
     },
     "metadata": {
      "needs_background": "light"
     },
     "output_type": "display_data"
    }
   ],
   "source": [
    "plt.plot(history.history['loss'], label='train')\n",
    "plt.plot(history.history['val_loss'], label='test')\n",
    "plt.legend()\n",
    "plt.grid(True)\n",
    "plt.show()"
   ]
  },
  {
   "cell_type": "code",
   "execution_count": 54,
   "metadata": {},
   "outputs": [],
   "source": [
    "prediction = model.predict(x_test)"
   ]
  },
  {
   "cell_type": "code",
   "execution_count": 55,
   "metadata": {},
   "outputs": [
    {
     "name": "stdout",
     "output_type": "stream",
     "text": [
      "Test:\n",
      "0.03208\n"
     ]
    }
   ],
   "source": [
    "print('Test:')\n",
    "print(np.sqrt(mean_squared_error(y_test, prediction)).round(5))"
   ]
  },
  {
   "cell_type": "code",
   "execution_count": 56,
   "metadata": {},
   "outputs": [
    {
     "data": {
      "image/png": "[encoded data removed]",
      "text/plain": [
       "<Figure size 432x288 with 1 Axes>"
      ]
     },
     "metadata": {
      "needs_background": "light"
     },
     "output_type": "display_data"
    }
   ],
   "source": [
    "plt.plot(y_test.reset_index(drop=True), 'b')\n",
    "plt.plot(prediction, 'g')\n",
    "plt.grid(True)"
   ]
  },
  {
   "cell_type": "code",
   "execution_count": 57,
   "metadata": {},
   "outputs": [],
   "source": [
    "validation = model.predict(x_validation)"
   ]
  },
  {
   "cell_type": "code",
   "execution_count": 58,
   "metadata": {},
   "outputs": [
    {
     "name": "stdout",
     "output_type": "stream",
     "text": [
      "Test:\n",
      "0.05562\n"
     ]
    }
   ],
   "source": [
    "print('Test:')\n",
    "print(np.sqrt(mean_squared_error(y_validation, validation)).round(5))"
   ]
  },
  {
   "cell_type": "code",
   "execution_count": 59,
   "metadata": {},
   "outputs": [
    {
     "data": {
      "image/png": "[encoded data removed]",
      "text/plain": [
       "<Figure size 432x288 with 1 Axes>"
      ]
     },
     "metadata": {
      "needs_background": "light"
     },
     "output_type": "display_data"
    }
   ],
   "source": [
    "plt.plot(y_validation, 'b')\n",
    "plt.plot(validation, 'g')\n",
    "plt.grid(True)"
   ]
  },
  {
   "cell_type": "markdown",
   "metadata": {},
   "source": [
    "# Test/validation with 1000 epochs"
   ]
  },
  {
   "cell_type": "code",
   "execution_count": 60,
   "metadata": {},
   "outputs": [
    {
     "name": "stdout",
     "output_type": "stream",
     "text": [
      "Train on 28030 samples, validate on 7008 samples\n",
      "Epoch 1/1000\n",
      " - 9s - loss: 0.0154 - val_loss: 0.0231\n",
      "Epoch 2/1000\n",
      " - 9s - loss: 0.0156 - val_loss: 0.0213\n",
      "Epoch 3/1000\n",
      " - 9s - loss: 0.0156 - val_loss: 0.0210\n",
      "Epoch 4/1000\n",
      " - 9s - loss: 0.0156 - val_loss: 0.0226\n",
      "Epoch 5/1000\n",
      " - 9s - loss: 0.0152 - val_loss: 0.0224\n",
      "Epoch 6/1000\n",
      " - 9s - loss: 0.0155 - val_loss: 0.0237\n",
      "Epoch 7/1000\n",
      " - 9s - loss: 0.0154 - val_loss: 0.0227\n",
      "Epoch 8/1000\n",
      " - 9s - loss: 0.0154 - val_loss: 0.0256\n",
      "Epoch 9/1000\n",
      " - 9s - loss: 0.0153 - val_loss: 0.0226\n",
      "Epoch 10/1000\n",
      " - 9s - loss: 0.0153 - val_loss: 0.0222\n",
      "Epoch 11/1000\n",
      " - 9s - loss: 0.0153 - val_loss: 0.0237\n",
      "Epoch 12/1000\n",
      " - 9s - loss: 0.0154 - val_loss: 0.0241\n",
      "Epoch 13/1000\n",
      " - 9s - loss: 0.0152 - val_loss: 0.0253\n"
     ]
    }
   ],
   "source": [
    "history = model.fit(\n",
    "    x_train,\n",
    "    y_train,\n",
    "    validation_data=(x_test, y_test),\n",
    "    epochs=1000,\n",
    "    verbose=2,\n",
    "    callbacks=[stop_noimprovement],\n",
    "    shuffle=False\n",
    ")"
   ]
  },
  {
   "cell_type": "code",
   "execution_count": 61,
   "metadata": {},
   "outputs": [
    {
     "data": {
      "image/png": "[encoded data removed]",
      "text/plain": [
       "<Figure size 432x288 with 1 Axes>"
      ]
     },
     "metadata": {
      "needs_background": "light"
     },
     "output_type": "display_data"
    }
   ],
   "source": [
    "plt.plot(history.history['loss'], label='train')\n",
    "plt.plot(history.history['val_loss'], label='test')\n",
    "plt.legend()\n",
    "plt.grid(True)\n",
    "plt.show()"
   ]
  },
  {
   "cell_type": "code",
   "execution_count": 62,
   "metadata": {},
   "outputs": [],
   "source": [
    "prediction = model.predict(x_test)"
   ]
  },
  {
   "cell_type": "code",
   "execution_count": 63,
   "metadata": {},
   "outputs": [
    {
     "name": "stdout",
     "output_type": "stream",
     "text": [
      "Test:\n",
      "0.03401\n"
     ]
    }
   ],
   "source": [
    "print('Test:')\n",
    "print(np.sqrt(mean_squared_error(y_test, prediction)).round(5))"
   ]
  },
  {
   "cell_type": "code",
   "execution_count": 64,
   "metadata": {},
   "outputs": [
    {
     "data": {
      "image/png": "[encoded data removed]",
      "text/plain": [
       "<Figure size 432x288 with 1 Axes>"
      ]
     },
     "metadata": {
      "needs_background": "light"
     },
     "output_type": "display_data"
    }
   ],
   "source": [
    "plt.plot(y_test.reset_index(drop=True), 'b')\n",
    "plt.plot(prediction, 'g')\n",
    "plt.grid(True)"
   ]
  },
  {
   "cell_type": "code",
   "execution_count": 65,
   "metadata": {},
   "outputs": [],
   "source": [
    "validation = model.predict(x_validation)"
   ]
  },
  {
   "cell_type": "code",
   "execution_count": 66,
   "metadata": {},
   "outputs": [
    {
     "name": "stdout",
     "output_type": "stream",
     "text": [
      "Test:\n",
      "0.05838\n"
     ]
    }
   ],
   "source": [
    "print('Test:')\n",
    "print(np.sqrt(mean_squared_error(y_validation, validation)).round(5))"
   ]
  },
  {
   "cell_type": "code",
   "execution_count": 67,
   "metadata": {},
   "outputs": [
    {
     "data": {
      "image/png": "[encoded data removed]",
      "text/plain": [
       "<Figure size 432x288 with 1 Axes>"
      ]
     },
     "metadata": {
      "needs_background": "light"
     },
     "output_type": "display_data"
    }
   ],
   "source": [
    "plt.plot(y_validation, 'b')\n",
    "plt.plot(validation, 'g')\n",
    "plt.grid(True)"
   ]
  },
  {
   "cell_type": "markdown",
   "metadata": {},
   "source": [
    "# Lag 5"
   ]
  },
  {
   "cell_type": "code",
   "execution_count": 68,
   "metadata": {},
   "outputs": [],
   "source": [
    "#data_train_framed.head(5)"
   ]
  },
  {
   "cell_type": "code",
   "execution_count": 69,
   "metadata": {},
   "outputs": [
    {
     "data": {
      "text/html": [
       "<div>\n",
       "<style scoped>\n",
       "    .dataframe tbody tr th:only-of-type {\n",
       "        vertical-align: middle;\n",
       "    }\n",
       "\n",
       "    .dataframe tbody tr th {\n",
       "        vertical-align: top;\n",
       "    }\n",
       "\n",
       "    .dataframe thead th {\n",
       "        text-align: right;\n",
       "    }\n",
       "</style>\n",
       "<table border=\"1\" class=\"dataframe\">\n",
       "  <thead>\n",
       "    <tr style=\"text-align: right;\">\n",
       "      <th></th>\n",
       "      <th>var1(t-1)</th>\n",
       "      <th>var2(t-1)</th>\n",
       "      <th>var3(t-1)</th>\n",
       "      <th>var4(t-1)</th>\n",
       "      <th>var5(t-1)</th>\n",
       "      <th>var6(t-1)</th>\n",
       "      <th>var7(t-1)</th>\n",
       "      <th>var8(t-1)</th>\n",
       "      <th>var1(t)</th>\n",
       "      <th>var2(t)</th>\n",
       "      <th>...</th>\n",
       "      <th>var7(t+3)</th>\n",
       "      <th>var8(t+3)</th>\n",
       "      <th>var1(t+4)</th>\n",
       "      <th>var2(t+4)</th>\n",
       "      <th>var3(t+4)</th>\n",
       "      <th>var4(t+4)</th>\n",
       "      <th>var5(t+4)</th>\n",
       "      <th>var6(t+4)</th>\n",
       "      <th>var7(t+4)</th>\n",
       "      <th>var8(t+4)</th>\n",
       "    </tr>\n",
       "  </thead>\n",
       "  <tbody>\n",
       "    <tr>\n",
       "      <th>1</th>\n",
       "      <td>0.129779</td>\n",
       "      <td>0.278689</td>\n",
       "      <td>0.250000</td>\n",
       "      <td>0.527273</td>\n",
       "      <td>0.666667</td>\n",
       "      <td>0.002290</td>\n",
       "      <td>0.000000</td>\n",
       "      <td>0.0</td>\n",
       "      <td>0.148893</td>\n",
       "      <td>0.295082</td>\n",
       "      <td>...</td>\n",
       "      <td>0.074074</td>\n",
       "      <td>0.0</td>\n",
       "      <td>0.109658</td>\n",
       "      <td>0.426230</td>\n",
       "      <td>0.216667</td>\n",
       "      <td>0.563636</td>\n",
       "      <td>0.666667</td>\n",
       "      <td>0.011433</td>\n",
       "      <td>0.111111</td>\n",
       "      <td>0.0</td>\n",
       "    </tr>\n",
       "    <tr>\n",
       "      <th>2</th>\n",
       "      <td>0.148893</td>\n",
       "      <td>0.295082</td>\n",
       "      <td>0.250000</td>\n",
       "      <td>0.527273</td>\n",
       "      <td>0.666667</td>\n",
       "      <td>0.003811</td>\n",
       "      <td>0.000000</td>\n",
       "      <td>0.0</td>\n",
       "      <td>0.159960</td>\n",
       "      <td>0.360656</td>\n",
       "      <td>...</td>\n",
       "      <td>0.111111</td>\n",
       "      <td>0.0</td>\n",
       "      <td>0.105634</td>\n",
       "      <td>0.426230</td>\n",
       "      <td>0.216667</td>\n",
       "      <td>0.581818</td>\n",
       "      <td>0.666667</td>\n",
       "      <td>0.014492</td>\n",
       "      <td>0.148148</td>\n",
       "      <td>0.0</td>\n",
       "    </tr>\n",
       "    <tr>\n",
       "      <th>3</th>\n",
       "      <td>0.159960</td>\n",
       "      <td>0.360656</td>\n",
       "      <td>0.233333</td>\n",
       "      <td>0.545455</td>\n",
       "      <td>0.666667</td>\n",
       "      <td>0.005332</td>\n",
       "      <td>0.000000</td>\n",
       "      <td>0.0</td>\n",
       "      <td>0.182093</td>\n",
       "      <td>0.426230</td>\n",
       "      <td>...</td>\n",
       "      <td>0.148148</td>\n",
       "      <td>0.0</td>\n",
       "      <td>0.124748</td>\n",
       "      <td>0.426230</td>\n",
       "      <td>0.233333</td>\n",
       "      <td>0.600000</td>\n",
       "      <td>0.666667</td>\n",
       "      <td>0.017551</td>\n",
       "      <td>0.000000</td>\n",
       "      <td>0.0</td>\n",
       "    </tr>\n",
       "    <tr>\n",
       "      <th>4</th>\n",
       "      <td>0.182093</td>\n",
       "      <td>0.426230</td>\n",
       "      <td>0.233333</td>\n",
       "      <td>0.563636</td>\n",
       "      <td>0.666667</td>\n",
       "      <td>0.008391</td>\n",
       "      <td>0.037037</td>\n",
       "      <td>0.0</td>\n",
       "      <td>0.138833</td>\n",
       "      <td>0.426230</td>\n",
       "      <td>...</td>\n",
       "      <td>0.000000</td>\n",
       "      <td>0.0</td>\n",
       "      <td>0.120724</td>\n",
       "      <td>0.409836</td>\n",
       "      <td>0.216667</td>\n",
       "      <td>0.600000</td>\n",
       "      <td>0.666667</td>\n",
       "      <td>0.020610</td>\n",
       "      <td>0.000000</td>\n",
       "      <td>0.0</td>\n",
       "    </tr>\n",
       "    <tr>\n",
       "      <th>5</th>\n",
       "      <td>0.138833</td>\n",
       "      <td>0.426230</td>\n",
       "      <td>0.233333</td>\n",
       "      <td>0.563636</td>\n",
       "      <td>0.666667</td>\n",
       "      <td>0.009912</td>\n",
       "      <td>0.074074</td>\n",
       "      <td>0.0</td>\n",
       "      <td>0.109658</td>\n",
       "      <td>0.426230</td>\n",
       "      <td>...</td>\n",
       "      <td>0.000000</td>\n",
       "      <td>0.0</td>\n",
       "      <td>0.132797</td>\n",
       "      <td>0.426230</td>\n",
       "      <td>0.233333</td>\n",
       "      <td>0.618182</td>\n",
       "      <td>0.666667</td>\n",
       "      <td>0.023669</td>\n",
       "      <td>0.000000</td>\n",
       "      <td>0.0</td>\n",
       "    </tr>\n",
       "    <tr>\n",
       "      <th>6</th>\n",
       "      <td>0.109658</td>\n",
       "      <td>0.426230</td>\n",
       "      <td>0.216667</td>\n",
       "      <td>0.563636</td>\n",
       "      <td>0.666667</td>\n",
       "      <td>0.011433</td>\n",
       "      <td>0.111111</td>\n",
       "      <td>0.0</td>\n",
       "      <td>0.105634</td>\n",
       "      <td>0.426230</td>\n",
       "      <td>...</td>\n",
       "      <td>0.000000</td>\n",
       "      <td>0.0</td>\n",
       "      <td>0.140845</td>\n",
       "      <td>0.426230</td>\n",
       "      <td>0.233333</td>\n",
       "      <td>0.636364</td>\n",
       "      <td>0.666667</td>\n",
       "      <td>0.029018</td>\n",
       "      <td>0.037037</td>\n",
       "      <td>0.0</td>\n",
       "    </tr>\n",
       "    <tr>\n",
       "      <th>7</th>\n",
       "      <td>0.105634</td>\n",
       "      <td>0.426230</td>\n",
       "      <td>0.216667</td>\n",
       "      <td>0.581818</td>\n",
       "      <td>0.666667</td>\n",
       "      <td>0.014492</td>\n",
       "      <td>0.148148</td>\n",
       "      <td>0.0</td>\n",
       "      <td>0.124748</td>\n",
       "      <td>0.426230</td>\n",
       "      <td>...</td>\n",
       "      <td>0.037037</td>\n",
       "      <td>0.0</td>\n",
       "      <td>0.152918</td>\n",
       "      <td>0.409836</td>\n",
       "      <td>0.233333</td>\n",
       "      <td>0.636364</td>\n",
       "      <td>0.666667</td>\n",
       "      <td>0.034367</td>\n",
       "      <td>0.000000</td>\n",
       "      <td>0.0</td>\n",
       "    </tr>\n",
       "    <tr>\n",
       "      <th>8</th>\n",
       "      <td>0.124748</td>\n",
       "      <td>0.426230</td>\n",
       "      <td>0.233333</td>\n",
       "      <td>0.600000</td>\n",
       "      <td>0.666667</td>\n",
       "      <td>0.017551</td>\n",
       "      <td>0.000000</td>\n",
       "      <td>0.0</td>\n",
       "      <td>0.120724</td>\n",
       "      <td>0.409836</td>\n",
       "      <td>...</td>\n",
       "      <td>0.000000</td>\n",
       "      <td>0.0</td>\n",
       "      <td>0.148893</td>\n",
       "      <td>0.409836</td>\n",
       "      <td>0.233333</td>\n",
       "      <td>0.636364</td>\n",
       "      <td>0.666667</td>\n",
       "      <td>0.039716</td>\n",
       "      <td>0.000000</td>\n",
       "      <td>0.0</td>\n",
       "    </tr>\n",
       "  </tbody>\n",
       "</table>\n",
       "<p>8 rows × 48 columns</p>\n",
       "</div>"
      ],
      "text/plain": [
       "   var1(t-1)  var2(t-1)  var3(t-1)  var4(t-1)  var5(t-1)  var6(t-1)  \\\n",
       "1   0.129779   0.278689   0.250000   0.527273   0.666667   0.002290   \n",
       "2   0.148893   0.295082   0.250000   0.527273   0.666667   0.003811   \n",
       "3   0.159960   0.360656   0.233333   0.545455   0.666667   0.005332   \n",
       "4   0.182093   0.426230   0.233333   0.563636   0.666667   0.008391   \n",
       "5   0.138833   0.426230   0.233333   0.563636   0.666667   0.009912   \n",
       "6   0.109658   0.426230   0.216667   0.563636   0.666667   0.011433   \n",
       "7   0.105634   0.426230   0.216667   0.581818   0.666667   0.014492   \n",
       "8   0.124748   0.426230   0.233333   0.600000   0.666667   0.017551   \n",
       "\n",
       "   var7(t-1)  var8(t-1)   var1(t)   var2(t)  ...  var7(t+3)  var8(t+3)  \\\n",
       "1   0.000000        0.0  0.148893  0.295082  ...   0.074074        0.0   \n",
       "2   0.000000        0.0  0.159960  0.360656  ...   0.111111        0.0   \n",
       "3   0.000000        0.0  0.182093  0.426230  ...   0.148148        0.0   \n",
       "4   0.037037        0.0  0.138833  0.426230  ...   0.000000        0.0   \n",
       "5   0.074074        0.0  0.109658  0.426230  ...   0.000000        0.0   \n",
       "6   0.111111        0.0  0.105634  0.426230  ...   0.000000        0.0   \n",
       "7   0.148148        0.0  0.124748  0.426230  ...   0.037037        0.0   \n",
       "8   0.000000        0.0  0.120724  0.409836  ...   0.000000        0.0   \n",
       "\n",
       "   var1(t+4)  var2(t+4)  var3(t+4)  var4(t+4)  var5(t+4)  var6(t+4)  \\\n",
       "1   0.109658   0.426230   0.216667   0.563636   0.666667   0.011433   \n",
       "2   0.105634   0.426230   0.216667   0.581818   0.666667   0.014492   \n",
       "3   0.124748   0.426230   0.233333   0.600000   0.666667   0.017551   \n",
       "4   0.120724   0.409836   0.216667   0.600000   0.666667   0.020610   \n",
       "5   0.132797   0.426230   0.233333   0.618182   0.666667   0.023669   \n",
       "6   0.140845   0.426230   0.233333   0.636364   0.666667   0.029018   \n",
       "7   0.152918   0.409836   0.233333   0.636364   0.666667   0.034367   \n",
       "8   0.148893   0.409836   0.233333   0.636364   0.666667   0.039716   \n",
       "\n",
       "   var7(t+4)  var8(t+4)  \n",
       "1   0.111111        0.0  \n",
       "2   0.148148        0.0  \n",
       "3   0.000000        0.0  \n",
       "4   0.000000        0.0  \n",
       "5   0.000000        0.0  \n",
       "6   0.037037        0.0  \n",
       "7   0.000000        0.0  \n",
       "8   0.000000        0.0  \n",
       "\n",
       "[8 rows x 48 columns]"
      ]
     },
     "execution_count": 69,
     "metadata": {},
     "output_type": "execute_result"
    }
   ],
   "source": [
    "data_train_framed = series_to_supervised(data=data_train, out_lag=5)\n",
    "data_train_framed.head(8)"
   ]
  },
  {
   "cell_type": "code",
   "execution_count": 70,
   "metadata": {},
   "outputs": [
    {
     "data": {
      "text/html": [
       "<div>\n",
       "<style scoped>\n",
       "    .dataframe tbody tr th:only-of-type {\n",
       "        vertical-align: middle;\n",
       "    }\n",
       "\n",
       "    .dataframe tbody tr th {\n",
       "        vertical-align: top;\n",
       "    }\n",
       "\n",
       "    .dataframe thead th {\n",
       "        text-align: right;\n",
       "    }\n",
       "</style>\n",
       "<table border=\"1\" class=\"dataframe\">\n",
       "  <thead>\n",
       "    <tr style=\"text-align: right;\">\n",
       "      <th></th>\n",
       "      <th>var1(t-1)</th>\n",
       "      <th>var2(t-1)</th>\n",
       "      <th>var3(t-1)</th>\n",
       "      <th>var4(t-1)</th>\n",
       "      <th>var5(t-1)</th>\n",
       "      <th>var6(t-1)</th>\n",
       "      <th>var7(t-1)</th>\n",
       "      <th>var8(t-1)</th>\n",
       "      <th>var1(t+4)</th>\n",
       "    </tr>\n",
       "  </thead>\n",
       "  <tbody>\n",
       "    <tr>\n",
       "      <th>1</th>\n",
       "      <td>0.129779</td>\n",
       "      <td>0.278689</td>\n",
       "      <td>0.250000</td>\n",
       "      <td>0.527273</td>\n",
       "      <td>0.666667</td>\n",
       "      <td>0.002290</td>\n",
       "      <td>0.000000</td>\n",
       "      <td>0.0</td>\n",
       "      <td>0.109658</td>\n",
       "    </tr>\n",
       "    <tr>\n",
       "      <th>2</th>\n",
       "      <td>0.148893</td>\n",
       "      <td>0.295082</td>\n",
       "      <td>0.250000</td>\n",
       "      <td>0.527273</td>\n",
       "      <td>0.666667</td>\n",
       "      <td>0.003811</td>\n",
       "      <td>0.000000</td>\n",
       "      <td>0.0</td>\n",
       "      <td>0.105634</td>\n",
       "    </tr>\n",
       "    <tr>\n",
       "      <th>3</th>\n",
       "      <td>0.159960</td>\n",
       "      <td>0.360656</td>\n",
       "      <td>0.233333</td>\n",
       "      <td>0.545455</td>\n",
       "      <td>0.666667</td>\n",
       "      <td>0.005332</td>\n",
       "      <td>0.000000</td>\n",
       "      <td>0.0</td>\n",
       "      <td>0.124748</td>\n",
       "    </tr>\n",
       "    <tr>\n",
       "      <th>4</th>\n",
       "      <td>0.182093</td>\n",
       "      <td>0.426230</td>\n",
       "      <td>0.233333</td>\n",
       "      <td>0.563636</td>\n",
       "      <td>0.666667</td>\n",
       "      <td>0.008391</td>\n",
       "      <td>0.037037</td>\n",
       "      <td>0.0</td>\n",
       "      <td>0.120724</td>\n",
       "    </tr>\n",
       "    <tr>\n",
       "      <th>5</th>\n",
       "      <td>0.138833</td>\n",
       "      <td>0.426230</td>\n",
       "      <td>0.233333</td>\n",
       "      <td>0.563636</td>\n",
       "      <td>0.666667</td>\n",
       "      <td>0.009912</td>\n",
       "      <td>0.074074</td>\n",
       "      <td>0.0</td>\n",
       "      <td>0.132797</td>\n",
       "    </tr>\n",
       "  </tbody>\n",
       "</table>\n",
       "</div>"
      ],
      "text/plain": [
       "   var1(t-1)  var2(t-1)  var3(t-1)  var4(t-1)  var5(t-1)  var6(t-1)  \\\n",
       "1   0.129779   0.278689   0.250000   0.527273   0.666667   0.002290   \n",
       "2   0.148893   0.295082   0.250000   0.527273   0.666667   0.003811   \n",
       "3   0.159960   0.360656   0.233333   0.545455   0.666667   0.005332   \n",
       "4   0.182093   0.426230   0.233333   0.563636   0.666667   0.008391   \n",
       "5   0.138833   0.426230   0.233333   0.563636   0.666667   0.009912   \n",
       "\n",
       "   var7(t-1)  var8(t-1)  var1(t+4)  \n",
       "1   0.000000        0.0   0.109658  \n",
       "2   0.000000        0.0   0.105634  \n",
       "3   0.000000        0.0   0.124748  \n",
       "4   0.037037        0.0   0.120724  \n",
       "5   0.074074        0.0   0.132797  "
      ]
     },
     "execution_count": 70,
     "metadata": {},
     "output_type": "execute_result"
    }
   ],
   "source": [
    "data_train_framed.drop(data_train_framed.columns[[\n",
    "    8,9,10,11,12,13,14,15,16,17,18,19,20,21,22,23,24,\n",
    "    25,26,27,28,29,30,31,32,33,34,35,36,\n",
    "    37,38,39,41,42,43,44,45,46,47\n",
    "]], axis=1, inplace=True)\n",
    "\n",
    "data_train_framed.head(5)"
   ]
  },
  {
   "cell_type": "code",
   "execution_count": 71,
   "metadata": {},
   "outputs": [],
   "source": [
    "x = data_train_framed.loc[:,[\n",
    "    'var1(t-1)',\n",
    "    'var2(t-1)',\n",
    "    'var3(t-1)',\n",
    "    'var4(t-1)',\n",
    "    'var5(t-1)',\n",
    "    'var6(t-1)',\n",
    "    'var7(t-1)',\n",
    "    'var8(t-1)'\n",
    "]]\n",
    "\n",
    "y = data_train_framed.loc[:,['var1(t+4)']]"
   ]
  },
  {
   "cell_type": "code",
   "execution_count": 72,
   "metadata": {},
   "outputs": [],
   "source": [
    "x_train, x_test, y_train, y_test = split_data(x, y, train_size=0.8)"
   ]
  },
  {
   "cell_type": "code",
   "execution_count": 73,
   "metadata": {},
   "outputs": [
    {
     "name": "stdout",
     "output_type": "stream",
     "text": [
      "(28027, 8, 1) (7007, 8, 1)\n"
     ]
    }
   ],
   "source": [
    "x_train = np.expand_dims(x_train, axis=2)\n",
    "x_test = np.expand_dims(x_test, axis=2)\n",
    "\n",
    "print(x_train.shape, x_test.shape)"
   ]
  },
  {
   "cell_type": "code",
   "execution_count": 74,
   "metadata": {
    "scrolled": true
   },
   "outputs": [
    {
     "name": "stdout",
     "output_type": "stream",
     "text": [
      "(35034, 8) (7007, 8, 1)\n"
     ]
    }
   ],
   "source": [
    "print(x.shape, x_test.shape)"
   ]
  },
  {
   "cell_type": "code",
   "execution_count": 75,
   "metadata": {},
   "outputs": [
    {
     "name": "stdout",
     "output_type": "stream",
     "text": [
      "(28027, 8, 1) (7007, 8, 1) (28027, 1) (7007, 1)\n"
     ]
    }
   ],
   "source": [
    "print(x_train.shape, x_test.shape, y_train.shape, y_test.shape)"
   ]
  },
  {
   "cell_type": "code",
   "execution_count": 76,
   "metadata": {},
   "outputs": [
    {
     "data": {
      "text/html": [
       "<div>\n",
       "<style scoped>\n",
       "    .dataframe tbody tr th:only-of-type {\n",
       "        vertical-align: middle;\n",
       "    }\n",
       "\n",
       "    .dataframe tbody tr th {\n",
       "        vertical-align: top;\n",
       "    }\n",
       "\n",
       "    .dataframe thead th {\n",
       "        text-align: right;\n",
       "    }\n",
       "</style>\n",
       "<table border=\"1\" class=\"dataframe\">\n",
       "  <thead>\n",
       "    <tr style=\"text-align: right;\">\n",
       "      <th></th>\n",
       "      <th>var1(t-1)</th>\n",
       "      <th>var2(t-1)</th>\n",
       "      <th>var3(t-1)</th>\n",
       "      <th>var4(t-1)</th>\n",
       "      <th>var5(t-1)</th>\n",
       "      <th>var6(t-1)</th>\n",
       "      <th>var7(t-1)</th>\n",
       "      <th>var8(t-1)</th>\n",
       "      <th>var1(t)</th>\n",
       "      <th>var2(t)</th>\n",
       "      <th>...</th>\n",
       "      <th>var7(t+3)</th>\n",
       "      <th>var8(t+3)</th>\n",
       "      <th>var1(t+4)</th>\n",
       "      <th>var2(t+4)</th>\n",
       "      <th>var3(t+4)</th>\n",
       "      <th>var4(t+4)</th>\n",
       "      <th>var5(t+4)</th>\n",
       "      <th>var6(t+4)</th>\n",
       "      <th>var7(t+4)</th>\n",
       "      <th>var8(t+4)</th>\n",
       "    </tr>\n",
       "  </thead>\n",
       "  <tbody>\n",
       "    <tr>\n",
       "      <th>1</th>\n",
       "      <td>0.034277</td>\n",
       "      <td>0.307692</td>\n",
       "      <td>0.363636</td>\n",
       "      <td>0.456522</td>\n",
       "      <td>0.333333</td>\n",
       "      <td>0.311347</td>\n",
       "      <td>0.0</td>\n",
       "      <td>0.0</td>\n",
       "      <td>0.035768</td>\n",
       "      <td>0.307692</td>\n",
       "      <td>...</td>\n",
       "      <td>0.0</td>\n",
       "      <td>0.0</td>\n",
       "      <td>0.117735</td>\n",
       "      <td>0.338462</td>\n",
       "      <td>0.290909</td>\n",
       "      <td>0.413043</td>\n",
       "      <td>1.000000</td>\n",
       "      <td>0.000998</td>\n",
       "      <td>0.0</td>\n",
       "      <td>0.0</td>\n",
       "    </tr>\n",
       "    <tr>\n",
       "      <th>2</th>\n",
       "      <td>0.035768</td>\n",
       "      <td>0.307692</td>\n",
       "      <td>0.363636</td>\n",
       "      <td>0.456522</td>\n",
       "      <td>0.333333</td>\n",
       "      <td>0.324530</td>\n",
       "      <td>0.0</td>\n",
       "      <td>0.0</td>\n",
       "      <td>0.078987</td>\n",
       "      <td>0.307692</td>\n",
       "      <td>...</td>\n",
       "      <td>0.0</td>\n",
       "      <td>0.0</td>\n",
       "      <td>0.137109</td>\n",
       "      <td>0.338462</td>\n",
       "      <td>0.309091</td>\n",
       "      <td>0.413043</td>\n",
       "      <td>0.333333</td>\n",
       "      <td>0.008100</td>\n",
       "      <td>0.0</td>\n",
       "      <td>0.0</td>\n",
       "    </tr>\n",
       "    <tr>\n",
       "      <th>3</th>\n",
       "      <td>0.078987</td>\n",
       "      <td>0.307692</td>\n",
       "      <td>0.363636</td>\n",
       "      <td>0.434783</td>\n",
       "      <td>0.333333</td>\n",
       "      <td>0.333651</td>\n",
       "      <td>0.0</td>\n",
       "      <td>0.0</td>\n",
       "      <td>0.096870</td>\n",
       "      <td>0.307692</td>\n",
       "      <td>...</td>\n",
       "      <td>0.0</td>\n",
       "      <td>0.0</td>\n",
       "      <td>0.157973</td>\n",
       "      <td>0.323077</td>\n",
       "      <td>0.345455</td>\n",
       "      <td>0.413043</td>\n",
       "      <td>0.333333</td>\n",
       "      <td>0.019263</td>\n",
       "      <td>0.0</td>\n",
       "      <td>0.0</td>\n",
       "    </tr>\n",
       "    <tr>\n",
       "      <th>4</th>\n",
       "      <td>0.096870</td>\n",
       "      <td>0.307692</td>\n",
       "      <td>0.345455</td>\n",
       "      <td>0.434783</td>\n",
       "      <td>0.333333</td>\n",
       "      <td>0.342772</td>\n",
       "      <td>0.0</td>\n",
       "      <td>0.0</td>\n",
       "      <td>0.104322</td>\n",
       "      <td>0.307692</td>\n",
       "      <td>...</td>\n",
       "      <td>0.0</td>\n",
       "      <td>0.0</td>\n",
       "      <td>0.111773</td>\n",
       "      <td>0.323077</td>\n",
       "      <td>0.345455</td>\n",
       "      <td>0.434783</td>\n",
       "      <td>0.333333</td>\n",
       "      <td>0.035487</td>\n",
       "      <td>0.0</td>\n",
       "      <td>0.0</td>\n",
       "    </tr>\n",
       "    <tr>\n",
       "      <th>5</th>\n",
       "      <td>0.104322</td>\n",
       "      <td>0.307692</td>\n",
       "      <td>0.345455</td>\n",
       "      <td>0.434783</td>\n",
       "      <td>0.333333</td>\n",
       "      <td>0.346834</td>\n",
       "      <td>0.0</td>\n",
       "      <td>0.0</td>\n",
       "      <td>0.117735</td>\n",
       "      <td>0.338462</td>\n",
       "      <td>...</td>\n",
       "      <td>0.0</td>\n",
       "      <td>0.0</td>\n",
       "      <td>0.086438</td>\n",
       "      <td>0.338462</td>\n",
       "      <td>0.345455</td>\n",
       "      <td>0.434783</td>\n",
       "      <td>0.333333</td>\n",
       "      <td>0.048669</td>\n",
       "      <td>0.0</td>\n",
       "      <td>0.0</td>\n",
       "    </tr>\n",
       "    <tr>\n",
       "      <th>6</th>\n",
       "      <td>0.117735</td>\n",
       "      <td>0.338462</td>\n",
       "      <td>0.290909</td>\n",
       "      <td>0.413043</td>\n",
       "      <td>1.000000</td>\n",
       "      <td>0.000998</td>\n",
       "      <td>0.0</td>\n",
       "      <td>0.0</td>\n",
       "      <td>0.137109</td>\n",
       "      <td>0.338462</td>\n",
       "      <td>...</td>\n",
       "      <td>0.0</td>\n",
       "      <td>0.0</td>\n",
       "      <td>0.049180</td>\n",
       "      <td>0.338462</td>\n",
       "      <td>0.363636</td>\n",
       "      <td>0.456522</td>\n",
       "      <td>0.333333</td>\n",
       "      <td>0.059833</td>\n",
       "      <td>0.0</td>\n",
       "      <td>0.0</td>\n",
       "    </tr>\n",
       "    <tr>\n",
       "      <th>7</th>\n",
       "      <td>0.137109</td>\n",
       "      <td>0.338462</td>\n",
       "      <td>0.309091</td>\n",
       "      <td>0.413043</td>\n",
       "      <td>0.333333</td>\n",
       "      <td>0.008100</td>\n",
       "      <td>0.0</td>\n",
       "      <td>0.0</td>\n",
       "      <td>0.157973</td>\n",
       "      <td>0.323077</td>\n",
       "      <td>...</td>\n",
       "      <td>0.0</td>\n",
       "      <td>0.0</td>\n",
       "      <td>0.076006</td>\n",
       "      <td>0.338462</td>\n",
       "      <td>0.381818</td>\n",
       "      <td>0.478261</td>\n",
       "      <td>0.333333</td>\n",
       "      <td>0.070996</td>\n",
       "      <td>0.0</td>\n",
       "      <td>0.0</td>\n",
       "    </tr>\n",
       "    <tr>\n",
       "      <th>8</th>\n",
       "      <td>0.157973</td>\n",
       "      <td>0.323077</td>\n",
       "      <td>0.345455</td>\n",
       "      <td>0.413043</td>\n",
       "      <td>0.333333</td>\n",
       "      <td>0.019263</td>\n",
       "      <td>0.0</td>\n",
       "      <td>0.0</td>\n",
       "      <td>0.111773</td>\n",
       "      <td>0.323077</td>\n",
       "      <td>...</td>\n",
       "      <td>0.0</td>\n",
       "      <td>0.0</td>\n",
       "      <td>0.047690</td>\n",
       "      <td>0.338462</td>\n",
       "      <td>0.400000</td>\n",
       "      <td>0.478261</td>\n",
       "      <td>0.333333</td>\n",
       "      <td>0.089261</td>\n",
       "      <td>0.0</td>\n",
       "      <td>0.0</td>\n",
       "    </tr>\n",
       "  </tbody>\n",
       "</table>\n",
       "<p>8 rows × 48 columns</p>\n",
       "</div>"
      ],
      "text/plain": [
       "   var1(t-1)  var2(t-1)  var3(t-1)  var4(t-1)  var5(t-1)  var6(t-1)  \\\n",
       "1   0.034277   0.307692   0.363636   0.456522   0.333333   0.311347   \n",
       "2   0.035768   0.307692   0.363636   0.456522   0.333333   0.324530   \n",
       "3   0.078987   0.307692   0.363636   0.434783   0.333333   0.333651   \n",
       "4   0.096870   0.307692   0.345455   0.434783   0.333333   0.342772   \n",
       "5   0.104322   0.307692   0.345455   0.434783   0.333333   0.346834   \n",
       "6   0.117735   0.338462   0.290909   0.413043   1.000000   0.000998   \n",
       "7   0.137109   0.338462   0.309091   0.413043   0.333333   0.008100   \n",
       "8   0.157973   0.323077   0.345455   0.413043   0.333333   0.019263   \n",
       "\n",
       "   var7(t-1)  var8(t-1)   var1(t)   var2(t)  ...  var7(t+3)  var8(t+3)  \\\n",
       "1        0.0        0.0  0.035768  0.307692  ...        0.0        0.0   \n",
       "2        0.0        0.0  0.078987  0.307692  ...        0.0        0.0   \n",
       "3        0.0        0.0  0.096870  0.307692  ...        0.0        0.0   \n",
       "4        0.0        0.0  0.104322  0.307692  ...        0.0        0.0   \n",
       "5        0.0        0.0  0.117735  0.338462  ...        0.0        0.0   \n",
       "6        0.0        0.0  0.137109  0.338462  ...        0.0        0.0   \n",
       "7        0.0        0.0  0.157973  0.323077  ...        0.0        0.0   \n",
       "8        0.0        0.0  0.111773  0.323077  ...        0.0        0.0   \n",
       "\n",
       "   var1(t+4)  var2(t+4)  var3(t+4)  var4(t+4)  var5(t+4)  var6(t+4)  \\\n",
       "1   0.117735   0.338462   0.290909   0.413043   1.000000   0.000998   \n",
       "2   0.137109   0.338462   0.309091   0.413043   0.333333   0.008100   \n",
       "3   0.157973   0.323077   0.345455   0.413043   0.333333   0.019263   \n",
       "4   0.111773   0.323077   0.345455   0.434783   0.333333   0.035487   \n",
       "5   0.086438   0.338462   0.345455   0.434783   0.333333   0.048669   \n",
       "6   0.049180   0.338462   0.363636   0.456522   0.333333   0.059833   \n",
       "7   0.076006   0.338462   0.381818   0.478261   0.333333   0.070996   \n",
       "8   0.047690   0.338462   0.400000   0.478261   0.333333   0.089261   \n",
       "\n",
       "   var7(t+4)  var8(t+4)  \n",
       "1        0.0        0.0  \n",
       "2        0.0        0.0  \n",
       "3        0.0        0.0  \n",
       "4        0.0        0.0  \n",
       "5        0.0        0.0  \n",
       "6        0.0        0.0  \n",
       "7        0.0        0.0  \n",
       "8        0.0        0.0  \n",
       "\n",
       "[8 rows x 48 columns]"
      ]
     },
     "execution_count": 76,
     "metadata": {},
     "output_type": "execute_result"
    }
   ],
   "source": [
    "data_test_framed = series_to_supervised(data=data_test, out_lag=5)\n",
    "data_test_framed.head(8)"
   ]
  },
  {
   "cell_type": "code",
   "execution_count": 77,
   "metadata": {},
   "outputs": [
    {
     "data": {
      "text/html": [
       "<div>\n",
       "<style scoped>\n",
       "    .dataframe tbody tr th:only-of-type {\n",
       "        vertical-align: middle;\n",
       "    }\n",
       "\n",
       "    .dataframe tbody tr th {\n",
       "        vertical-align: top;\n",
       "    }\n",
       "\n",
       "    .dataframe thead th {\n",
       "        text-align: right;\n",
       "    }\n",
       "</style>\n",
       "<table border=\"1\" class=\"dataframe\">\n",
       "  <thead>\n",
       "    <tr style=\"text-align: right;\">\n",
       "      <th></th>\n",
       "      <th>var1(t-1)</th>\n",
       "      <th>var2(t-1)</th>\n",
       "      <th>var3(t-1)</th>\n",
       "      <th>var4(t-1)</th>\n",
       "      <th>var5(t-1)</th>\n",
       "      <th>var6(t-1)</th>\n",
       "      <th>var7(t-1)</th>\n",
       "      <th>var8(t-1)</th>\n",
       "      <th>var1(t+4)</th>\n",
       "    </tr>\n",
       "  </thead>\n",
       "  <tbody>\n",
       "    <tr>\n",
       "      <th>1</th>\n",
       "      <td>0.034277</td>\n",
       "      <td>0.307692</td>\n",
       "      <td>0.363636</td>\n",
       "      <td>0.456522</td>\n",
       "      <td>0.333333</td>\n",
       "      <td>0.311347</td>\n",
       "      <td>0.0</td>\n",
       "      <td>0.0</td>\n",
       "      <td>0.117735</td>\n",
       "    </tr>\n",
       "    <tr>\n",
       "      <th>2</th>\n",
       "      <td>0.035768</td>\n",
       "      <td>0.307692</td>\n",
       "      <td>0.363636</td>\n",
       "      <td>0.456522</td>\n",
       "      <td>0.333333</td>\n",
       "      <td>0.324530</td>\n",
       "      <td>0.0</td>\n",
       "      <td>0.0</td>\n",
       "      <td>0.137109</td>\n",
       "    </tr>\n",
       "    <tr>\n",
       "      <th>3</th>\n",
       "      <td>0.078987</td>\n",
       "      <td>0.307692</td>\n",
       "      <td>0.363636</td>\n",
       "      <td>0.434783</td>\n",
       "      <td>0.333333</td>\n",
       "      <td>0.333651</td>\n",
       "      <td>0.0</td>\n",
       "      <td>0.0</td>\n",
       "      <td>0.157973</td>\n",
       "    </tr>\n",
       "    <tr>\n",
       "      <th>4</th>\n",
       "      <td>0.096870</td>\n",
       "      <td>0.307692</td>\n",
       "      <td>0.345455</td>\n",
       "      <td>0.434783</td>\n",
       "      <td>0.333333</td>\n",
       "      <td>0.342772</td>\n",
       "      <td>0.0</td>\n",
       "      <td>0.0</td>\n",
       "      <td>0.111773</td>\n",
       "    </tr>\n",
       "    <tr>\n",
       "      <th>5</th>\n",
       "      <td>0.104322</td>\n",
       "      <td>0.307692</td>\n",
       "      <td>0.345455</td>\n",
       "      <td>0.434783</td>\n",
       "      <td>0.333333</td>\n",
       "      <td>0.346834</td>\n",
       "      <td>0.0</td>\n",
       "      <td>0.0</td>\n",
       "      <td>0.086438</td>\n",
       "    </tr>\n",
       "  </tbody>\n",
       "</table>\n",
       "</div>"
      ],
      "text/plain": [
       "   var1(t-1)  var2(t-1)  var3(t-1)  var4(t-1)  var5(t-1)  var6(t-1)  \\\n",
       "1   0.034277   0.307692   0.363636   0.456522   0.333333   0.311347   \n",
       "2   0.035768   0.307692   0.363636   0.456522   0.333333   0.324530   \n",
       "3   0.078987   0.307692   0.363636   0.434783   0.333333   0.333651   \n",
       "4   0.096870   0.307692   0.345455   0.434783   0.333333   0.342772   \n",
       "5   0.104322   0.307692   0.345455   0.434783   0.333333   0.346834   \n",
       "\n",
       "   var7(t-1)  var8(t-1)  var1(t+4)  \n",
       "1        0.0        0.0   0.117735  \n",
       "2        0.0        0.0   0.137109  \n",
       "3        0.0        0.0   0.157973  \n",
       "4        0.0        0.0   0.111773  \n",
       "5        0.0        0.0   0.086438  "
      ]
     },
     "execution_count": 77,
     "metadata": {},
     "output_type": "execute_result"
    }
   ],
   "source": [
    "data_test_framed.drop(data_test_framed.columns[[\n",
    "    8,9,10,11,12,13,14,15,16,17,18,19,20,21,22,23,24,\n",
    "    25,26,27,28,29,30,31,32,33,34,35,36,\n",
    "    37,38,39,41,42,43,44,45,46,47\n",
    "]], axis=1, inplace=True)\n",
    "\n",
    "data_test_framed.head(5)"
   ]
  },
  {
   "cell_type": "code",
   "execution_count": 79,
   "metadata": {},
   "outputs": [],
   "source": [
    "x_validation = data_test_framed.loc[:,[\n",
    "    'var1(t-1)',\n",
    "    'var2(t-1)',\n",
    "    'var3(t-1)',\n",
    "    'var4(t-1)',\n",
    "    'var5(t-1)',\n",
    "    'var6(t-1)',\n",
    "    'var7(t-1)',\n",
    "    'var8(t-1)'\n",
    "]]\n",
    "\n",
    "y_validation = data_test_framed.loc[:,['var1(t+4)']]"
   ]
  },
  {
   "cell_type": "code",
   "execution_count": 80,
   "metadata": {},
   "outputs": [],
   "source": [
    "x_validation = np.expand_dims(x_validation, axis=2)"
   ]
  },
  {
   "cell_type": "markdown",
   "metadata": {},
   "source": [
    "# Test/validation with 100 epochs"
   ]
  },
  {
   "cell_type": "code",
   "execution_count": 81,
   "metadata": {},
   "outputs": [
    {
     "name": "stdout",
     "output_type": "stream",
     "text": [
      "Train on 28027 samples, validate on 7007 samples\n",
      "Epoch 1/100\n",
      " - 10s - loss: 0.0374 - val_loss: 0.0340\n",
      "Epoch 2/100\n",
      " - 9s - loss: 0.0373 - val_loss: 0.0337\n",
      "Epoch 3/100\n",
      " - 9s - loss: 0.0371 - val_loss: 0.0336\n",
      "Epoch 4/100\n",
      " - 9s - loss: 0.0370 - val_loss: 0.0334\n",
      "Epoch 5/100\n",
      " - 9s - loss: 0.0368 - val_loss: 0.0334\n",
      "Epoch 6/100\n",
      " - 9s - loss: 0.0369 - val_loss: 0.0333\n",
      "Epoch 7/100\n",
      " - 9s - loss: 0.0369 - val_loss: 0.0337\n",
      "Epoch 8/100\n",
      " - 9s - loss: 0.0369 - val_loss: 0.0332\n",
      "Epoch 9/100\n",
      " - 9s - loss: 0.0369 - val_loss: 0.0334\n",
      "Epoch 10/100\n",
      " - 9s - loss: 0.0367 - val_loss: 0.0333\n",
      "Epoch 11/100\n",
      " - 9s - loss: 0.0368 - val_loss: 0.0334\n",
      "Epoch 12/100\n",
      " - 9s - loss: 0.0367 - val_loss: 0.0331\n",
      "Epoch 13/100\n",
      " - 9s - loss: 0.0366 - val_loss: 0.0331\n",
      "Epoch 14/100\n",
      " - 9s - loss: 0.0366 - val_loss: 0.0333\n",
      "Epoch 15/100\n",
      " - 9s - loss: 0.0365 - val_loss: 0.0334\n",
      "Epoch 16/100\n",
      " - 9s - loss: 0.0365 - val_loss: 0.0333\n",
      "Epoch 17/100\n",
      " - 9s - loss: 0.0364 - val_loss: 0.0332\n",
      "Epoch 18/100\n",
      " - 9s - loss: 0.0363 - val_loss: 0.0332\n",
      "Epoch 19/100\n",
      " - 9s - loss: 0.0363 - val_loss: 0.0330\n",
      "Epoch 20/100\n",
      " - 9s - loss: 0.0363 - val_loss: 0.0331\n",
      "Epoch 21/100\n",
      " - 9s - loss: 0.0363 - val_loss: 0.0332\n",
      "Epoch 22/100\n",
      " - 9s - loss: 0.0365 - val_loss: 0.0331\n",
      "Epoch 23/100\n",
      " - 9s - loss: 0.0363 - val_loss: 0.0330\n",
      "Epoch 24/100\n",
      " - 9s - loss: 0.0363 - val_loss: 0.0332\n",
      "Epoch 25/100\n",
      " - 9s - loss: 0.0361 - val_loss: 0.0330\n",
      "Epoch 26/100\n",
      " - 9s - loss: 0.0362 - val_loss: 0.0329\n",
      "Epoch 27/100\n",
      " - 9s - loss: 0.0361 - val_loss: 0.0332\n",
      "Epoch 28/100\n",
      " - 9s - loss: 0.0362 - val_loss: 0.0330\n",
      "Epoch 29/100\n",
      " - 9s - loss: 0.0361 - val_loss: 0.0332\n",
      "Epoch 30/100\n",
      " - 9s - loss: 0.0361 - val_loss: 0.0332\n",
      "Epoch 31/100\n",
      " - 9s - loss: 0.0361 - val_loss: 0.0331\n",
      "Epoch 32/100\n",
      " - 9s - loss: 0.0360 - val_loss: 0.0329\n",
      "Epoch 33/100\n",
      " - 9s - loss: 0.0361 - val_loss: 0.0331\n",
      "Epoch 34/100\n",
      " - 9s - loss: 0.0361 - val_loss: 0.0332\n",
      "Epoch 35/100\n",
      " - 9s - loss: 0.0360 - val_loss: 0.0329\n",
      "Epoch 36/100\n",
      " - 9s - loss: 0.0360 - val_loss: 0.0331\n",
      "Epoch 37/100\n",
      " - 9s - loss: 0.0360 - val_loss: 0.0330\n",
      "Epoch 38/100\n",
      " - 9s - loss: 0.0361 - val_loss: 0.0331\n",
      "Epoch 39/100\n",
      " - 9s - loss: 0.0358 - val_loss: 0.0330\n",
      "Epoch 40/100\n",
      " - 9s - loss: 0.0359 - val_loss: 0.0331\n",
      "Epoch 41/100\n",
      " - 12s - loss: 0.0359 - val_loss: 0.0330\n",
      "Epoch 42/100\n",
      " - 9s - loss: 0.0358 - val_loss: 0.0331\n"
     ]
    }
   ],
   "source": [
    "history = model.fit(\n",
    "    x_train,\n",
    "    y_train,\n",
    "    validation_data=(x_test, y_test),\n",
    "    epochs=100,\n",
    "    verbose=2,\n",
    "    callbacks=[stop_noimprovement],\n",
    "    shuffle=False\n",
    ")"
   ]
  },
  {
   "cell_type": "code",
   "execution_count": 82,
   "metadata": {},
   "outputs": [
    {
     "data": {
      "image/png": "[encoded data removed]",
      "text/plain": [
       "<Figure size 432x288 with 1 Axes>"
      ]
     },
     "metadata": {
      "needs_background": "light"
     },
     "output_type": "display_data"
    }
   ],
   "source": [
    "plt.plot(history.history['loss'], label='train')\n",
    "plt.plot(history.history['val_loss'], label='test')\n",
    "plt.legend()\n",
    "plt.grid(True)\n",
    "plt.show()"
   ]
  },
  {
   "cell_type": "code",
   "execution_count": 83,
   "metadata": {},
   "outputs": [],
   "source": [
    "prediction = model.predict(x_test)"
   ]
  },
  {
   "cell_type": "code",
   "execution_count": 84,
   "metadata": {},
   "outputs": [
    {
     "name": "stdout",
     "output_type": "stream",
     "text": [
      "Test:\n",
      "0.05087\n"
     ]
    }
   ],
   "source": [
    "print('Test:')\n",
    "print(np.sqrt(mean_squared_error(y_test, prediction)).round(5))"
   ]
  },
  {
   "cell_type": "code",
   "execution_count": 85,
   "metadata": {},
   "outputs": [
    {
     "data": {
      "image/png": "[encoded data removed]",
      "text/plain": [
       "<Figure size 432x288 with 1 Axes>"
      ]
     },
     "metadata": {
      "needs_background": "light"
     },
     "output_type": "display_data"
    }
   ],
   "source": [
    "plt.plot(y_test.reset_index(drop=True), 'b')\n",
    "plt.plot(prediction, 'g')\n",
    "plt.grid(True)"
   ]
  },
  {
   "cell_type": "code",
   "execution_count": 86,
   "metadata": {},
   "outputs": [],
   "source": [
    "validation = model.predict(x_validation)"
   ]
  },
  {
   "cell_type": "code",
   "execution_count": 87,
   "metadata": {},
   "outputs": [
    {
     "name": "stdout",
     "output_type": "stream",
     "text": [
      "Validation:\n",
      "0.08832\n"
     ]
    }
   ],
   "source": [
    "print('Validation:')\n",
    "print(np.sqrt(mean_squared_error(y_validation, validation)).round(5))"
   ]
  },
  {
   "cell_type": "code",
   "execution_count": 88,
   "metadata": {},
   "outputs": [
    {
     "data": {
      "image/png": "[encoded data removed]",
      "text/plain": [
       "<Figure size 432x288 with 1 Axes>"
      ]
     },
     "metadata": {
      "needs_background": "light"
     },
     "output_type": "display_data"
    }
   ],
   "source": [
    "plt.plot(y_validation, 'b')\n",
    "plt.plot(validation, 'g')\n",
    "plt.grid(True)"
   ]
  },
  {
   "cell_type": "markdown",
   "metadata": {},
   "source": [
    "# Test/validation with 500 epochs"
   ]
  },
  {
   "cell_type": "code",
   "execution_count": 89,
   "metadata": {},
   "outputs": [
    {
     "name": "stdout",
     "output_type": "stream",
     "text": [
      "Train on 28027 samples, validate on 7007 samples\n",
      "Epoch 1/500\n",
      " - 9s - loss: 0.0358 - val_loss: 0.0330\n",
      "Epoch 2/500\n",
      " - 9s - loss: 0.0359 - val_loss: 0.0330\n",
      "Epoch 3/500\n",
      " - 9s - loss: 0.0359 - val_loss: 0.0330\n",
      "Epoch 4/500\n",
      " - 9s - loss: 0.0358 - val_loss: 0.0331\n",
      "Epoch 5/500\n",
      " - 9s - loss: 0.0357 - val_loss: 0.0330\n",
      "Epoch 6/500\n",
      " - 9s - loss: 0.0357 - val_loss: 0.0333\n",
      "Epoch 7/500\n",
      " - 9s - loss: 0.0358 - val_loss: 0.0330\n",
      "Epoch 8/500\n",
      " - 9s - loss: 0.0358 - val_loss: 0.0331\n",
      "Epoch 9/500\n",
      " - 9s - loss: 0.0359 - val_loss: 0.0330\n",
      "Epoch 10/500\n",
      " - 9s - loss: 0.0357 - val_loss: 0.0338\n",
      "Epoch 11/500\n",
      " - 9s - loss: 0.0356 - val_loss: 0.0332\n",
      "Epoch 12/500\n",
      " - 9s - loss: 0.0358 - val_loss: 0.0330\n",
      "Epoch 13/500\n",
      " - 9s - loss: 0.0357 - val_loss: 0.0332\n",
      "Epoch 14/500\n",
      " - 9s - loss: 0.0356 - val_loss: 0.0332\n",
      "Epoch 15/500\n",
      " - 9s - loss: 0.0356 - val_loss: 0.0331\n",
      "Epoch 16/500\n",
      " - 9s - loss: 0.0355 - val_loss: 0.0330\n",
      "Epoch 17/500\n",
      " - 9s - loss: 0.0355 - val_loss: 0.0334\n",
      "Epoch 18/500\n",
      " - 9s - loss: 0.0357 - val_loss: 0.0331\n",
      "Epoch 19/500\n",
      " - 9s - loss: 0.0356 - val_loss: 0.0331\n"
     ]
    }
   ],
   "source": [
    "history = model.fit(\n",
    "    x_train,\n",
    "    y_train,\n",
    "    validation_data=(x_test, y_test),\n",
    "    epochs=500,\n",
    "    verbose=2,\n",
    "    callbacks=[stop_noimprovement],\n",
    "    shuffle=False\n",
    ")"
   ]
  },
  {
   "cell_type": "code",
   "execution_count": 90,
   "metadata": {},
   "outputs": [
    {
     "data": {
      "image/png": "[encoded data removed]",
      "text/plain": [
       "<Figure size 432x288 with 1 Axes>"
      ]
     },
     "metadata": {
      "needs_background": "light"
     },
     "output_type": "display_data"
    }
   ],
   "source": [
    "plt.plot(history.history['loss'], label='train')\n",
    "plt.plot(history.history['val_loss'], label='test')\n",
    "plt.legend()\n",
    "plt.grid(True)\n",
    "plt.show()"
   ]
  },
  {
   "cell_type": "code",
   "execution_count": 91,
   "metadata": {},
   "outputs": [],
   "source": [
    "prediction = model.predict(x_test)"
   ]
  },
  {
   "cell_type": "code",
   "execution_count": 92,
   "metadata": {},
   "outputs": [
    {
     "name": "stdout",
     "output_type": "stream",
     "text": [
      "Test:\n",
      "0.05076\n"
     ]
    }
   ],
   "source": [
    "print('Test:')\n",
    "print(np.sqrt(mean_squared_error(y_test, prediction)).round(5))"
   ]
  },
  {
   "cell_type": "code",
   "execution_count": 93,
   "metadata": {},
   "outputs": [
    {
     "data": {
      "image/png": "[encoded data removed]",
      "text/plain": [
       "<Figure size 432x288 with 1 Axes>"
      ]
     },
     "metadata": {
      "needs_background": "light"
     },
     "output_type": "display_data"
    }
   ],
   "source": [
    "plt.plot(y_test.reset_index(drop=True), 'b')\n",
    "plt.plot(prediction, 'g')\n",
    "plt.grid(True)"
   ]
  },
  {
   "cell_type": "code",
   "execution_count": 94,
   "metadata": {},
   "outputs": [],
   "source": [
    "validation = model.predict(x_validation)"
   ]
  },
  {
   "cell_type": "code",
   "execution_count": 95,
   "metadata": {},
   "outputs": [
    {
     "name": "stdout",
     "output_type": "stream",
     "text": [
      "Validation:\n",
      "0.08773\n"
     ]
    }
   ],
   "source": [
    "print('Validation:')\n",
    "print(np.sqrt(mean_squared_error(y_validation, validation)).round(5))"
   ]
  },
  {
   "cell_type": "code",
   "execution_count": 96,
   "metadata": {},
   "outputs": [
    {
     "data": {
      "image/png": "[encoded data removed]",
      "text/plain": [
       "<Figure size 432x288 with 1 Axes>"
      ]
     },
     "metadata": {
      "needs_background": "light"
     },
     "output_type": "display_data"
    }
   ],
   "source": [
    "plt.plot(y_validation, 'b')\n",
    "plt.plot(validation, 'g')\n",
    "plt.grid(True)"
   ]
  },
  {
   "cell_type": "markdown",
   "metadata": {},
   "source": [
    "# Test/validation with 1000 epochs"
   ]
  },
  {
   "cell_type": "code",
   "execution_count": 97,
   "metadata": {},
   "outputs": [
    {
     "name": "stdout",
     "output_type": "stream",
     "text": [
      "Train on 28027 samples, validate on 7007 samples\n",
      "Epoch 1/1000\n",
      " - 9s - loss: 0.0356 - val_loss: 0.0330\n",
      "Epoch 2/1000\n",
      " - 9s - loss: 0.0356 - val_loss: 0.0333\n",
      "Epoch 3/1000\n",
      " - 9s - loss: 0.0357 - val_loss: 0.0332\n",
      "Epoch 4/1000\n",
      " - 9s - loss: 0.0356 - val_loss: 0.0333\n",
      "Epoch 5/1000\n",
      " - 9s - loss: 0.0356 - val_loss: 0.0333\n",
      "Epoch 6/1000\n",
      " - 9s - loss: 0.0356 - val_loss: 0.0328\n",
      "Epoch 7/1000\n",
      " - 9s - loss: 0.0355 - val_loss: 0.0334\n",
      "Epoch 8/1000\n",
      " - 9s - loss: 0.0354 - val_loss: 0.0331\n",
      "Epoch 9/1000\n",
      " - 9s - loss: 0.0355 - val_loss: 0.0332\n",
      "Epoch 10/1000\n",
      " - 9s - loss: 0.0354 - val_loss: 0.0331\n",
      "Epoch 11/1000\n",
      " - 9s - loss: 0.0355 - val_loss: 0.0330\n",
      "Epoch 12/1000\n",
      " - 9s - loss: 0.0354 - val_loss: 0.0330\n",
      "Epoch 13/1000\n",
      " - 9s - loss: 0.0354 - val_loss: 0.0334\n",
      "Epoch 14/1000\n",
      " - 9s - loss: 0.0356 - val_loss: 0.0334\n",
      "Epoch 15/1000\n",
      " - 10s - loss: 0.0354 - val_loss: 0.0330\n",
      "Epoch 16/1000\n",
      " - 9s - loss: 0.0355 - val_loss: 0.0332\n"
     ]
    }
   ],
   "source": [
    "history = model.fit(\n",
    "    x_train,\n",
    "    y_train,\n",
    "    validation_data=(x_test, y_test),\n",
    "    epochs=1000,\n",
    "    verbose=2,\n",
    "    callbacks=[stop_noimprovement],\n",
    "    shuffle=False\n",
    ")"
   ]
  },
  {
   "cell_type": "code",
   "execution_count": 98,
   "metadata": {},
   "outputs": [
    {
     "data": {
      "image/png": "[encoded data removed]",
      "text/plain": [
       "<Figure size 432x288 with 1 Axes>"
      ]
     },
     "metadata": {
      "needs_background": "light"
     },
     "output_type": "display_data"
    }
   ],
   "source": [
    "plt.plot(history.history['loss'], label='train')\n",
    "plt.plot(history.history['val_loss'], label='test')\n",
    "plt.legend()\n",
    "plt.grid(True)\n",
    "plt.show()"
   ]
  },
  {
   "cell_type": "code",
   "execution_count": 99,
   "metadata": {},
   "outputs": [],
   "source": [
    "prediction = model.predict(x_test)"
   ]
  },
  {
   "cell_type": "code",
   "execution_count": 100,
   "metadata": {},
   "outputs": [
    {
     "name": "stdout",
     "output_type": "stream",
     "text": [
      "Test:\n",
      "0.05057\n"
     ]
    }
   ],
   "source": [
    "print('Test:')\n",
    "print(np.sqrt(mean_squared_error(y_test, prediction)).round(5))"
   ]
  },
  {
   "cell_type": "code",
   "execution_count": 101,
   "metadata": {},
   "outputs": [
    {
     "data": {
      "image/png": "[encoded data removed]",
      "text/plain": [
       "<Figure size 432x288 with 1 Axes>"
      ]
     },
     "metadata": {
      "needs_background": "light"
     },
     "output_type": "display_data"
    }
   ],
   "source": [
    "plt.plot(y_test.reset_index(drop=True), 'b')\n",
    "plt.plot(prediction, 'g')\n",
    "plt.grid(True)"
   ]
  },
  {
   "cell_type": "code",
   "execution_count": 102,
   "metadata": {},
   "outputs": [],
   "source": [
    "validation = model.predict(x_validation)"
   ]
  },
  {
   "cell_type": "code",
   "execution_count": 103,
   "metadata": {},
   "outputs": [
    {
     "name": "stdout",
     "output_type": "stream",
     "text": [
      "Validation:\n",
      "0.08841\n"
     ]
    }
   ],
   "source": [
    "print('Validation:')\n",
    "print(np.sqrt(mean_squared_error(y_validation, validation)).round(5))"
   ]
  },
  {
   "cell_type": "code",
   "execution_count": 104,
   "metadata": {
    "scrolled": true
   },
   "outputs": [
    {
     "data": {
      "image/png": "[encoded data removed]",
      "text/plain": [
       "<Figure size 432x288 with 1 Axes>"
      ]
     },
     "metadata": {
      "needs_background": "light"
     },
     "output_type": "display_data"
    }
   ],
   "source": [
    "plt.plot(y_validation, 'b')\n",
    "plt.plot(validation, 'g')\n",
    "plt.grid(True)"
   ]
  },
  {
   "cell_type": "markdown",
   "metadata": {},
   "source": [
    "# Lag 10"
   ]
  },
  {
   "cell_type": "code",
   "execution_count": 105,
   "metadata": {},
   "outputs": [
    {
     "data": {
      "text/html": [
       "<div>\n",
       "<style scoped>\n",
       "    .dataframe tbody tr th:only-of-type {\n",
       "        vertical-align: middle;\n",
       "    }\n",
       "\n",
       "    .dataframe tbody tr th {\n",
       "        vertical-align: top;\n",
       "    }\n",
       "\n",
       "    .dataframe thead th {\n",
       "        text-align: right;\n",
       "    }\n",
       "</style>\n",
       "<table border=\"1\" class=\"dataframe\">\n",
       "  <thead>\n",
       "    <tr style=\"text-align: right;\">\n",
       "      <th></th>\n",
       "      <th>var1(t-1)</th>\n",
       "      <th>var2(t-1)</th>\n",
       "      <th>var3(t-1)</th>\n",
       "      <th>var4(t-1)</th>\n",
       "      <th>var5(t-1)</th>\n",
       "      <th>var6(t-1)</th>\n",
       "      <th>var7(t-1)</th>\n",
       "      <th>var8(t-1)</th>\n",
       "      <th>var1(t)</th>\n",
       "      <th>var2(t)</th>\n",
       "      <th>...</th>\n",
       "      <th>var7(t+8)</th>\n",
       "      <th>var8(t+8)</th>\n",
       "      <th>var1(t+9)</th>\n",
       "      <th>var2(t+9)</th>\n",
       "      <th>var3(t+9)</th>\n",
       "      <th>var4(t+9)</th>\n",
       "      <th>var5(t+9)</th>\n",
       "      <th>var6(t+9)</th>\n",
       "      <th>var7(t+9)</th>\n",
       "      <th>var8(t+9)</th>\n",
       "    </tr>\n",
       "  </thead>\n",
       "  <tbody>\n",
       "    <tr>\n",
       "      <th>1</th>\n",
       "      <td>0.129779</td>\n",
       "      <td>0.278689</td>\n",
       "      <td>0.250000</td>\n",
       "      <td>0.527273</td>\n",
       "      <td>0.666667</td>\n",
       "      <td>0.002290</td>\n",
       "      <td>0.000000</td>\n",
       "      <td>0.0</td>\n",
       "      <td>0.148893</td>\n",
       "      <td>0.295082</td>\n",
       "      <td>...</td>\n",
       "      <td>0.000000</td>\n",
       "      <td>0.0</td>\n",
       "      <td>0.140845</td>\n",
       "      <td>0.426230</td>\n",
       "      <td>0.233333</td>\n",
       "      <td>0.636364</td>\n",
       "      <td>0.666667</td>\n",
       "      <td>0.029018</td>\n",
       "      <td>0.037037</td>\n",
       "      <td>0.0</td>\n",
       "    </tr>\n",
       "    <tr>\n",
       "      <th>2</th>\n",
       "      <td>0.148893</td>\n",
       "      <td>0.295082</td>\n",
       "      <td>0.250000</td>\n",
       "      <td>0.527273</td>\n",
       "      <td>0.666667</td>\n",
       "      <td>0.003811</td>\n",
       "      <td>0.000000</td>\n",
       "      <td>0.0</td>\n",
       "      <td>0.159960</td>\n",
       "      <td>0.360656</td>\n",
       "      <td>...</td>\n",
       "      <td>0.037037</td>\n",
       "      <td>0.0</td>\n",
       "      <td>0.152918</td>\n",
       "      <td>0.409836</td>\n",
       "      <td>0.233333</td>\n",
       "      <td>0.636364</td>\n",
       "      <td>0.666667</td>\n",
       "      <td>0.034367</td>\n",
       "      <td>0.000000</td>\n",
       "      <td>0.0</td>\n",
       "    </tr>\n",
       "    <tr>\n",
       "      <th>3</th>\n",
       "      <td>0.159960</td>\n",
       "      <td>0.360656</td>\n",
       "      <td>0.233333</td>\n",
       "      <td>0.545455</td>\n",
       "      <td>0.666667</td>\n",
       "      <td>0.005332</td>\n",
       "      <td>0.000000</td>\n",
       "      <td>0.0</td>\n",
       "      <td>0.182093</td>\n",
       "      <td>0.426230</td>\n",
       "      <td>...</td>\n",
       "      <td>0.000000</td>\n",
       "      <td>0.0</td>\n",
       "      <td>0.148893</td>\n",
       "      <td>0.409836</td>\n",
       "      <td>0.233333</td>\n",
       "      <td>0.636364</td>\n",
       "      <td>0.666667</td>\n",
       "      <td>0.039716</td>\n",
       "      <td>0.000000</td>\n",
       "      <td>0.0</td>\n",
       "    </tr>\n",
       "    <tr>\n",
       "      <th>4</th>\n",
       "      <td>0.182093</td>\n",
       "      <td>0.426230</td>\n",
       "      <td>0.233333</td>\n",
       "      <td>0.563636</td>\n",
       "      <td>0.666667</td>\n",
       "      <td>0.008391</td>\n",
       "      <td>0.037037</td>\n",
       "      <td>0.0</td>\n",
       "      <td>0.138833</td>\n",
       "      <td>0.426230</td>\n",
       "      <td>...</td>\n",
       "      <td>0.000000</td>\n",
       "      <td>0.0</td>\n",
       "      <td>0.164990</td>\n",
       "      <td>0.409836</td>\n",
       "      <td>0.233333</td>\n",
       "      <td>0.618182</td>\n",
       "      <td>0.666667</td>\n",
       "      <td>0.046586</td>\n",
       "      <td>0.000000</td>\n",
       "      <td>0.0</td>\n",
       "    </tr>\n",
       "    <tr>\n",
       "      <th>5</th>\n",
       "      <td>0.138833</td>\n",
       "      <td>0.426230</td>\n",
       "      <td>0.233333</td>\n",
       "      <td>0.563636</td>\n",
       "      <td>0.666667</td>\n",
       "      <td>0.009912</td>\n",
       "      <td>0.074074</td>\n",
       "      <td>0.0</td>\n",
       "      <td>0.109658</td>\n",
       "      <td>0.426230</td>\n",
       "      <td>...</td>\n",
       "      <td>0.000000</td>\n",
       "      <td>0.0</td>\n",
       "      <td>0.158954</td>\n",
       "      <td>0.393443</td>\n",
       "      <td>0.233333</td>\n",
       "      <td>0.618182</td>\n",
       "      <td>0.666667</td>\n",
       "      <td>0.053456</td>\n",
       "      <td>0.000000</td>\n",
       "      <td>0.0</td>\n",
       "    </tr>\n",
       "  </tbody>\n",
       "</table>\n",
       "<p>5 rows × 88 columns</p>\n",
       "</div>"
      ],
      "text/plain": [
       "   var1(t-1)  var2(t-1)  var3(t-1)  var4(t-1)  var5(t-1)  var6(t-1)  \\\n",
       "1   0.129779   0.278689   0.250000   0.527273   0.666667   0.002290   \n",
       "2   0.148893   0.295082   0.250000   0.527273   0.666667   0.003811   \n",
       "3   0.159960   0.360656   0.233333   0.545455   0.666667   0.005332   \n",
       "4   0.182093   0.426230   0.233333   0.563636   0.666667   0.008391   \n",
       "5   0.138833   0.426230   0.233333   0.563636   0.666667   0.009912   \n",
       "\n",
       "   var7(t-1)  var8(t-1)   var1(t)   var2(t)  ...  var7(t+8)  var8(t+8)  \\\n",
       "1   0.000000        0.0  0.148893  0.295082  ...   0.000000        0.0   \n",
       "2   0.000000        0.0  0.159960  0.360656  ...   0.037037        0.0   \n",
       "3   0.000000        0.0  0.182093  0.426230  ...   0.000000        0.0   \n",
       "4   0.037037        0.0  0.138833  0.426230  ...   0.000000        0.0   \n",
       "5   0.074074        0.0  0.109658  0.426230  ...   0.000000        0.0   \n",
       "\n",
       "   var1(t+9)  var2(t+9)  var3(t+9)  var4(t+9)  var5(t+9)  var6(t+9)  \\\n",
       "1   0.140845   0.426230   0.233333   0.636364   0.666667   0.029018   \n",
       "2   0.152918   0.409836   0.233333   0.636364   0.666667   0.034367   \n",
       "3   0.148893   0.409836   0.233333   0.636364   0.666667   0.039716   \n",
       "4   0.164990   0.409836   0.233333   0.618182   0.666667   0.046586   \n",
       "5   0.158954   0.393443   0.233333   0.618182   0.666667   0.053456   \n",
       "\n",
       "   var7(t+9)  var8(t+9)  \n",
       "1   0.037037        0.0  \n",
       "2   0.000000        0.0  \n",
       "3   0.000000        0.0  \n",
       "4   0.000000        0.0  \n",
       "5   0.000000        0.0  \n",
       "\n",
       "[5 rows x 88 columns]"
      ]
     },
     "execution_count": 105,
     "metadata": {},
     "output_type": "execute_result"
    }
   ],
   "source": [
    "data_train_framed = series_to_supervised(data=data_train, out_lag=10)\n",
    "data_train_framed.head(5)"
   ]
  },
  {
   "cell_type": "code",
   "execution_count": 106,
   "metadata": {},
   "outputs": [
    {
     "data": {
      "text/html": [
       "<div>\n",
       "<style scoped>\n",
       "    .dataframe tbody tr th:only-of-type {\n",
       "        vertical-align: middle;\n",
       "    }\n",
       "\n",
       "    .dataframe tbody tr th {\n",
       "        vertical-align: top;\n",
       "    }\n",
       "\n",
       "    .dataframe thead th {\n",
       "        text-align: right;\n",
       "    }\n",
       "</style>\n",
       "<table border=\"1\" class=\"dataframe\">\n",
       "  <thead>\n",
       "    <tr style=\"text-align: right;\">\n",
       "      <th></th>\n",
       "      <th>var1(t-1)</th>\n",
       "      <th>var2(t-1)</th>\n",
       "      <th>var3(t-1)</th>\n",
       "      <th>var4(t-1)</th>\n",
       "      <th>var5(t-1)</th>\n",
       "      <th>var6(t-1)</th>\n",
       "      <th>var7(t-1)</th>\n",
       "      <th>var8(t-1)</th>\n",
       "      <th>var1(t+9)</th>\n",
       "    </tr>\n",
       "  </thead>\n",
       "  <tbody>\n",
       "    <tr>\n",
       "      <th>1</th>\n",
       "      <td>0.129779</td>\n",
       "      <td>0.278689</td>\n",
       "      <td>0.250000</td>\n",
       "      <td>0.527273</td>\n",
       "      <td>0.666667</td>\n",
       "      <td>0.002290</td>\n",
       "      <td>0.000000</td>\n",
       "      <td>0.0</td>\n",
       "      <td>0.140845</td>\n",
       "    </tr>\n",
       "    <tr>\n",
       "      <th>2</th>\n",
       "      <td>0.148893</td>\n",
       "      <td>0.295082</td>\n",
       "      <td>0.250000</td>\n",
       "      <td>0.527273</td>\n",
       "      <td>0.666667</td>\n",
       "      <td>0.003811</td>\n",
       "      <td>0.000000</td>\n",
       "      <td>0.0</td>\n",
       "      <td>0.152918</td>\n",
       "    </tr>\n",
       "    <tr>\n",
       "      <th>3</th>\n",
       "      <td>0.159960</td>\n",
       "      <td>0.360656</td>\n",
       "      <td>0.233333</td>\n",
       "      <td>0.545455</td>\n",
       "      <td>0.666667</td>\n",
       "      <td>0.005332</td>\n",
       "      <td>0.000000</td>\n",
       "      <td>0.0</td>\n",
       "      <td>0.148893</td>\n",
       "    </tr>\n",
       "    <tr>\n",
       "      <th>4</th>\n",
       "      <td>0.182093</td>\n",
       "      <td>0.426230</td>\n",
       "      <td>0.233333</td>\n",
       "      <td>0.563636</td>\n",
       "      <td>0.666667</td>\n",
       "      <td>0.008391</td>\n",
       "      <td>0.037037</td>\n",
       "      <td>0.0</td>\n",
       "      <td>0.164990</td>\n",
       "    </tr>\n",
       "    <tr>\n",
       "      <th>5</th>\n",
       "      <td>0.138833</td>\n",
       "      <td>0.426230</td>\n",
       "      <td>0.233333</td>\n",
       "      <td>0.563636</td>\n",
       "      <td>0.666667</td>\n",
       "      <td>0.009912</td>\n",
       "      <td>0.074074</td>\n",
       "      <td>0.0</td>\n",
       "      <td>0.158954</td>\n",
       "    </tr>\n",
       "  </tbody>\n",
       "</table>\n",
       "</div>"
      ],
      "text/plain": [
       "   var1(t-1)  var2(t-1)  var3(t-1)  var4(t-1)  var5(t-1)  var6(t-1)  \\\n",
       "1   0.129779   0.278689   0.250000   0.527273   0.666667   0.002290   \n",
       "2   0.148893   0.295082   0.250000   0.527273   0.666667   0.003811   \n",
       "3   0.159960   0.360656   0.233333   0.545455   0.666667   0.005332   \n",
       "4   0.182093   0.426230   0.233333   0.563636   0.666667   0.008391   \n",
       "5   0.138833   0.426230   0.233333   0.563636   0.666667   0.009912   \n",
       "\n",
       "   var7(t-1)  var8(t-1)  var1(t+9)  \n",
       "1   0.000000        0.0   0.140845  \n",
       "2   0.000000        0.0   0.152918  \n",
       "3   0.000000        0.0   0.148893  \n",
       "4   0.037037        0.0   0.164990  \n",
       "5   0.074074        0.0   0.158954  "
      ]
     },
     "execution_count": 106,
     "metadata": {},
     "output_type": "execute_result"
    }
   ],
   "source": [
    "data_train_framed.drop(data_train_framed.columns[[\n",
    "    8,9,10,11,12,13,14,15,16,17,18,19,20,21,22,23,24,25,26,27,28,29,30,31,32,33,34,35,36,37,\n",
    "    38,39,40,41,42,43,44,45,46,47,48,49,50,51,52,53,54,55,56,57,58,59,60,61,62,63,64,65,66,67,\n",
    "    68,69,70,71,72,73,74,75,76,77,78,79,81,82,83,84,85,86,87\n",
    "]], axis=1, inplace=True)\n",
    "\n",
    "data_train_framed.head(5)"
   ]
  },
  {
   "cell_type": "code",
   "execution_count": 107,
   "metadata": {},
   "outputs": [],
   "source": [
    "x = data_train_framed.loc[:,[\n",
    "    'var1(t-1)',\n",
    "    'var2(t-1)',\n",
    "    'var3(t-1)',\n",
    "    'var4(t-1)',\n",
    "    'var5(t-1)',\n",
    "    'var6(t-1)',\n",
    "    'var7(t-1)',\n",
    "    'var8(t-1)'\n",
    "]]\n",
    "\n",
    "y = data_train_framed.loc[:,['var1(t+9)']]"
   ]
  },
  {
   "cell_type": "code",
   "execution_count": 108,
   "metadata": {},
   "outputs": [],
   "source": [
    "x_train, x_test, y_train, y_test = split_data(x, y, train_size=0.8)"
   ]
  },
  {
   "cell_type": "code",
   "execution_count": 109,
   "metadata": {},
   "outputs": [
    {
     "name": "stdout",
     "output_type": "stream",
     "text": [
      "(28023, 8, 1) (7006, 8, 1)\n"
     ]
    }
   ],
   "source": [
    "x_train = np.expand_dims(x_train, axis=2)\n",
    "x_test = np.expand_dims(x_test, axis=2)\n",
    "\n",
    "print(x_train.shape, x_test.shape)"
   ]
  },
  {
   "cell_type": "code",
   "execution_count": 110,
   "metadata": {},
   "outputs": [],
   "source": [
    "data_test_framed = series_to_supervised(data=data_test, out_lag=10)"
   ]
  },
  {
   "cell_type": "code",
   "execution_count": 111,
   "metadata": {},
   "outputs": [
    {
     "data": {
      "text/html": [
       "<div>\n",
       "<style scoped>\n",
       "    .dataframe tbody tr th:only-of-type {\n",
       "        vertical-align: middle;\n",
       "    }\n",
       "\n",
       "    .dataframe tbody tr th {\n",
       "        vertical-align: top;\n",
       "    }\n",
       "\n",
       "    .dataframe thead th {\n",
       "        text-align: right;\n",
       "    }\n",
       "</style>\n",
       "<table border=\"1\" class=\"dataframe\">\n",
       "  <thead>\n",
       "    <tr style=\"text-align: right;\">\n",
       "      <th></th>\n",
       "      <th>var1(t-1)</th>\n",
       "      <th>var2(t-1)</th>\n",
       "      <th>var3(t-1)</th>\n",
       "      <th>var4(t-1)</th>\n",
       "      <th>var5(t-1)</th>\n",
       "      <th>var6(t-1)</th>\n",
       "      <th>var7(t-1)</th>\n",
       "      <th>var8(t-1)</th>\n",
       "      <th>var1(t+9)</th>\n",
       "    </tr>\n",
       "  </thead>\n",
       "  <tbody>\n",
       "    <tr>\n",
       "      <th>1</th>\n",
       "      <td>0.034277</td>\n",
       "      <td>0.307692</td>\n",
       "      <td>0.363636</td>\n",
       "      <td>0.456522</td>\n",
       "      <td>0.333333</td>\n",
       "      <td>0.311347</td>\n",
       "      <td>0.0</td>\n",
       "      <td>0.0</td>\n",
       "      <td>0.049180</td>\n",
       "    </tr>\n",
       "    <tr>\n",
       "      <th>2</th>\n",
       "      <td>0.035768</td>\n",
       "      <td>0.307692</td>\n",
       "      <td>0.363636</td>\n",
       "      <td>0.456522</td>\n",
       "      <td>0.333333</td>\n",
       "      <td>0.324530</td>\n",
       "      <td>0.0</td>\n",
       "      <td>0.0</td>\n",
       "      <td>0.076006</td>\n",
       "    </tr>\n",
       "    <tr>\n",
       "      <th>3</th>\n",
       "      <td>0.078987</td>\n",
       "      <td>0.307692</td>\n",
       "      <td>0.363636</td>\n",
       "      <td>0.434783</td>\n",
       "      <td>0.333333</td>\n",
       "      <td>0.333651</td>\n",
       "      <td>0.0</td>\n",
       "      <td>0.0</td>\n",
       "      <td>0.047690</td>\n",
       "    </tr>\n",
       "    <tr>\n",
       "      <th>4</th>\n",
       "      <td>0.096870</td>\n",
       "      <td>0.307692</td>\n",
       "      <td>0.345455</td>\n",
       "      <td>0.434783</td>\n",
       "      <td>0.333333</td>\n",
       "      <td>0.342772</td>\n",
       "      <td>0.0</td>\n",
       "      <td>0.0</td>\n",
       "      <td>0.034277</td>\n",
       "    </tr>\n",
       "    <tr>\n",
       "      <th>5</th>\n",
       "      <td>0.104322</td>\n",
       "      <td>0.307692</td>\n",
       "      <td>0.345455</td>\n",
       "      <td>0.434783</td>\n",
       "      <td>0.333333</td>\n",
       "      <td>0.346834</td>\n",
       "      <td>0.0</td>\n",
       "      <td>0.0</td>\n",
       "      <td>0.041729</td>\n",
       "    </tr>\n",
       "  </tbody>\n",
       "</table>\n",
       "</div>"
      ],
      "text/plain": [
       "   var1(t-1)  var2(t-1)  var3(t-1)  var4(t-1)  var5(t-1)  var6(t-1)  \\\n",
       "1   0.034277   0.307692   0.363636   0.456522   0.333333   0.311347   \n",
       "2   0.035768   0.307692   0.363636   0.456522   0.333333   0.324530   \n",
       "3   0.078987   0.307692   0.363636   0.434783   0.333333   0.333651   \n",
       "4   0.096870   0.307692   0.345455   0.434783   0.333333   0.342772   \n",
       "5   0.104322   0.307692   0.345455   0.434783   0.333333   0.346834   \n",
       "\n",
       "   var7(t-1)  var8(t-1)  var1(t+9)  \n",
       "1        0.0        0.0   0.049180  \n",
       "2        0.0        0.0   0.076006  \n",
       "3        0.0        0.0   0.047690  \n",
       "4        0.0        0.0   0.034277  \n",
       "5        0.0        0.0   0.041729  "
      ]
     },
     "execution_count": 111,
     "metadata": {},
     "output_type": "execute_result"
    }
   ],
   "source": [
    "data_test_framed.drop(data_test_framed.columns[[\n",
    "    8,9,10,11,12,13,14,15,16,17,18,19,20,21,22,23,24,25,26,27,28,29,30,31,32,33,34,35,36,37,\n",
    "    38,39,40,41,42,43,44,45,46,47,48,49,50,51,52,53,54,55,56,57,58,59,60,61,62,63,64,65,66,67,\n",
    "    68,69,70,71,72,73,74,75,76,77,78,79,81,82,83,84,85,86,87\n",
    "]], axis=1, inplace=True)\n",
    "\n",
    "data_test_framed.head(5)"
   ]
  },
  {
   "cell_type": "code",
   "execution_count": 112,
   "metadata": {},
   "outputs": [],
   "source": [
    "x_validation = data_test_framed.loc[:,[\n",
    "    'var1(t-1)',\n",
    "    'var2(t-1)',\n",
    "    'var3(t-1)',\n",
    "    'var4(t-1)',\n",
    "    'var5(t-1)',\n",
    "    'var6(t-1)',\n",
    "    'var7(t-1)',\n",
    "    'var8(t-1)'\n",
    "]]\n",
    "\n",
    "y_validation = data_test_framed.loc[:,['var1(t+9)']]"
   ]
  },
  {
   "cell_type": "code",
   "execution_count": 113,
   "metadata": {},
   "outputs": [],
   "source": [
    "x_validation = np.expand_dims(x_validation, axis=2)"
   ]
  },
  {
   "cell_type": "markdown",
   "metadata": {},
   "source": [
    "# Test/validation with 100 epochs"
   ]
  },
  {
   "cell_type": "code",
   "execution_count": 114,
   "metadata": {},
   "outputs": [
    {
     "name": "stdout",
     "output_type": "stream",
     "text": [
      "Train on 28023 samples, validate on 7006 samples\n",
      "Epoch 1/100\n",
      " - 10s - loss: 0.0491 - val_loss: 0.0447\n",
      "Epoch 2/100\n",
      " - 10s - loss: 0.0490 - val_loss: 0.0449\n",
      "Epoch 3/100\n",
      " - 9s - loss: 0.0489 - val_loss: 0.0444\n",
      "Epoch 4/100\n",
      " - 9s - loss: 0.0487 - val_loss: 0.0452\n",
      "Epoch 5/100\n",
      " - 9s - loss: 0.0486 - val_loss: 0.0444\n",
      "Epoch 6/100\n",
      " - 9s - loss: 0.0486 - val_loss: 0.0449\n",
      "Epoch 7/100\n",
      " - 9s - loss: 0.0486 - val_loss: 0.0446\n",
      "Epoch 8/100\n",
      " - 10s - loss: 0.0485 - val_loss: 0.0441\n",
      "Epoch 9/100\n",
      " - 9s - loss: 0.0485 - val_loss: 0.0450\n",
      "Epoch 10/100\n",
      " - 9s - loss: 0.0483 - val_loss: 0.0448\n",
      "Epoch 11/100\n",
      " - 9s - loss: 0.0484 - val_loss: 0.0454\n",
      "Epoch 12/100\n",
      " - 9s - loss: 0.0485 - val_loss: 0.0448\n",
      "Epoch 13/100\n",
      " - 9s - loss: 0.0484 - val_loss: 0.0451\n",
      "Epoch 14/100\n",
      " - 9s - loss: 0.0484 - val_loss: 0.0445\n",
      "Epoch 15/100\n",
      " - 9s - loss: 0.0483 - val_loss: 0.0452\n",
      "Epoch 16/100\n",
      " - 9s - loss: 0.0483 - val_loss: 0.0445\n",
      "Epoch 17/100\n",
      " - 9s - loss: 0.0482 - val_loss: 0.0450\n",
      "Epoch 18/100\n",
      " - 9s - loss: 0.0483 - val_loss: 0.0444\n"
     ]
    }
   ],
   "source": [
    "history = model.fit(\n",
    "    x_train,\n",
    "    y_train,\n",
    "    validation_data=(x_test, y_test),\n",
    "    epochs=100,\n",
    "    verbose=2,\n",
    "    callbacks=[stop_noimprovement],\n",
    "    shuffle=False\n",
    ")"
   ]
  },
  {
   "cell_type": "code",
   "execution_count": 115,
   "metadata": {},
   "outputs": [
    {
     "data": {
      "image/png": "[encoded data removed]",
      "text/plain": [
       "<Figure size 432x288 with 1 Axes>"
      ]
     },
     "metadata": {
      "needs_background": "light"
     },
     "output_type": "display_data"
    }
   ],
   "source": [
    "plt.plot(history.history['loss'], label='train')\n",
    "plt.plot(history.history['val_loss'], label='test')\n",
    "plt.legend()\n",
    "plt.grid(True)\n",
    "plt.show()"
   ]
  },
  {
   "cell_type": "code",
   "execution_count": 116,
   "metadata": {},
   "outputs": [],
   "source": [
    "prediction = model.predict(x_test)"
   ]
  },
  {
   "cell_type": "code",
   "execution_count": 117,
   "metadata": {},
   "outputs": [
    {
     "name": "stdout",
     "output_type": "stream",
     "text": [
      "Test:\n",
      "0.06383\n"
     ]
    }
   ],
   "source": [
    "print('Test:')\n",
    "print(np.sqrt(mean_squared_error(y_test, prediction)).round(5))"
   ]
  },
  {
   "cell_type": "code",
   "execution_count": 118,
   "metadata": {},
   "outputs": [
    {
     "data": {
      "image/png": "[encoded data removed]",
      "text/plain": [
       "<Figure size 432x288 with 1 Axes>"
      ]
     },
     "metadata": {
      "needs_background": "light"
     },
     "output_type": "display_data"
    }
   ],
   "source": [
    "plt.plot(y_test.reset_index(drop=True), 'b')\n",
    "plt.plot(prediction, 'g')\n",
    "plt.grid(True)"
   ]
  },
  {
   "cell_type": "code",
   "execution_count": 119,
   "metadata": {},
   "outputs": [],
   "source": [
    "validation = model.predict(x_validation)"
   ]
  },
  {
   "cell_type": "code",
   "execution_count": 120,
   "metadata": {},
   "outputs": [
    {
     "name": "stdout",
     "output_type": "stream",
     "text": [
      "Validation:\n",
      "0.11348\n"
     ]
    }
   ],
   "source": [
    "print('Validation:')\n",
    "print(np.sqrt(mean_squared_error(y_validation, validation)).round(5))"
   ]
  },
  {
   "cell_type": "code",
   "execution_count": 121,
   "metadata": {},
   "outputs": [
    {
     "data": {
      "image/png": "[encoded data removed]",
      "text/plain": [
       "<Figure size 432x288 with 1 Axes>"
      ]
     },
     "metadata": {
      "needs_background": "light"
     },
     "output_type": "display_data"
    }
   ],
   "source": [
    "plt.plot(y_validation, 'b')\n",
    "plt.plot(validation, 'g')\n",
    "plt.grid(True)"
   ]
  },
  {
   "cell_type": "markdown",
   "metadata": {},
   "source": [
    "# Test/validation with 500 epochs"
   ]
  },
  {
   "cell_type": "code",
   "execution_count": 122,
   "metadata": {},
   "outputs": [
    {
     "name": "stdout",
     "output_type": "stream",
     "text": [
      "Train on 28023 samples, validate on 7006 samples\n",
      "Epoch 1/500\n",
      " - 9s - loss: 0.0483 - val_loss: 0.0444\n",
      "Epoch 2/500\n",
      " - 9s - loss: 0.0482 - val_loss: 0.0444\n",
      "Epoch 3/500\n",
      " - 9s - loss: 0.0482 - val_loss: 0.0449\n",
      "Epoch 4/500\n",
      " - 9s - loss: 0.0482 - val_loss: 0.0444\n",
      "Epoch 5/500\n",
      " - 9s - loss: 0.0482 - val_loss: 0.0448\n",
      "Epoch 6/500\n",
      " - 9s - loss: 0.0481 - val_loss: 0.0445\n",
      "Epoch 7/500\n",
      " - 9s - loss: 0.0482 - val_loss: 0.0449\n",
      "Epoch 8/500\n",
      " - 9s - loss: 0.0482 - val_loss: 0.0446\n",
      "Epoch 9/500\n",
      " - 9s - loss: 0.0482 - val_loss: 0.0441\n",
      "Epoch 10/500\n",
      " - 9s - loss: 0.0481 - val_loss: 0.0449\n",
      "Epoch 11/500\n",
      " - 9s - loss: 0.0481 - val_loss: 0.0445\n",
      "Epoch 12/500\n",
      " - 9s - loss: 0.0481 - val_loss: 0.0443\n",
      "Epoch 13/500\n",
      " - 9s - loss: 0.0481 - val_loss: 0.0446\n",
      "Epoch 14/500\n",
      " - 9s - loss: 0.0482 - val_loss: 0.0445\n",
      "Epoch 15/500\n",
      " - 9s - loss: 0.0480 - val_loss: 0.0441\n",
      "Epoch 16/500\n",
      " - 9s - loss: 0.0482 - val_loss: 0.0444\n",
      "Epoch 17/500\n",
      " - 9s - loss: 0.0481 - val_loss: 0.0440\n",
      "Epoch 18/500\n",
      " - 9s - loss: 0.0479 - val_loss: 0.0443\n",
      "Epoch 19/500\n",
      " - 9s - loss: 0.0480 - val_loss: 0.0446\n",
      "Epoch 20/500\n",
      " - 9s - loss: 0.0480 - val_loss: 0.0444\n",
      "Epoch 21/500\n",
      " - 9s - loss: 0.0480 - val_loss: 0.0440\n",
      "Epoch 22/500\n",
      " - 9s - loss: 0.0480 - val_loss: 0.0442\n",
      "Epoch 23/500\n",
      " - 9s - loss: 0.0480 - val_loss: 0.0441\n",
      "Epoch 24/500\n",
      " - 9s - loss: 0.0479 - val_loss: 0.0441\n",
      "Epoch 25/500\n",
      " - 9s - loss: 0.0479 - val_loss: 0.0440\n",
      "Epoch 26/500\n",
      " - 9s - loss: 0.0477 - val_loss: 0.0441\n",
      "Epoch 27/500\n",
      " - 9s - loss: 0.0478 - val_loss: 0.0443\n"
     ]
    }
   ],
   "source": [
    "history = model.fit(\n",
    "    x_train,\n",
    "    y_train,\n",
    "    validation_data=(x_test, y_test),\n",
    "    epochs=500,\n",
    "    verbose=2,\n",
    "    callbacks=[stop_noimprovement],\n",
    "    shuffle=False\n",
    ")"
   ]
  },
  {
   "cell_type": "code",
   "execution_count": 123,
   "metadata": {},
   "outputs": [
    {
     "data": {
      "image/png": "[encoded data removed]",
      "text/plain": [
       "<Figure size 432x288 with 1 Axes>"
      ]
     },
     "metadata": {
      "needs_background": "light"
     },
     "output_type": "display_data"
    }
   ],
   "source": [
    "plt.plot(history.history['loss'], label='train')\n",
    "plt.plot(history.history['val_loss'], label='test')\n",
    "plt.legend()\n",
    "plt.grid(True)\n",
    "plt.show()"
   ]
  },
  {
   "cell_type": "code",
   "execution_count": 124,
   "metadata": {},
   "outputs": [],
   "source": [
    "prediction = model.predict(x_test)"
   ]
  },
  {
   "cell_type": "code",
   "execution_count": 125,
   "metadata": {},
   "outputs": [
    {
     "name": "stdout",
     "output_type": "stream",
     "text": [
      "Test:\n",
      "0.06357\n"
     ]
    }
   ],
   "source": [
    "print('Test:')\n",
    "print(np.sqrt(mean_squared_error(y_test, prediction)).round(5))"
   ]
  },
  {
   "cell_type": "code",
   "execution_count": 126,
   "metadata": {},
   "outputs": [
    {
     "data": {
      "image/png": "[encoded data removed]",
      "text/plain": [
       "<Figure size 432x288 with 1 Axes>"
      ]
     },
     "metadata": {
      "needs_background": "light"
     },
     "output_type": "display_data"
    }
   ],
   "source": [
    "plt.plot(y_test.reset_index(drop=True), 'b')\n",
    "plt.plot(prediction, 'g')\n",
    "plt.grid(True)"
   ]
  },
  {
   "cell_type": "code",
   "execution_count": 127,
   "metadata": {},
   "outputs": [],
   "source": [
    "validation = model.predict(x_validation)"
   ]
  },
  {
   "cell_type": "code",
   "execution_count": 128,
   "metadata": {},
   "outputs": [
    {
     "name": "stdout",
     "output_type": "stream",
     "text": [
      "Validation:\n",
      "0.1129\n"
     ]
    }
   ],
   "source": [
    "print('Validation:')\n",
    "print(np.sqrt(mean_squared_error(y_validation, validation)).round(5))"
   ]
  },
  {
   "cell_type": "code",
   "execution_count": 129,
   "metadata": {},
   "outputs": [
    {
     "data": {
      "image/png": "[encoded data removed]",
      "text/plain": [
       "<Figure size 432x288 with 1 Axes>"
      ]
     },
     "metadata": {
      "needs_background": "light"
     },
     "output_type": "display_data"
    }
   ],
   "source": [
    "plt.plot(y_validation, 'b')\n",
    "plt.plot(validation, 'g')\n",
    "plt.grid(True)"
   ]
  },
  {
   "cell_type": "markdown",
   "metadata": {},
   "source": [
    "# Test/validation with 1000 epochs"
   ]
  },
  {
   "cell_type": "code",
   "execution_count": 130,
   "metadata": {},
   "outputs": [
    {
     "name": "stdout",
     "output_type": "stream",
     "text": [
      "Train on 28023 samples, validate on 7006 samples\n",
      "Epoch 1/1000\n",
      " - 9s - loss: 0.0479 - val_loss: 0.0440\n",
      "Epoch 2/1000\n",
      " - 9s - loss: 0.0479 - val_loss: 0.0440\n",
      "Epoch 3/1000\n",
      " - 9s - loss: 0.0478 - val_loss: 0.0439\n",
      "Epoch 4/1000\n",
      " - 9s - loss: 0.0478 - val_loss: 0.0439\n",
      "Epoch 5/1000\n",
      " - 9s - loss: 0.0479 - val_loss: 0.0440\n",
      "Epoch 6/1000\n",
      " - 9s - loss: 0.0477 - val_loss: 0.0439\n",
      "Epoch 7/1000\n",
      " - 9s - loss: 0.0477 - val_loss: 0.0436\n",
      "Epoch 8/1000\n",
      " - 9s - loss: 0.0478 - val_loss: 0.0438\n",
      "Epoch 9/1000\n",
      " - 9s - loss: 0.0478 - val_loss: 0.0438\n",
      "Epoch 10/1000\n",
      " - 9s - loss: 0.0478 - val_loss: 0.0436\n",
      "Epoch 11/1000\n",
      " - 9s - loss: 0.0477 - val_loss: 0.0437\n",
      "Epoch 12/1000\n",
      " - 9s - loss: 0.0476 - val_loss: 0.0435\n",
      "Epoch 13/1000\n",
      " - 9s - loss: 0.0477 - val_loss: 0.0438\n",
      "Epoch 14/1000\n",
      " - 9s - loss: 0.0477 - val_loss: 0.0439\n",
      "Epoch 15/1000\n",
      " - 9s - loss: 0.0477 - val_loss: 0.0438\n",
      "Epoch 16/1000\n",
      " - 9s - loss: 0.0478 - val_loss: 0.0437\n",
      "Epoch 17/1000\n",
      " - 9s - loss: 0.0476 - val_loss: 0.0436\n",
      "Epoch 18/1000\n",
      " - 9s - loss: 0.0475 - val_loss: 0.0439\n",
      "Epoch 19/1000\n",
      " - 9s - loss: 0.0475 - val_loss: 0.0438\n",
      "Epoch 20/1000\n",
      " - 9s - loss: 0.0475 - val_loss: 0.0439\n",
      "Epoch 21/1000\n",
      " - 9s - loss: 0.0477 - val_loss: 0.0437\n",
      "Epoch 22/1000\n",
      " - 9s - loss: 0.0476 - val_loss: 0.0438\n"
     ]
    }
   ],
   "source": [
    "history = model.fit(\n",
    "    x_train,\n",
    "    y_train,\n",
    "    validation_data=(x_test, y_test),\n",
    "    epochs=1000,\n",
    "    verbose=2,\n",
    "    callbacks=[stop_noimprovement],\n",
    "    shuffle=False\n",
    ")"
   ]
  },
  {
   "cell_type": "code",
   "execution_count": 131,
   "metadata": {},
   "outputs": [
    {
     "data": {
      "image/png": "[encoded data removed]",
      "text/plain": [
       "<Figure size 432x288 with 1 Axes>"
      ]
     },
     "metadata": {
      "needs_background": "light"
     },
     "output_type": "display_data"
    }
   ],
   "source": [
    "plt.plot(history.history['loss'], label='train')\n",
    "plt.plot(history.history['val_loss'], label='test')\n",
    "plt.legend()\n",
    "plt.grid(True)\n",
    "plt.show()"
   ]
  },
  {
   "cell_type": "code",
   "execution_count": 132,
   "metadata": {},
   "outputs": [],
   "source": [
    "prediction = model.predict(x_test)"
   ]
  },
  {
   "cell_type": "code",
   "execution_count": 133,
   "metadata": {},
   "outputs": [
    {
     "name": "stdout",
     "output_type": "stream",
     "text": [
      "Test:\n",
      "0.06356\n"
     ]
    }
   ],
   "source": [
    "print('Test:')\n",
    "print(np.sqrt(mean_squared_error(y_test, prediction)).round(5))"
   ]
  },
  {
   "cell_type": "code",
   "execution_count": 134,
   "metadata": {},
   "outputs": [
    {
     "data": {
      "image/png": "[encoded data removed]",
      "text/plain": [
       "<Figure size 432x288 with 1 Axes>"
      ]
     },
     "metadata": {
      "needs_background": "light"
     },
     "output_type": "display_data"
    }
   ],
   "source": [
    "plt.plot(y_test.reset_index(drop=True), 'b')\n",
    "plt.plot(prediction, 'g')\n",
    "plt.grid(True)"
   ]
  },
  {
   "cell_type": "code",
   "execution_count": 135,
   "metadata": {},
   "outputs": [],
   "source": [
    "validation = model.predict(x_validation)"
   ]
  },
  {
   "cell_type": "code",
   "execution_count": 136,
   "metadata": {},
   "outputs": [
    {
     "name": "stdout",
     "output_type": "stream",
     "text": [
      "Validation:\n",
      "0.11276\n"
     ]
    }
   ],
   "source": [
    "print('Validation:')\n",
    "print(np.sqrt(mean_squared_error(y_validation, validation)).round(5))"
   ]
  },
  {
   "cell_type": "code",
   "execution_count": 137,
   "metadata": {},
   "outputs": [
    {
     "data": {
      "image/png": "[encoded data removed]",
      "text/plain": [
       "<Figure size 432x288 with 1 Axes>"
      ]
     },
     "metadata": {
      "needs_background": "light"
     },
     "output_type": "display_data"
    }
   ],
   "source": [
    "plt.plot(y_validation, 'b')\n",
    "plt.plot(validation, 'g')\n",
    "plt.grid(True)"
   ]
  },
  {
   "cell_type": "code",
   "execution_count": null,
   "metadata": {},
   "outputs": [],
   "source": []
  }
 ],
 "metadata": {
  "kernelspec": {
   "display_name": "Python 3",
   "language": "python",
   "name": "python3"
  },
  "language_info": {
   "codemirror_mode": {
    "name": "ipython",
    "version": 3
   },
   "file_extension": ".py",
   "mimetype": "text/x-python",
   "name": "python",
   "nbconvert_exporter": "python",
   "pygments_lexer": "ipython3",
   "version": "3.7.3"
  }
 },
 "nbformat": 4,
 "nbformat_minor": 2
}
