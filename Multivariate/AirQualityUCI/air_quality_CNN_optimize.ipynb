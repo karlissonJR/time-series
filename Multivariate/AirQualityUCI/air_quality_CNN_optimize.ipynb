{
 "cells": [
  {
   "cell_type": "code",
   "execution_count": 1,
   "metadata": {},
   "outputs": [
    {
     "name": "stderr",
     "output_type": "stream",
     "text": [
      "Using TensorFlow backend.\n"
     ]
    }
   ],
   "source": [
    "import pandas as pd\n",
    "import numpy as np\n",
    "import matplotlib.pyplot as plt\n",
    "\n",
    "from sklearn.metrics import mean_squared_error\n",
    "\n",
    "from keras.models import Sequential\n",
    "from keras.layers import Dense\n",
    "from keras.layers import Conv1D\n",
    "from keras.layers import MaxPooling1D\n",
    "from keras.layers import Flatten\n",
    "from keras.layers import Dropout"
   ]
  },
  {
   "cell_type": "code",
   "execution_count": 2,
   "metadata": {},
   "outputs": [],
   "source": [
    "data_train = pd.read_csv('air_quality_train.csv')\n",
    "data_test = pd.read_csv('air_quality_test.csv')"
   ]
  },
  {
   "cell_type": "code",
   "execution_count": 3,
   "metadata": {},
   "outputs": [
    {
     "data": {
      "text/html": [
       "<div>\n",
       "<style scoped>\n",
       "    .dataframe tbody tr th:only-of-type {\n",
       "        vertical-align: middle;\n",
       "    }\n",
       "\n",
       "    .dataframe tbody tr th {\n",
       "        vertical-align: top;\n",
       "    }\n",
       "\n",
       "    .dataframe thead th {\n",
       "        text-align: right;\n",
       "    }\n",
       "</style>\n",
       "<table border=\"1\" class=\"dataframe\">\n",
       "  <thead>\n",
       "    <tr style=\"text-align: right;\">\n",
       "      <th></th>\n",
       "      <th>Unnamed: 0</th>\n",
       "      <th>var1(t-1)</th>\n",
       "      <th>var2(t-1)</th>\n",
       "      <th>var3(t-1)</th>\n",
       "      <th>var4(t-1)</th>\n",
       "      <th>var5(t-1)</th>\n",
       "      <th>var6(t-1)</th>\n",
       "      <th>var7(t-1)</th>\n",
       "      <th>var8(t-1)</th>\n",
       "      <th>var9(t-1)</th>\n",
       "      <th>var10(t-1)</th>\n",
       "      <th>var11(t-1)</th>\n",
       "      <th>var12(t-1)</th>\n",
       "    </tr>\n",
       "  </thead>\n",
       "  <tbody>\n",
       "    <tr>\n",
       "      <th>0</th>\n",
       "      <td>0</td>\n",
       "      <td>0.211864</td>\n",
       "      <td>0.511845</td>\n",
       "      <td>0.185535</td>\n",
       "      <td>0.362097</td>\n",
       "      <td>0.111036</td>\n",
       "      <td>0.310885</td>\n",
       "      <td>0.328402</td>\n",
       "      <td>0.513040</td>\n",
       "      <td>0.454822</td>\n",
       "      <td>0.333333</td>\n",
       "      <td>0.499371</td>\n",
       "      <td>0.280066</td>\n",
       "    </tr>\n",
       "    <tr>\n",
       "      <th>1</th>\n",
       "      <td>1</td>\n",
       "      <td>0.161017</td>\n",
       "      <td>0.463029</td>\n",
       "      <td>0.146226</td>\n",
       "      <td>0.312398</td>\n",
       "      <td>0.068382</td>\n",
       "      <td>0.360864</td>\n",
       "      <td>0.266272</td>\n",
       "      <td>0.453237</td>\n",
       "      <td>0.326238</td>\n",
       "      <td>0.326882</td>\n",
       "      <td>0.484277</td>\n",
       "      <td>0.264282</td>\n",
       "    </tr>\n",
       "    <tr>\n",
       "      <th>2</th>\n",
       "      <td>2</td>\n",
       "      <td>0.177966</td>\n",
       "      <td>0.541996</td>\n",
       "      <td>0.139937</td>\n",
       "      <td>0.303659</td>\n",
       "      <td>0.087339</td>\n",
       "      <td>0.346463</td>\n",
       "      <td>0.331361</td>\n",
       "      <td>0.451439</td>\n",
       "      <td>0.370547</td>\n",
       "      <td>0.296774</td>\n",
       "      <td>0.563522</td>\n",
       "      <td>0.276352</td>\n",
       "    </tr>\n",
       "    <tr>\n",
       "      <th>3</th>\n",
       "      <td>3</td>\n",
       "      <td>0.177966</td>\n",
       "      <td>0.523331</td>\n",
       "      <td>0.143082</td>\n",
       "      <td>0.308575</td>\n",
       "      <td>0.115098</td>\n",
       "      <td>0.326133</td>\n",
       "      <td>0.355030</td>\n",
       "      <td>0.464478</td>\n",
       "      <td>0.426586</td>\n",
       "      <td>0.277419</td>\n",
       "      <td>0.638994</td>\n",
       "      <td>0.294190</td>\n",
       "    </tr>\n",
       "    <tr>\n",
       "      <th>4</th>\n",
       "      <td>4</td>\n",
       "      <td>0.127119</td>\n",
       "      <td>0.448672</td>\n",
       "      <td>0.100629</td>\n",
       "      <td>0.247406</td>\n",
       "      <td>0.087339</td>\n",
       "      <td>0.373994</td>\n",
       "      <td>0.337278</td>\n",
       "      <td>0.422212</td>\n",
       "      <td>0.386186</td>\n",
       "      <td>0.281720</td>\n",
       "      <td>0.633962</td>\n",
       "      <td>0.295216</td>\n",
       "    </tr>\n",
       "  </tbody>\n",
       "</table>\n",
       "</div>"
      ],
      "text/plain": [
       "   Unnamed: 0  var1(t-1)  var2(t-1)  var3(t-1)  var4(t-1)  var5(t-1)  \\\n",
       "0           0   0.211864   0.511845   0.185535   0.362097   0.111036   \n",
       "1           1   0.161017   0.463029   0.146226   0.312398   0.068382   \n",
       "2           2   0.177966   0.541996   0.139937   0.303659   0.087339   \n",
       "3           3   0.177966   0.523331   0.143082   0.308575   0.115098   \n",
       "4           4   0.127119   0.448672   0.100629   0.247406   0.087339   \n",
       "\n",
       "   var6(t-1)  var7(t-1)  var8(t-1)  var9(t-1)  var10(t-1)  var11(t-1)  \\\n",
       "0   0.310885   0.328402   0.513040   0.454822    0.333333    0.499371   \n",
       "1   0.360864   0.266272   0.453237   0.326238    0.326882    0.484277   \n",
       "2   0.346463   0.331361   0.451439   0.370547    0.296774    0.563522   \n",
       "3   0.326133   0.355030   0.464478   0.426586    0.277419    0.638994   \n",
       "4   0.373994   0.337278   0.422212   0.386186    0.281720    0.633962   \n",
       "\n",
       "   var12(t-1)  \n",
       "0    0.280066  \n",
       "1    0.264282  \n",
       "2    0.276352  \n",
       "3    0.294190  \n",
       "4    0.295216  "
      ]
     },
     "execution_count": 3,
     "metadata": {},
     "output_type": "execute_result"
    }
   ],
   "source": [
    "data_train.head(5)"
   ]
  },
  {
   "cell_type": "code",
   "execution_count": 4,
   "metadata": {},
   "outputs": [],
   "source": [
    "data_train.drop('Unnamed: 0', axis=1, inplace=True)\n",
    "data_test.drop('Unnamed: 0', axis=1, inplace=True)"
   ]
  },
  {
   "cell_type": "code",
   "execution_count": 78,
   "metadata": {},
   "outputs": [],
   "source": [
    "def series_to_supervised(data, in_lag=1, out_lag=1, dropnan=True):\n",
    "    n_vars = 1 if type(data) is list else data.shape[1]\n",
    "    df = pd.DataFrame(data)\n",
    "    cols, names = list(), list()\n",
    "\n",
    "    for i in range(in_lag, 0, -1):\n",
    "        cols.append(df.shift(i))\n",
    "        names += [('var%d(t-%d)' % (j+1, i)) for j in range(n_vars)]\n",
    "        \n",
    "    for i in range(0, out_lag):\n",
    "        cols.append(df.shift(-i))\n",
    "        if i == 0:\n",
    "            names += [('var%d(t)' % (j+1)) for j in range(n_vars)]\n",
    "        else:\n",
    "            names += [('var%d(t+%d)' % (j+1, i)) for j in range(n_vars)]\n",
    "    \n",
    "    new_df = pd.concat(cols, axis=1)\n",
    "    new_df.columns = names\n",
    "    \n",
    "    if dropnan:\n",
    "        new_df.dropna(inplace=True)\n",
    "    return new_df"
   ]
  },
  {
   "cell_type": "markdown",
   "metadata": {},
   "source": [
    "# lag = 1"
   ]
  },
  {
   "cell_type": "markdown",
   "metadata": {},
   "source": [
    "# Framing data test"
   ]
  },
  {
   "cell_type": "code",
   "execution_count": 6,
   "metadata": {},
   "outputs": [],
   "source": [
    "data_test_framed = series_to_supervised(data_test)"
   ]
  },
  {
   "cell_type": "code",
   "execution_count": 7,
   "metadata": {},
   "outputs": [
    {
     "data": {
      "text/html": [
       "<div>\n",
       "<style scoped>\n",
       "    .dataframe tbody tr th:only-of-type {\n",
       "        vertical-align: middle;\n",
       "    }\n",
       "\n",
       "    .dataframe tbody tr th {\n",
       "        vertical-align: top;\n",
       "    }\n",
       "\n",
       "    .dataframe thead th {\n",
       "        text-align: right;\n",
       "    }\n",
       "</style>\n",
       "<table border=\"1\" class=\"dataframe\">\n",
       "  <thead>\n",
       "    <tr style=\"text-align: right;\">\n",
       "      <th></th>\n",
       "      <th>var1(t-1)</th>\n",
       "      <th>var2(t-1)</th>\n",
       "      <th>var3(t-1)</th>\n",
       "      <th>var4(t-1)</th>\n",
       "      <th>var5(t-1)</th>\n",
       "      <th>var6(t-1)</th>\n",
       "      <th>var7(t-1)</th>\n",
       "      <th>var8(t-1)</th>\n",
       "      <th>var9(t-1)</th>\n",
       "      <th>var10(t-1)</th>\n",
       "      <th>var11(t-1)</th>\n",
       "      <th>var12(t-1)</th>\n",
       "      <th>var12(t)</th>\n",
       "    </tr>\n",
       "  </thead>\n",
       "  <tbody>\n",
       "    <tr>\n",
       "      <th>1</th>\n",
       "      <td>0.059322</td>\n",
       "      <td>0.123475</td>\n",
       "      <td>0.028302</td>\n",
       "      <td>0.105407</td>\n",
       "      <td>0.075829</td>\n",
       "      <td>0.347310</td>\n",
       "      <td>0.245562</td>\n",
       "      <td>0.116007</td>\n",
       "      <td>0.117724</td>\n",
       "      <td>0.286022</td>\n",
       "      <td>0.286792</td>\n",
       "      <td>0.120364</td>\n",
       "      <td>0.121536</td>\n",
       "    </tr>\n",
       "    <tr>\n",
       "      <th>2</th>\n",
       "      <td>0.050847</td>\n",
       "      <td>0.133525</td>\n",
       "      <td>0.029874</td>\n",
       "      <td>0.109776</td>\n",
       "      <td>0.071090</td>\n",
       "      <td>0.348158</td>\n",
       "      <td>0.230769</td>\n",
       "      <td>0.121403</td>\n",
       "      <td>0.105126</td>\n",
       "      <td>0.283871</td>\n",
       "      <td>0.293082</td>\n",
       "      <td>0.121536</td>\n",
       "      <td>0.121390</td>\n",
       "    </tr>\n",
       "    <tr>\n",
       "      <th>3</th>\n",
       "      <td>0.084746</td>\n",
       "      <td>0.165111</td>\n",
       "      <td>0.042453</td>\n",
       "      <td>0.141453</td>\n",
       "      <td>0.117806</td>\n",
       "      <td>0.302838</td>\n",
       "      <td>0.325444</td>\n",
       "      <td>0.138489</td>\n",
       "      <td>0.149435</td>\n",
       "      <td>0.277419</td>\n",
       "      <td>0.299371</td>\n",
       "      <td>0.121390</td>\n",
       "      <td>0.123638</td>\n",
       "    </tr>\n",
       "    <tr>\n",
       "      <th>4</th>\n",
       "      <td>0.084746</td>\n",
       "      <td>0.175879</td>\n",
       "      <td>0.050314</td>\n",
       "      <td>0.155653</td>\n",
       "      <td>0.120515</td>\n",
       "      <td>0.294367</td>\n",
       "      <td>0.352071</td>\n",
       "      <td>0.144335</td>\n",
       "      <td>0.178540</td>\n",
       "      <td>0.262366</td>\n",
       "      <td>0.324528</td>\n",
       "      <td>0.123638</td>\n",
       "      <td>0.131701</td>\n",
       "    </tr>\n",
       "    <tr>\n",
       "      <th>5</th>\n",
       "      <td>0.093220</td>\n",
       "      <td>0.180905</td>\n",
       "      <td>0.051887</td>\n",
       "      <td>0.158930</td>\n",
       "      <td>0.142180</td>\n",
       "      <td>0.288014</td>\n",
       "      <td>0.384615</td>\n",
       "      <td>0.153777</td>\n",
       "      <td>0.204170</td>\n",
       "      <td>0.221505</td>\n",
       "      <td>0.398742</td>\n",
       "      <td>0.131701</td>\n",
       "      <td>0.116356</td>\n",
       "    </tr>\n",
       "  </tbody>\n",
       "</table>\n",
       "</div>"
      ],
      "text/plain": [
       "   var1(t-1)  var2(t-1)  var3(t-1)  var4(t-1)  var5(t-1)  var6(t-1)  \\\n",
       "1   0.059322   0.123475   0.028302   0.105407   0.075829   0.347310   \n",
       "2   0.050847   0.133525   0.029874   0.109776   0.071090   0.348158   \n",
       "3   0.084746   0.165111   0.042453   0.141453   0.117806   0.302838   \n",
       "4   0.084746   0.175879   0.050314   0.155653   0.120515   0.294367   \n",
       "5   0.093220   0.180905   0.051887   0.158930   0.142180   0.288014   \n",
       "\n",
       "   var7(t-1)  var8(t-1)  var9(t-1)  var10(t-1)  var11(t-1)  var12(t-1)  \\\n",
       "1   0.245562   0.116007   0.117724    0.286022    0.286792    0.120364   \n",
       "2   0.230769   0.121403   0.105126    0.283871    0.293082    0.121536   \n",
       "3   0.325444   0.138489   0.149435    0.277419    0.299371    0.121390   \n",
       "4   0.352071   0.144335   0.178540    0.262366    0.324528    0.123638   \n",
       "5   0.384615   0.153777   0.204170    0.221505    0.398742    0.131701   \n",
       "\n",
       "   var12(t)  \n",
       "1  0.121536  \n",
       "2  0.121390  \n",
       "3  0.123638  \n",
       "4  0.131701  \n",
       "5  0.116356  "
      ]
     },
     "execution_count": 7,
     "metadata": {},
     "output_type": "execute_result"
    }
   ],
   "source": [
    "data_test_framed.drop(data_test_framed.columns[[12,13,14,15,16,17,18,19,20,21,22]], axis=1, inplace=True)\n",
    "data_test_framed.head(5)"
   ]
  },
  {
   "cell_type": "code",
   "execution_count": 8,
   "metadata": {},
   "outputs": [],
   "source": [
    "x_validation = data_test_framed.loc[:,[\n",
    "    'var1(t-1)',\n",
    "    'var2(t-1)',\n",
    "    'var3(t-1)',\n",
    "    'var4(t-1)',\n",
    "    'var5(t-1)',\n",
    "    'var6(t-1)',\n",
    "    'var7(t-1)',\n",
    "    'var8(t-1)',\n",
    "    'var9(t-1)',\n",
    "    'var10(t-1)',\n",
    "    'var11(t-1)',\n",
    "    'var12(t-1)'\n",
    "]]\n",
    "\n",
    "y_validation = data_test_framed.loc[:,['var12(t)']]"
   ]
  },
  {
   "cell_type": "code",
   "execution_count": 9,
   "metadata": {},
   "outputs": [],
   "source": [
    "x_validation = np.expand_dims(x_validation, axis=2)"
   ]
  },
  {
   "cell_type": "code",
   "execution_count": 10,
   "metadata": {},
   "outputs": [
    {
     "data": {
      "text/html": [
       "<div>\n",
       "<style scoped>\n",
       "    .dataframe tbody tr th:only-of-type {\n",
       "        vertical-align: middle;\n",
       "    }\n",
       "\n",
       "    .dataframe tbody tr th {\n",
       "        vertical-align: top;\n",
       "    }\n",
       "\n",
       "    .dataframe thead th {\n",
       "        text-align: right;\n",
       "    }\n",
       "</style>\n",
       "<table border=\"1\" class=\"dataframe\">\n",
       "  <thead>\n",
       "    <tr style=\"text-align: right;\">\n",
       "      <th></th>\n",
       "      <th>var1(t-1)</th>\n",
       "      <th>var2(t-1)</th>\n",
       "      <th>var3(t-1)</th>\n",
       "      <th>var4(t-1)</th>\n",
       "      <th>var5(t-1)</th>\n",
       "      <th>var6(t-1)</th>\n",
       "      <th>var7(t-1)</th>\n",
       "      <th>var8(t-1)</th>\n",
       "      <th>var9(t-1)</th>\n",
       "      <th>var10(t-1)</th>\n",
       "      <th>...</th>\n",
       "      <th>var3(t)</th>\n",
       "      <th>var4(t)</th>\n",
       "      <th>var5(t)</th>\n",
       "      <th>var6(t)</th>\n",
       "      <th>var7(t)</th>\n",
       "      <th>var8(t)</th>\n",
       "      <th>var9(t)</th>\n",
       "      <th>var10(t)</th>\n",
       "      <th>var11(t)</th>\n",
       "      <th>var12(t)</th>\n",
       "    </tr>\n",
       "  </thead>\n",
       "  <tbody>\n",
       "    <tr>\n",
       "      <th>1</th>\n",
       "      <td>0.211864</td>\n",
       "      <td>0.511845</td>\n",
       "      <td>0.185535</td>\n",
       "      <td>0.362097</td>\n",
       "      <td>0.111036</td>\n",
       "      <td>0.310885</td>\n",
       "      <td>0.328402</td>\n",
       "      <td>0.513040</td>\n",
       "      <td>0.454822</td>\n",
       "      <td>0.333333</td>\n",
       "      <td>...</td>\n",
       "      <td>0.146226</td>\n",
       "      <td>0.312398</td>\n",
       "      <td>0.068382</td>\n",
       "      <td>0.360864</td>\n",
       "      <td>0.266272</td>\n",
       "      <td>0.453237</td>\n",
       "      <td>0.326238</td>\n",
       "      <td>0.326882</td>\n",
       "      <td>0.484277</td>\n",
       "      <td>0.264282</td>\n",
       "    </tr>\n",
       "    <tr>\n",
       "      <th>2</th>\n",
       "      <td>0.161017</td>\n",
       "      <td>0.463029</td>\n",
       "      <td>0.146226</td>\n",
       "      <td>0.312398</td>\n",
       "      <td>0.068382</td>\n",
       "      <td>0.360864</td>\n",
       "      <td>0.266272</td>\n",
       "      <td>0.453237</td>\n",
       "      <td>0.326238</td>\n",
       "      <td>0.326882</td>\n",
       "      <td>...</td>\n",
       "      <td>0.139937</td>\n",
       "      <td>0.303659</td>\n",
       "      <td>0.087339</td>\n",
       "      <td>0.346463</td>\n",
       "      <td>0.331361</td>\n",
       "      <td>0.451439</td>\n",
       "      <td>0.370547</td>\n",
       "      <td>0.296774</td>\n",
       "      <td>0.563522</td>\n",
       "      <td>0.276352</td>\n",
       "    </tr>\n",
       "    <tr>\n",
       "      <th>3</th>\n",
       "      <td>0.177966</td>\n",
       "      <td>0.541996</td>\n",
       "      <td>0.139937</td>\n",
       "      <td>0.303659</td>\n",
       "      <td>0.087339</td>\n",
       "      <td>0.346463</td>\n",
       "      <td>0.331361</td>\n",
       "      <td>0.451439</td>\n",
       "      <td>0.370547</td>\n",
       "      <td>0.296774</td>\n",
       "      <td>...</td>\n",
       "      <td>0.143082</td>\n",
       "      <td>0.308575</td>\n",
       "      <td>0.115098</td>\n",
       "      <td>0.326133</td>\n",
       "      <td>0.355030</td>\n",
       "      <td>0.464478</td>\n",
       "      <td>0.426586</td>\n",
       "      <td>0.277419</td>\n",
       "      <td>0.638994</td>\n",
       "      <td>0.294190</td>\n",
       "    </tr>\n",
       "    <tr>\n",
       "      <th>4</th>\n",
       "      <td>0.177966</td>\n",
       "      <td>0.523331</td>\n",
       "      <td>0.143082</td>\n",
       "      <td>0.308575</td>\n",
       "      <td>0.115098</td>\n",
       "      <td>0.326133</td>\n",
       "      <td>0.355030</td>\n",
       "      <td>0.464478</td>\n",
       "      <td>0.426586</td>\n",
       "      <td>0.277419</td>\n",
       "      <td>...</td>\n",
       "      <td>0.100629</td>\n",
       "      <td>0.247406</td>\n",
       "      <td>0.087339</td>\n",
       "      <td>0.373994</td>\n",
       "      <td>0.337278</td>\n",
       "      <td>0.422212</td>\n",
       "      <td>0.386186</td>\n",
       "      <td>0.281720</td>\n",
       "      <td>0.633962</td>\n",
       "      <td>0.295216</td>\n",
       "    </tr>\n",
       "    <tr>\n",
       "      <th>5</th>\n",
       "      <td>0.127119</td>\n",
       "      <td>0.448672</td>\n",
       "      <td>0.100629</td>\n",
       "      <td>0.247406</td>\n",
       "      <td>0.087339</td>\n",
       "      <td>0.373994</td>\n",
       "      <td>0.337278</td>\n",
       "      <td>0.422212</td>\n",
       "      <td>0.386186</td>\n",
       "      <td>0.281720</td>\n",
       "      <td>...</td>\n",
       "      <td>0.072327</td>\n",
       "      <td>0.200437</td>\n",
       "      <td>0.058903</td>\n",
       "      <td>0.429903</td>\n",
       "      <td>0.278107</td>\n",
       "      <td>0.378597</td>\n",
       "      <td>0.316247</td>\n",
       "      <td>0.281720</td>\n",
       "      <td>0.628931</td>\n",
       "      <td>0.293261</td>\n",
       "    </tr>\n",
       "  </tbody>\n",
       "</table>\n",
       "<p>5 rows × 24 columns</p>\n",
       "</div>"
      ],
      "text/plain": [
       "   var1(t-1)  var2(t-1)  var3(t-1)  var4(t-1)  var5(t-1)  var6(t-1)  \\\n",
       "1   0.211864   0.511845   0.185535   0.362097   0.111036   0.310885   \n",
       "2   0.161017   0.463029   0.146226   0.312398   0.068382   0.360864   \n",
       "3   0.177966   0.541996   0.139937   0.303659   0.087339   0.346463   \n",
       "4   0.177966   0.523331   0.143082   0.308575   0.115098   0.326133   \n",
       "5   0.127119   0.448672   0.100629   0.247406   0.087339   0.373994   \n",
       "\n",
       "   var7(t-1)  var8(t-1)  var9(t-1)  var10(t-1)  ...   var3(t)   var4(t)  \\\n",
       "1   0.328402   0.513040   0.454822    0.333333  ...  0.146226  0.312398   \n",
       "2   0.266272   0.453237   0.326238    0.326882  ...  0.139937  0.303659   \n",
       "3   0.331361   0.451439   0.370547    0.296774  ...  0.143082  0.308575   \n",
       "4   0.355030   0.464478   0.426586    0.277419  ...  0.100629  0.247406   \n",
       "5   0.337278   0.422212   0.386186    0.281720  ...  0.072327  0.200437   \n",
       "\n",
       "    var5(t)   var6(t)   var7(t)   var8(t)   var9(t)  var10(t)  var11(t)  \\\n",
       "1  0.068382  0.360864  0.266272  0.453237  0.326238  0.326882  0.484277   \n",
       "2  0.087339  0.346463  0.331361  0.451439  0.370547  0.296774  0.563522   \n",
       "3  0.115098  0.326133  0.355030  0.464478  0.426586  0.277419  0.638994   \n",
       "4  0.087339  0.373994  0.337278  0.422212  0.386186  0.281720  0.633962   \n",
       "5  0.058903  0.429903  0.278107  0.378597  0.316247  0.281720  0.628931   \n",
       "\n",
       "   var12(t)  \n",
       "1  0.264282  \n",
       "2  0.276352  \n",
       "3  0.294190  \n",
       "4  0.295216  \n",
       "5  0.293261  \n",
       "\n",
       "[5 rows x 24 columns]"
      ]
     },
     "execution_count": 10,
     "metadata": {},
     "output_type": "execute_result"
    }
   ],
   "source": [
    "data_train_framed = series_to_supervised(data_train)\n",
    "data_train_framed.head(5)"
   ]
  },
  {
   "cell_type": "markdown",
   "metadata": {},
   "source": [
    "# Framing data train"
   ]
  },
  {
   "cell_type": "code",
   "execution_count": 11,
   "metadata": {},
   "outputs": [
    {
     "data": {
      "text/html": [
       "<div>\n",
       "<style scoped>\n",
       "    .dataframe tbody tr th:only-of-type {\n",
       "        vertical-align: middle;\n",
       "    }\n",
       "\n",
       "    .dataframe tbody tr th {\n",
       "        vertical-align: top;\n",
       "    }\n",
       "\n",
       "    .dataframe thead th {\n",
       "        text-align: right;\n",
       "    }\n",
       "</style>\n",
       "<table border=\"1\" class=\"dataframe\">\n",
       "  <thead>\n",
       "    <tr style=\"text-align: right;\">\n",
       "      <th></th>\n",
       "      <th>var1(t-1)</th>\n",
       "      <th>var2(t-1)</th>\n",
       "      <th>var3(t-1)</th>\n",
       "      <th>var4(t-1)</th>\n",
       "      <th>var5(t-1)</th>\n",
       "      <th>var6(t-1)</th>\n",
       "      <th>var7(t-1)</th>\n",
       "      <th>var8(t-1)</th>\n",
       "      <th>var9(t-1)</th>\n",
       "      <th>var10(t-1)</th>\n",
       "      <th>var11(t-1)</th>\n",
       "      <th>var12(t-1)</th>\n",
       "      <th>var12(t)</th>\n",
       "    </tr>\n",
       "  </thead>\n",
       "  <tbody>\n",
       "    <tr>\n",
       "      <th>1</th>\n",
       "      <td>0.211864</td>\n",
       "      <td>0.511845</td>\n",
       "      <td>0.185535</td>\n",
       "      <td>0.362097</td>\n",
       "      <td>0.111036</td>\n",
       "      <td>0.310885</td>\n",
       "      <td>0.328402</td>\n",
       "      <td>0.513040</td>\n",
       "      <td>0.454822</td>\n",
       "      <td>0.333333</td>\n",
       "      <td>0.499371</td>\n",
       "      <td>0.280066</td>\n",
       "      <td>0.264282</td>\n",
       "    </tr>\n",
       "    <tr>\n",
       "      <th>2</th>\n",
       "      <td>0.161017</td>\n",
       "      <td>0.463029</td>\n",
       "      <td>0.146226</td>\n",
       "      <td>0.312398</td>\n",
       "      <td>0.068382</td>\n",
       "      <td>0.360864</td>\n",
       "      <td>0.266272</td>\n",
       "      <td>0.453237</td>\n",
       "      <td>0.326238</td>\n",
       "      <td>0.326882</td>\n",
       "      <td>0.484277</td>\n",
       "      <td>0.264282</td>\n",
       "      <td>0.276352</td>\n",
       "    </tr>\n",
       "    <tr>\n",
       "      <th>3</th>\n",
       "      <td>0.177966</td>\n",
       "      <td>0.541996</td>\n",
       "      <td>0.139937</td>\n",
       "      <td>0.303659</td>\n",
       "      <td>0.087339</td>\n",
       "      <td>0.346463</td>\n",
       "      <td>0.331361</td>\n",
       "      <td>0.451439</td>\n",
       "      <td>0.370547</td>\n",
       "      <td>0.296774</td>\n",
       "      <td>0.563522</td>\n",
       "      <td>0.276352</td>\n",
       "      <td>0.294190</td>\n",
       "    </tr>\n",
       "    <tr>\n",
       "      <th>4</th>\n",
       "      <td>0.177966</td>\n",
       "      <td>0.523331</td>\n",
       "      <td>0.143082</td>\n",
       "      <td>0.308575</td>\n",
       "      <td>0.115098</td>\n",
       "      <td>0.326133</td>\n",
       "      <td>0.355030</td>\n",
       "      <td>0.464478</td>\n",
       "      <td>0.426586</td>\n",
       "      <td>0.277419</td>\n",
       "      <td>0.638994</td>\n",
       "      <td>0.294190</td>\n",
       "      <td>0.295216</td>\n",
       "    </tr>\n",
       "    <tr>\n",
       "      <th>5</th>\n",
       "      <td>0.127119</td>\n",
       "      <td>0.448672</td>\n",
       "      <td>0.100629</td>\n",
       "      <td>0.247406</td>\n",
       "      <td>0.087339</td>\n",
       "      <td>0.373994</td>\n",
       "      <td>0.337278</td>\n",
       "      <td>0.422212</td>\n",
       "      <td>0.386186</td>\n",
       "      <td>0.281720</td>\n",
       "      <td>0.633962</td>\n",
       "      <td>0.295216</td>\n",
       "      <td>0.293261</td>\n",
       "    </tr>\n",
       "  </tbody>\n",
       "</table>\n",
       "</div>"
      ],
      "text/plain": [
       "   var1(t-1)  var2(t-1)  var3(t-1)  var4(t-1)  var5(t-1)  var6(t-1)  \\\n",
       "1   0.211864   0.511845   0.185535   0.362097   0.111036   0.310885   \n",
       "2   0.161017   0.463029   0.146226   0.312398   0.068382   0.360864   \n",
       "3   0.177966   0.541996   0.139937   0.303659   0.087339   0.346463   \n",
       "4   0.177966   0.523331   0.143082   0.308575   0.115098   0.326133   \n",
       "5   0.127119   0.448672   0.100629   0.247406   0.087339   0.373994   \n",
       "\n",
       "   var7(t-1)  var8(t-1)  var9(t-1)  var10(t-1)  var11(t-1)  var12(t-1)  \\\n",
       "1   0.328402   0.513040   0.454822    0.333333    0.499371    0.280066   \n",
       "2   0.266272   0.453237   0.326238    0.326882    0.484277    0.264282   \n",
       "3   0.331361   0.451439   0.370547    0.296774    0.563522    0.276352   \n",
       "4   0.355030   0.464478   0.426586    0.277419    0.638994    0.294190   \n",
       "5   0.337278   0.422212   0.386186    0.281720    0.633962    0.295216   \n",
       "\n",
       "   var12(t)  \n",
       "1  0.264282  \n",
       "2  0.276352  \n",
       "3  0.294190  \n",
       "4  0.295216  \n",
       "5  0.293261  "
      ]
     },
     "execution_count": 11,
     "metadata": {},
     "output_type": "execute_result"
    }
   ],
   "source": [
    "data_train_framed.drop(data_train_framed.columns[[12,13,14,15,16,17,18,19,20,21,22]], axis=1, inplace=True)\n",
    "data_train_framed.head(5)"
   ]
  },
  {
   "cell_type": "code",
   "execution_count": 12,
   "metadata": {},
   "outputs": [],
   "source": [
    "x = data_train_framed.loc[:,[\n",
    "    'var1(t-1)',\n",
    "    'var2(t-1)',\n",
    "    'var3(t-1)',\n",
    "    'var4(t-1)',\n",
    "    'var5(t-1)',\n",
    "    'var6(t-1)',\n",
    "    'var7(t-1)',\n",
    "    'var8(t-1)',\n",
    "    'var9(t-1)',\n",
    "    'var10(t-1)',\n",
    "    'var11(t-1)',\n",
    "    'var12(t-1)'\n",
    "]]\n",
    "\n",
    "y = data_train_framed.loc[:,['var12(t)']]"
   ]
  },
  {
   "cell_type": "code",
   "execution_count": 13,
   "metadata": {},
   "outputs": [],
   "source": [
    "def split_data(x, y, train_size):\n",
    "    x_train = x[:int(len(x)*train_size)]\n",
    "    x_test = x[int(len(x)*train_size):]\n",
    "    y_train = y[:int(len(y)*train_size)]\n",
    "    y_test = y[int(len(y)*train_size):]\n",
    "    \n",
    "    return x_train, x_test, y_train, y_test"
   ]
  },
  {
   "cell_type": "code",
   "execution_count": 14,
   "metadata": {},
   "outputs": [],
   "source": [
    "x_train, x_test, y_train, y_test = split_data(x, y, train_size=0.8)"
   ]
  },
  {
   "cell_type": "code",
   "execution_count": 15,
   "metadata": {},
   "outputs": [
    {
     "name": "stdout",
     "output_type": "stream",
     "text": [
      "(5986, 12) (1497, 12) (5986, 1) (1497, 1)\n"
     ]
    }
   ],
   "source": [
    "print(x_train.shape, x_test.shape, y_train.shape, y_test.shape)"
   ]
  },
  {
   "cell_type": "code",
   "execution_count": 16,
   "metadata": {},
   "outputs": [
    {
     "name": "stderr",
     "output_type": "stream",
     "text": [
      "WARNING: Logging before flag parsing goes to stderr.\n",
      "W0710 04:52:42.064722 139732819654272 deprecation_wrapper.py:119] From /home/lucas/LICA/LICA/lib/python3.7/site-packages/keras/backend/tensorflow_backend.py:74: The name tf.get_default_graph is deprecated. Please use tf.compat.v1.get_default_graph instead.\n",
      "\n",
      "W0710 04:52:42.079918 139732819654272 deprecation_wrapper.py:119] From /home/lucas/LICA/LICA/lib/python3.7/site-packages/keras/backend/tensorflow_backend.py:517: The name tf.placeholder is deprecated. Please use tf.compat.v1.placeholder instead.\n",
      "\n",
      "W0710 04:52:42.083372 139732819654272 deprecation_wrapper.py:119] From /home/lucas/LICA/LICA/lib/python3.7/site-packages/keras/backend/tensorflow_backend.py:4138: The name tf.random_uniform is deprecated. Please use tf.random.uniform instead.\n",
      "\n",
      "W0710 04:52:42.130077 139732819654272 deprecation_wrapper.py:119] From /home/lucas/LICA/LICA/lib/python3.7/site-packages/keras/backend/tensorflow_backend.py:3976: The name tf.nn.max_pool is deprecated. Please use tf.nn.max_pool2d instead.\n",
      "\n"
     ]
    }
   ],
   "source": [
    "model = Sequential()\n",
    "\n",
    "model.add(Conv1D(filters=10, kernel_size=2, activation='relu', input_shape=(12, 1)))\n",
    "model.add(Conv1D(filters=10, kernel_size=2, activation='relu'))\n",
    "model.add(MaxPooling1D(pool_size=2))\n",
    "\n",
    "model.add(Flatten())\n",
    "model.add(Dense(50, activation='relu'))\n",
    "model.add(Dense(1))"
   ]
  },
  {
   "cell_type": "code",
   "execution_count": 17,
   "metadata": {},
   "outputs": [
    {
     "name": "stderr",
     "output_type": "stream",
     "text": [
      "W0710 04:52:46.670884 139732819654272 deprecation_wrapper.py:119] From /home/lucas/LICA/LICA/lib/python3.7/site-packages/keras/optimizers.py:790: The name tf.train.Optimizer is deprecated. Please use tf.compat.v1.train.Optimizer instead.\n",
      "\n"
     ]
    }
   ],
   "source": [
    "model.compile(optimizer='adam', loss='mse')"
   ]
  },
  {
   "cell_type": "markdown",
   "metadata": {},
   "source": [
    "# Test and validation with 100 epochs"
   ]
  },
  {
   "cell_type": "code",
   "execution_count": 18,
   "metadata": {},
   "outputs": [],
   "source": [
    "x = np.expand_dims(x, axis=2)\n",
    "x_test = np.expand_dims(x_test, axis=2)"
   ]
  },
  {
   "cell_type": "code",
   "execution_count": 19,
   "metadata": {},
   "outputs": [
    {
     "name": "stdout",
     "output_type": "stream",
     "text": [
      "(7483, 12, 1) (1497, 12, 1)\n"
     ]
    }
   ],
   "source": [
    "print(x.shape, x_test.shape)"
   ]
  },
  {
   "cell_type": "code",
   "execution_count": 20,
   "metadata": {},
   "outputs": [
    {
     "name": "stderr",
     "output_type": "stream",
     "text": [
      "W0710 04:52:50.818813 139732819654272 deprecation_wrapper.py:119] From /home/lucas/LICA/LICA/lib/python3.7/site-packages/keras/backend/tensorflow_backend.py:986: The name tf.assign_add is deprecated. Please use tf.compat.v1.assign_add instead.\n",
      "\n",
      "W0710 04:52:50.954811 139732819654272 deprecation_wrapper.py:119] From /home/lucas/LICA/LICA/lib/python3.7/site-packages/keras/backend/tensorflow_backend.py:973: The name tf.assign is deprecated. Please use tf.compat.v1.assign instead.\n",
      "\n"
     ]
    },
    {
     "data": {
      "text/plain": [
       "<keras.callbacks.History at 0x7f15c3e981d0>"
      ]
     },
     "execution_count": 20,
     "metadata": {},
     "output_type": "execute_result"
    }
   ],
   "source": [
    "model.fit(x, y, epochs=100, verbose=0)"
   ]
  },
  {
   "cell_type": "code",
   "execution_count": 21,
   "metadata": {},
   "outputs": [],
   "source": [
    "prediction = model.predict(x_test)"
   ]
  },
  {
   "cell_type": "code",
   "execution_count": 22,
   "metadata": {},
   "outputs": [
    {
     "name": "stdout",
     "output_type": "stream",
     "text": [
      "Test:\n",
      "0.0215\n"
     ]
    }
   ],
   "source": [
    "print('Test:')\n",
    "print(np.sqrt(mean_squared_error(y_test, prediction)).round(5))"
   ]
  },
  {
   "cell_type": "code",
   "execution_count": 23,
   "metadata": {},
   "outputs": [
    {
     "data": {
      "image/png": "[encoded data removed]",
      "text/plain": [
       "<Figure size 432x288 with 1 Axes>"
      ]
     },
     "metadata": {
      "needs_background": "light"
     },
     "output_type": "display_data"
    }
   ],
   "source": [
    "plt.plot(y_test.reset_index(drop=True), 'b')\n",
    "plt.plot(prediction, 'g')\n",
    "plt.grid(True)"
   ]
  },
  {
   "cell_type": "code",
   "execution_count": 24,
   "metadata": {},
   "outputs": [],
   "source": [
    "validation = model.predict(x_validation)"
   ]
  },
  {
   "cell_type": "code",
   "execution_count": 25,
   "metadata": {},
   "outputs": [
    {
     "name": "stdout",
     "output_type": "stream",
     "text": [
      "Validation:\n",
      "0.02032\n"
     ]
    }
   ],
   "source": [
    "print('Validation:')\n",
    "print(np.sqrt(mean_squared_error(y_validation, validation)).round(5))"
   ]
  },
  {
   "cell_type": "code",
   "execution_count": 26,
   "metadata": {},
   "outputs": [
    {
     "data": {
      "image/png": "[encoded data removed]",
      "text/plain": [
       "<Figure size 432x288 with 1 Axes>"
      ]
     },
     "metadata": {
      "needs_background": "light"
     },
     "output_type": "display_data"
    }
   ],
   "source": [
    "plt.plot(y_validation, 'b')\n",
    "plt.plot(validation, 'g')\n",
    "plt.grid(True)"
   ]
  },
  {
   "cell_type": "markdown",
   "metadata": {},
   "source": [
    "# Test and validation with 500 epochs"
   ]
  },
  {
   "cell_type": "code",
   "execution_count": 27,
   "metadata": {},
   "outputs": [
    {
     "data": {
      "text/plain": [
       "<keras.callbacks.History at 0x7f159cca41d0>"
      ]
     },
     "execution_count": 27,
     "metadata": {},
     "output_type": "execute_result"
    }
   ],
   "source": [
    "model.fit(x, y, epochs=500, verbose=0)"
   ]
  },
  {
   "cell_type": "code",
   "execution_count": 28,
   "metadata": {},
   "outputs": [],
   "source": [
    "prediction = model.predict(x_test)"
   ]
  },
  {
   "cell_type": "code",
   "execution_count": 29,
   "metadata": {},
   "outputs": [
    {
     "name": "stdout",
     "output_type": "stream",
     "text": [
      "Test:\n",
      "0.02341\n"
     ]
    }
   ],
   "source": [
    "print('Test:')\n",
    "print(np.sqrt(mean_squared_error(y_test, prediction)).round(5))"
   ]
  },
  {
   "cell_type": "code",
   "execution_count": 30,
   "metadata": {},
   "outputs": [
    {
     "data": {
      "image/png": "[encoded data removed]",
      "text/plain": [
       "<Figure size 432x288 with 1 Axes>"
      ]
     },
     "metadata": {
      "needs_background": "light"
     },
     "output_type": "display_data"
    }
   ],
   "source": [
    "plt.plot(y_test.reset_index(drop=True), 'b')\n",
    "plt.plot(prediction, 'g')\n",
    "plt.grid(True)"
   ]
  },
  {
   "cell_type": "code",
   "execution_count": 31,
   "metadata": {},
   "outputs": [],
   "source": [
    "validation = model.predict(x_validation)"
   ]
  },
  {
   "cell_type": "code",
   "execution_count": 32,
   "metadata": {},
   "outputs": [
    {
     "name": "stdout",
     "output_type": "stream",
     "text": [
      "Validation:\n",
      "0.031\n"
     ]
    }
   ],
   "source": [
    "print('Validation:')\n",
    "print(np.sqrt(mean_squared_error(y_validation, validation)).round(5))"
   ]
  },
  {
   "cell_type": "code",
   "execution_count": 33,
   "metadata": {},
   "outputs": [
    {
     "data": {
      "image/png": "[encoded data removed]",
      "text/plain": [
       "<Figure size 432x288 with 1 Axes>"
      ]
     },
     "metadata": {
      "needs_background": "light"
     },
     "output_type": "display_data"
    }
   ],
   "source": [
    "plt.plot(y_validation, 'b')\n",
    "plt.plot(validation, 'g')\n",
    "plt.grid(True)"
   ]
  },
  {
   "cell_type": "markdown",
   "metadata": {},
   "source": [
    "# Test and validation with 1000 epochs"
   ]
  },
  {
   "cell_type": "code",
   "execution_count": 34,
   "metadata": {},
   "outputs": [
    {
     "data": {
      "text/plain": [
       "<keras.callbacks.History at 0x7f159c8040f0>"
      ]
     },
     "execution_count": 34,
     "metadata": {},
     "output_type": "execute_result"
    }
   ],
   "source": [
    "model.fit(x, y, epochs=1000, verbose=0)"
   ]
  },
  {
   "cell_type": "code",
   "execution_count": 35,
   "metadata": {},
   "outputs": [],
   "source": [
    "prediction = model.predict(x_test)"
   ]
  },
  {
   "cell_type": "code",
   "execution_count": 36,
   "metadata": {},
   "outputs": [
    {
     "name": "stdout",
     "output_type": "stream",
     "text": [
      "Test:\n",
      "0.01473\n"
     ]
    }
   ],
   "source": [
    "print('Test:')\n",
    "print(np.sqrt(mean_squared_error(y_test, prediction)).round(5))"
   ]
  },
  {
   "cell_type": "code",
   "execution_count": 37,
   "metadata": {},
   "outputs": [
    {
     "data": {
      "image/png": "[encoded data removed]",
      "text/plain": [
       "<Figure size 432x288 with 1 Axes>"
      ]
     },
     "metadata": {
      "needs_background": "light"
     },
     "output_type": "display_data"
    }
   ],
   "source": [
    "plt.plot(y_test.reset_index(drop=True), 'b')\n",
    "plt.plot(prediction, 'g')\n",
    "plt.grid(True)"
   ]
  },
  {
   "cell_type": "code",
   "execution_count": 38,
   "metadata": {},
   "outputs": [],
   "source": [
    "validation = model.predict(x_validation)"
   ]
  },
  {
   "cell_type": "code",
   "execution_count": 39,
   "metadata": {},
   "outputs": [
    {
     "name": "stdout",
     "output_type": "stream",
     "text": [
      "Validation:\n",
      "0.03153\n"
     ]
    }
   ],
   "source": [
    "print('Validation:')\n",
    "print(np.sqrt(mean_squared_error(y_validation, validation)).round(5))"
   ]
  },
  {
   "cell_type": "code",
   "execution_count": 40,
   "metadata": {},
   "outputs": [
    {
     "data": {
      "image/png": "[encoded data removed]",
      "text/plain": [
       "<Figure size 432x288 with 1 Axes>"
      ]
     },
     "metadata": {
      "needs_background": "light"
     },
     "output_type": "display_data"
    }
   ],
   "source": [
    "plt.plot(y_validation, 'b')\n",
    "plt.plot(validation, 'g')\n",
    "plt.grid(True)"
   ]
  },
  {
   "cell_type": "markdown",
   "metadata": {},
   "source": [
    "# lag = 5"
   ]
  },
  {
   "cell_type": "code",
   "execution_count": 41,
   "metadata": {},
   "outputs": [
    {
     "data": {
      "text/html": [
       "<div>\n",
       "<style scoped>\n",
       "    .dataframe tbody tr th:only-of-type {\n",
       "        vertical-align: middle;\n",
       "    }\n",
       "\n",
       "    .dataframe tbody tr th {\n",
       "        vertical-align: top;\n",
       "    }\n",
       "\n",
       "    .dataframe thead th {\n",
       "        text-align: right;\n",
       "    }\n",
       "</style>\n",
       "<table border=\"1\" class=\"dataframe\">\n",
       "  <thead>\n",
       "    <tr style=\"text-align: right;\">\n",
       "      <th></th>\n",
       "      <th>var1(t-1)</th>\n",
       "      <th>var2(t-1)</th>\n",
       "      <th>var3(t-1)</th>\n",
       "      <th>var4(t-1)</th>\n",
       "      <th>var5(t-1)</th>\n",
       "      <th>var6(t-1)</th>\n",
       "      <th>var7(t-1)</th>\n",
       "      <th>var8(t-1)</th>\n",
       "      <th>var9(t-1)</th>\n",
       "      <th>var10(t-1)</th>\n",
       "      <th>...</th>\n",
       "      <th>var3(t+4)</th>\n",
       "      <th>var4(t+4)</th>\n",
       "      <th>var5(t+4)</th>\n",
       "      <th>var6(t+4)</th>\n",
       "      <th>var7(t+4)</th>\n",
       "      <th>var8(t+4)</th>\n",
       "      <th>var9(t+4)</th>\n",
       "      <th>var10(t+4)</th>\n",
       "      <th>var11(t+4)</th>\n",
       "      <th>var12(t+4)</th>\n",
       "    </tr>\n",
       "  </thead>\n",
       "  <tbody>\n",
       "    <tr>\n",
       "      <th>1</th>\n",
       "      <td>0.211864</td>\n",
       "      <td>0.511845</td>\n",
       "      <td>0.185535</td>\n",
       "      <td>0.362097</td>\n",
       "      <td>0.111036</td>\n",
       "      <td>0.310885</td>\n",
       "      <td>0.328402</td>\n",
       "      <td>0.513040</td>\n",
       "      <td>0.454822</td>\n",
       "      <td>0.333333</td>\n",
       "      <td>...</td>\n",
       "      <td>0.072327</td>\n",
       "      <td>0.200437</td>\n",
       "      <td>0.058903</td>\n",
       "      <td>0.429903</td>\n",
       "      <td>0.278107</td>\n",
       "      <td>0.378597</td>\n",
       "      <td>0.316247</td>\n",
       "      <td>0.281720</td>\n",
       "      <td>0.628931</td>\n",
       "      <td>0.293261</td>\n",
       "    </tr>\n",
       "    <tr>\n",
       "      <th>2</th>\n",
       "      <td>0.161017</td>\n",
       "      <td>0.463029</td>\n",
       "      <td>0.146226</td>\n",
       "      <td>0.312398</td>\n",
       "      <td>0.068382</td>\n",
       "      <td>0.360864</td>\n",
       "      <td>0.266272</td>\n",
       "      <td>0.453237</td>\n",
       "      <td>0.326238</td>\n",
       "      <td>0.326882</td>\n",
       "      <td>...</td>\n",
       "      <td>0.055031</td>\n",
       "      <td>0.167668</td>\n",
       "      <td>0.040623</td>\n",
       "      <td>0.482846</td>\n",
       "      <td>0.221893</td>\n",
       "      <td>0.351619</td>\n",
       "      <td>0.222415</td>\n",
       "      <td>0.283871</td>\n",
       "      <td>0.598742</td>\n",
       "      <td>0.281288</td>\n",
       "    </tr>\n",
       "    <tr>\n",
       "      <th>3</th>\n",
       "      <td>0.177966</td>\n",
       "      <td>0.541996</td>\n",
       "      <td>0.139937</td>\n",
       "      <td>0.303659</td>\n",
       "      <td>0.087339</td>\n",
       "      <td>0.346463</td>\n",
       "      <td>0.331361</td>\n",
       "      <td>0.451439</td>\n",
       "      <td>0.370547</td>\n",
       "      <td>0.296774</td>\n",
       "      <td>...</td>\n",
       "      <td>0.050314</td>\n",
       "      <td>0.157837</td>\n",
       "      <td>0.040623</td>\n",
       "      <td>0.479034</td>\n",
       "      <td>0.218935</td>\n",
       "      <td>0.351619</td>\n",
       "      <td>0.221112</td>\n",
       "      <td>0.270968</td>\n",
       "      <td>0.638994</td>\n",
       "      <td>0.286126</td>\n",
       "    </tr>\n",
       "    <tr>\n",
       "      <th>4</th>\n",
       "      <td>0.177966</td>\n",
       "      <td>0.523331</td>\n",
       "      <td>0.143082</td>\n",
       "      <td>0.308575</td>\n",
       "      <td>0.115098</td>\n",
       "      <td>0.326133</td>\n",
       "      <td>0.355030</td>\n",
       "      <td>0.464478</td>\n",
       "      <td>0.426586</td>\n",
       "      <td>0.277419</td>\n",
       "      <td>...</td>\n",
       "      <td>0.034591</td>\n",
       "      <td>0.123430</td>\n",
       "      <td>0.029113</td>\n",
       "      <td>0.532402</td>\n",
       "      <td>0.171598</td>\n",
       "      <td>0.325989</td>\n",
       "      <td>0.173328</td>\n",
       "      <td>0.270968</td>\n",
       "      <td>0.635220</td>\n",
       "      <td>0.283487</td>\n",
       "    </tr>\n",
       "    <tr>\n",
       "      <th>5</th>\n",
       "      <td>0.127119</td>\n",
       "      <td>0.448672</td>\n",
       "      <td>0.100629</td>\n",
       "      <td>0.247406</td>\n",
       "      <td>0.087339</td>\n",
       "      <td>0.373994</td>\n",
       "      <td>0.337278</td>\n",
       "      <td>0.422212</td>\n",
       "      <td>0.386186</td>\n",
       "      <td>0.281720</td>\n",
       "      <td>...</td>\n",
       "      <td>0.025157</td>\n",
       "      <td>0.097215</td>\n",
       "      <td>0.020988</td>\n",
       "      <td>0.585769</td>\n",
       "      <td>0.133136</td>\n",
       "      <td>0.307554</td>\n",
       "      <td>0.121633</td>\n",
       "      <td>0.262366</td>\n",
       "      <td>0.641509</td>\n",
       "      <td>0.277085</td>\n",
       "    </tr>\n",
       "  </tbody>\n",
       "</table>\n",
       "<p>5 rows × 72 columns</p>\n",
       "</div>"
      ],
      "text/plain": [
       "   var1(t-1)  var2(t-1)  var3(t-1)  var4(t-1)  var5(t-1)  var6(t-1)  \\\n",
       "1   0.211864   0.511845   0.185535   0.362097   0.111036   0.310885   \n",
       "2   0.161017   0.463029   0.146226   0.312398   0.068382   0.360864   \n",
       "3   0.177966   0.541996   0.139937   0.303659   0.087339   0.346463   \n",
       "4   0.177966   0.523331   0.143082   0.308575   0.115098   0.326133   \n",
       "5   0.127119   0.448672   0.100629   0.247406   0.087339   0.373994   \n",
       "\n",
       "   var7(t-1)  var8(t-1)  var9(t-1)  var10(t-1)  ...  var3(t+4)  var4(t+4)  \\\n",
       "1   0.328402   0.513040   0.454822    0.333333  ...   0.072327   0.200437   \n",
       "2   0.266272   0.453237   0.326238    0.326882  ...   0.055031   0.167668   \n",
       "3   0.331361   0.451439   0.370547    0.296774  ...   0.050314   0.157837   \n",
       "4   0.355030   0.464478   0.426586    0.277419  ...   0.034591   0.123430   \n",
       "5   0.337278   0.422212   0.386186    0.281720  ...   0.025157   0.097215   \n",
       "\n",
       "   var5(t+4)  var6(t+4)  var7(t+4)  var8(t+4)  var9(t+4)  var10(t+4)  \\\n",
       "1   0.058903   0.429903   0.278107   0.378597   0.316247    0.281720   \n",
       "2   0.040623   0.482846   0.221893   0.351619   0.222415    0.283871   \n",
       "3   0.040623   0.479034   0.218935   0.351619   0.221112    0.270968   \n",
       "4   0.029113   0.532402   0.171598   0.325989   0.173328    0.270968   \n",
       "5   0.020988   0.585769   0.133136   0.307554   0.121633    0.262366   \n",
       "\n",
       "   var11(t+4)  var12(t+4)  \n",
       "1    0.628931    0.293261  \n",
       "2    0.598742    0.281288  \n",
       "3    0.638994    0.286126  \n",
       "4    0.635220    0.283487  \n",
       "5    0.641509    0.277085  \n",
       "\n",
       "[5 rows x 72 columns]"
      ]
     },
     "execution_count": 41,
     "metadata": {},
     "output_type": "execute_result"
    }
   ],
   "source": [
    "data_train_framed = series_to_supervised(data_train, out_lag=5)\n",
    "data_train_framed.head(5)"
   ]
  },
  {
   "cell_type": "code",
   "execution_count": 42,
   "metadata": {},
   "outputs": [],
   "source": [
    "data_train_framed.drop(data_train_framed.columns[[\n",
    "    12,13,14,15,16,17,18,19,20,21,22,23,24,25,26,27,28,29,30,31,\n",
    "    32,33,34,35,36,37,38,39,40,41,42,43,44,45,46,47,48,49,50,51,\n",
    "    52,53,54,55,56,57,58,59,60,61,62,63,64,65,66,67,68,69,70\n",
    "]], axis=1, inplace=True)"
   ]
  },
  {
   "cell_type": "code",
   "execution_count": 43,
   "metadata": {},
   "outputs": [
    {
     "data": {
      "text/html": [
       "<div>\n",
       "<style scoped>\n",
       "    .dataframe tbody tr th:only-of-type {\n",
       "        vertical-align: middle;\n",
       "    }\n",
       "\n",
       "    .dataframe tbody tr th {\n",
       "        vertical-align: top;\n",
       "    }\n",
       "\n",
       "    .dataframe thead th {\n",
       "        text-align: right;\n",
       "    }\n",
       "</style>\n",
       "<table border=\"1\" class=\"dataframe\">\n",
       "  <thead>\n",
       "    <tr style=\"text-align: right;\">\n",
       "      <th></th>\n",
       "      <th>var1(t-1)</th>\n",
       "      <th>var2(t-1)</th>\n",
       "      <th>var3(t-1)</th>\n",
       "      <th>var4(t-1)</th>\n",
       "      <th>var5(t-1)</th>\n",
       "      <th>var6(t-1)</th>\n",
       "      <th>var7(t-1)</th>\n",
       "      <th>var8(t-1)</th>\n",
       "      <th>var9(t-1)</th>\n",
       "      <th>var10(t-1)</th>\n",
       "      <th>var11(t-1)</th>\n",
       "      <th>var12(t-1)</th>\n",
       "      <th>var12(t+4)</th>\n",
       "    </tr>\n",
       "  </thead>\n",
       "  <tbody>\n",
       "    <tr>\n",
       "      <th>1</th>\n",
       "      <td>0.211864</td>\n",
       "      <td>0.511845</td>\n",
       "      <td>0.185535</td>\n",
       "      <td>0.362097</td>\n",
       "      <td>0.111036</td>\n",
       "      <td>0.310885</td>\n",
       "      <td>0.328402</td>\n",
       "      <td>0.513040</td>\n",
       "      <td>0.454822</td>\n",
       "      <td>0.333333</td>\n",
       "      <td>0.499371</td>\n",
       "      <td>0.280066</td>\n",
       "      <td>0.293261</td>\n",
       "    </tr>\n",
       "    <tr>\n",
       "      <th>2</th>\n",
       "      <td>0.161017</td>\n",
       "      <td>0.463029</td>\n",
       "      <td>0.146226</td>\n",
       "      <td>0.312398</td>\n",
       "      <td>0.068382</td>\n",
       "      <td>0.360864</td>\n",
       "      <td>0.266272</td>\n",
       "      <td>0.453237</td>\n",
       "      <td>0.326238</td>\n",
       "      <td>0.326882</td>\n",
       "      <td>0.484277</td>\n",
       "      <td>0.264282</td>\n",
       "      <td>0.281288</td>\n",
       "    </tr>\n",
       "    <tr>\n",
       "      <th>3</th>\n",
       "      <td>0.177966</td>\n",
       "      <td>0.541996</td>\n",
       "      <td>0.139937</td>\n",
       "      <td>0.303659</td>\n",
       "      <td>0.087339</td>\n",
       "      <td>0.346463</td>\n",
       "      <td>0.331361</td>\n",
       "      <td>0.451439</td>\n",
       "      <td>0.370547</td>\n",
       "      <td>0.296774</td>\n",
       "      <td>0.563522</td>\n",
       "      <td>0.276352</td>\n",
       "      <td>0.286126</td>\n",
       "    </tr>\n",
       "    <tr>\n",
       "      <th>4</th>\n",
       "      <td>0.177966</td>\n",
       "      <td>0.523331</td>\n",
       "      <td>0.143082</td>\n",
       "      <td>0.308575</td>\n",
       "      <td>0.115098</td>\n",
       "      <td>0.326133</td>\n",
       "      <td>0.355030</td>\n",
       "      <td>0.464478</td>\n",
       "      <td>0.426586</td>\n",
       "      <td>0.277419</td>\n",
       "      <td>0.638994</td>\n",
       "      <td>0.294190</td>\n",
       "      <td>0.283487</td>\n",
       "    </tr>\n",
       "    <tr>\n",
       "      <th>5</th>\n",
       "      <td>0.127119</td>\n",
       "      <td>0.448672</td>\n",
       "      <td>0.100629</td>\n",
       "      <td>0.247406</td>\n",
       "      <td>0.087339</td>\n",
       "      <td>0.373994</td>\n",
       "      <td>0.337278</td>\n",
       "      <td>0.422212</td>\n",
       "      <td>0.386186</td>\n",
       "      <td>0.281720</td>\n",
       "      <td>0.633962</td>\n",
       "      <td>0.295216</td>\n",
       "      <td>0.277085</td>\n",
       "    </tr>\n",
       "  </tbody>\n",
       "</table>\n",
       "</div>"
      ],
      "text/plain": [
       "   var1(t-1)  var2(t-1)  var3(t-1)  var4(t-1)  var5(t-1)  var6(t-1)  \\\n",
       "1   0.211864   0.511845   0.185535   0.362097   0.111036   0.310885   \n",
       "2   0.161017   0.463029   0.146226   0.312398   0.068382   0.360864   \n",
       "3   0.177966   0.541996   0.139937   0.303659   0.087339   0.346463   \n",
       "4   0.177966   0.523331   0.143082   0.308575   0.115098   0.326133   \n",
       "5   0.127119   0.448672   0.100629   0.247406   0.087339   0.373994   \n",
       "\n",
       "   var7(t-1)  var8(t-1)  var9(t-1)  var10(t-1)  var11(t-1)  var12(t-1)  \\\n",
       "1   0.328402   0.513040   0.454822    0.333333    0.499371    0.280066   \n",
       "2   0.266272   0.453237   0.326238    0.326882    0.484277    0.264282   \n",
       "3   0.331361   0.451439   0.370547    0.296774    0.563522    0.276352   \n",
       "4   0.355030   0.464478   0.426586    0.277419    0.638994    0.294190   \n",
       "5   0.337278   0.422212   0.386186    0.281720    0.633962    0.295216   \n",
       "\n",
       "   var12(t+4)  \n",
       "1    0.293261  \n",
       "2    0.281288  \n",
       "3    0.286126  \n",
       "4    0.283487  \n",
       "5    0.277085  "
      ]
     },
     "execution_count": 43,
     "metadata": {},
     "output_type": "execute_result"
    }
   ],
   "source": [
    "data_train_framed.head(5)"
   ]
  },
  {
   "cell_type": "code",
   "execution_count": 44,
   "metadata": {},
   "outputs": [],
   "source": [
    "x = data_train_framed.loc[:,[\n",
    "    'var1(t-1)',\n",
    "    'var2(t-1)',\n",
    "    'var3(t-1)',\n",
    "    'var4(t-1)',\n",
    "    'var5(t-1)',\n",
    "    'var6(t-1)',\n",
    "    'var7(t-1)',\n",
    "    'var8(t-1)',\n",
    "    'var9(t-1)',\n",
    "    'var10(t-1)',\n",
    "    'var11(t-1)',\n",
    "    'var12(t-1)'\n",
    "]]\n",
    "\n",
    "y = data_train_framed.loc[:,['var12(t+4)']]"
   ]
  },
  {
   "cell_type": "code",
   "execution_count": 45,
   "metadata": {},
   "outputs": [],
   "source": [
    "x_train, x_test, y_train, y_test = split_data(x, y, train_size=0.8)"
   ]
  },
  {
   "cell_type": "code",
   "execution_count": 46,
   "metadata": {},
   "outputs": [],
   "source": [
    "x = np.expand_dims(x, axis=2)\n",
    "x_test = np.expand_dims(x_test, axis=2)"
   ]
  },
  {
   "cell_type": "code",
   "execution_count": 47,
   "metadata": {},
   "outputs": [],
   "source": [
    "data_test_framed = series_to_supervised(data=data_test, out_lag=5)"
   ]
  },
  {
   "cell_type": "code",
   "execution_count": 48,
   "metadata": {},
   "outputs": [],
   "source": [
    "data_test_framed.drop(data_test_framed.columns[[\n",
    "    12,13,14,15,16,17,18,19,20,21,22,23,24,25,26,27,28,29,30,31,\n",
    "    32,33,34,35,36,37,38,39,40,41,42,43,44,45,46,47,48,49,50,51,\n",
    "    52,53,54,55,56,57,58,59,60,61,62,63,64,65,66,67,68,69,70\n",
    "]], axis=1, inplace=True)"
   ]
  },
  {
   "cell_type": "code",
   "execution_count": 49,
   "metadata": {},
   "outputs": [],
   "source": [
    "x_validation = data_test_framed.loc[:,[\n",
    "    'var1(t-1)',\n",
    "    'var2(t-1)',\n",
    "    'var3(t-1)',\n",
    "    'var4(t-1)',\n",
    "    'var5(t-1)',\n",
    "    'var6(t-1)',\n",
    "    'var7(t-1)',\n",
    "    'var8(t-1)',\n",
    "    'var9(t-1)',\n",
    "    'var10(t-1)',\n",
    "    'var11(t-1)',\n",
    "    'var12(t-1)'\n",
    "]]\n",
    "\n",
    "y_validation = data_test_framed.loc[:,['var12(t+4)']]"
   ]
  },
  {
   "cell_type": "code",
   "execution_count": 50,
   "metadata": {},
   "outputs": [],
   "source": [
    "x_validation = np.expand_dims(x_validation, axis=2)"
   ]
  },
  {
   "cell_type": "markdown",
   "metadata": {},
   "source": [
    "# Test and validation with 100 epochs"
   ]
  },
  {
   "cell_type": "code",
   "execution_count": 51,
   "metadata": {},
   "outputs": [
    {
     "data": {
      "text/plain": [
       "<keras.callbacks.History at 0x7f159c8024a8>"
      ]
     },
     "execution_count": 51,
     "metadata": {},
     "output_type": "execute_result"
    }
   ],
   "source": [
    "model.fit(x, y, epochs=100, verbose=0)"
   ]
  },
  {
   "cell_type": "code",
   "execution_count": 52,
   "metadata": {},
   "outputs": [],
   "source": [
    "prediction = model.predict(x_test)"
   ]
  },
  {
   "cell_type": "code",
   "execution_count": 53,
   "metadata": {},
   "outputs": [
    {
     "name": "stdout",
     "output_type": "stream",
     "text": [
      "Test:\n",
      "0.04068\n"
     ]
    }
   ],
   "source": [
    "print('Test:')\n",
    "print(np.sqrt(mean_squared_error(y_test, prediction)).round(5))"
   ]
  },
  {
   "cell_type": "code",
   "execution_count": 54,
   "metadata": {},
   "outputs": [
    {
     "data": {
      "image/png": "[encoded data removed]",
      "text/plain": [
       "<Figure size 432x288 with 1 Axes>"
      ]
     },
     "metadata": {
      "needs_background": "light"
     },
     "output_type": "display_data"
    }
   ],
   "source": [
    "plt.plot(y_test.reset_index(drop=True), 'b')\n",
    "plt.plot(prediction, 'g')\n",
    "plt.grid(True)"
   ]
  },
  {
   "cell_type": "code",
   "execution_count": 55,
   "metadata": {},
   "outputs": [],
   "source": [
    "validation = model.predict(x_validation)"
   ]
  },
  {
   "cell_type": "code",
   "execution_count": 56,
   "metadata": {},
   "outputs": [
    {
     "name": "stdout",
     "output_type": "stream",
     "text": [
      "Validation:\n",
      "0.05229\n"
     ]
    }
   ],
   "source": [
    "print('Validation:')\n",
    "print(np.sqrt(mean_squared_error(y_validation, validation)).round(5))"
   ]
  },
  {
   "cell_type": "code",
   "execution_count": 57,
   "metadata": {},
   "outputs": [
    {
     "data": {
      "image/png": "[encoded data removed]",
      "text/plain": [
       "<Figure size 432x288 with 1 Axes>"
      ]
     },
     "metadata": {
      "needs_background": "light"
     },
     "output_type": "display_data"
    }
   ],
   "source": [
    "plt.plot(y_validation, 'b')\n",
    "plt.plot(validation, 'g')\n",
    "plt.grid(True)"
   ]
  },
  {
   "cell_type": "markdown",
   "metadata": {},
   "source": [
    "# Test and validation with 500 epochs"
   ]
  },
  {
   "cell_type": "code",
   "execution_count": 58,
   "metadata": {},
   "outputs": [
    {
     "data": {
      "text/plain": [
       "<keras.callbacks.History at 0x7f159c6aacc0>"
      ]
     },
     "execution_count": 58,
     "metadata": {},
     "output_type": "execute_result"
    }
   ],
   "source": [
    "model.fit(x, y, epochs=500, verbose=0)"
   ]
  },
  {
   "cell_type": "code",
   "execution_count": 59,
   "metadata": {},
   "outputs": [],
   "source": [
    "prediction = model.predict(x_test)"
   ]
  },
  {
   "cell_type": "code",
   "execution_count": 60,
   "metadata": {},
   "outputs": [
    {
     "name": "stdout",
     "output_type": "stream",
     "text": [
      "Test:\n",
      "0.03979\n"
     ]
    }
   ],
   "source": [
    "print('Test:')\n",
    "print(np.sqrt(mean_squared_error(y_test, prediction)).round(5))"
   ]
  },
  {
   "cell_type": "code",
   "execution_count": 61,
   "metadata": {},
   "outputs": [
    {
     "data": {
      "image/png": "[encoded data removed]",
      "text/plain": [
       "<Figure size 432x288 with 1 Axes>"
      ]
     },
     "metadata": {
      "needs_background": "light"
     },
     "output_type": "display_data"
    }
   ],
   "source": [
    "plt.plot(y_test.reset_index(drop=True), 'b')\n",
    "plt.plot(prediction, 'g')\n",
    "plt.grid(True)"
   ]
  },
  {
   "cell_type": "code",
   "execution_count": 62,
   "metadata": {},
   "outputs": [],
   "source": [
    "validation = model.predict(x_validation)"
   ]
  },
  {
   "cell_type": "code",
   "execution_count": 63,
   "metadata": {},
   "outputs": [
    {
     "name": "stdout",
     "output_type": "stream",
     "text": [
      "Validation:\n",
      "0.06665\n"
     ]
    }
   ],
   "source": [
    "print('Validation:')\n",
    "print(np.sqrt(mean_squared_error(y_validation, validation)).round(5))"
   ]
  },
  {
   "cell_type": "code",
   "execution_count": 64,
   "metadata": {},
   "outputs": [
    {
     "data": {
      "image/png": "[encoded data removed]",
      "text/plain": [
       "<Figure size 432x288 with 1 Axes>"
      ]
     },
     "metadata": {
      "needs_background": "light"
     },
     "output_type": "display_data"
    }
   ],
   "source": [
    "plt.plot(y_validation, 'b')\n",
    "plt.plot(validation, 'g')\n",
    "plt.grid(True)"
   ]
  },
  {
   "cell_type": "markdown",
   "metadata": {},
   "source": [
    "# Test and validation with 1000 epochs"
   ]
  },
  {
   "cell_type": "code",
   "execution_count": 65,
   "metadata": {},
   "outputs": [
    {
     "data": {
      "text/plain": [
       "<keras.callbacks.History at 0x7f157b78db38>"
      ]
     },
     "execution_count": 65,
     "metadata": {},
     "output_type": "execute_result"
    }
   ],
   "source": [
    "model.fit(x, y, epochs=1000, verbose=0)"
   ]
  },
  {
   "cell_type": "code",
   "execution_count": 66,
   "metadata": {},
   "outputs": [],
   "source": [
    "prediction = model.predict(x_test)"
   ]
  },
  {
   "cell_type": "code",
   "execution_count": 67,
   "metadata": {},
   "outputs": [
    {
     "name": "stdout",
     "output_type": "stream",
     "text": [
      "Test:\n",
      "0.03651\n"
     ]
    }
   ],
   "source": [
    "print('Test:')\n",
    "print(np.sqrt(mean_squared_error(y_test, prediction)).round(5))"
   ]
  },
  {
   "cell_type": "code",
   "execution_count": 68,
   "metadata": {},
   "outputs": [
    {
     "data": {
      "image/png": "[encoded data removed]",
      "text/plain": [
       "<Figure size 432x288 with 1 Axes>"
      ]
     },
     "metadata": {
      "needs_background": "light"
     },
     "output_type": "display_data"
    }
   ],
   "source": [
    "plt.plot(y_test.reset_index(drop=True), 'b')\n",
    "plt.plot(prediction, 'g')\n",
    "plt.grid(True)"
   ]
  },
  {
   "cell_type": "code",
   "execution_count": 69,
   "metadata": {},
   "outputs": [],
   "source": [
    "validation = model.predict(x_validation)"
   ]
  },
  {
   "cell_type": "code",
   "execution_count": 70,
   "metadata": {},
   "outputs": [
    {
     "name": "stdout",
     "output_type": "stream",
     "text": [
      "Validation:\n",
      "0.06849\n"
     ]
    }
   ],
   "source": [
    "print('Validation:')\n",
    "print(np.sqrt(mean_squared_error(y_validation, validation)).round(5))"
   ]
  },
  {
   "cell_type": "code",
   "execution_count": 71,
   "metadata": {},
   "outputs": [
    {
     "data": {
      "image/png": "[encoded data removed]",
      "text/plain": [
       "<Figure size 432x288 with 1 Axes>"
      ]
     },
     "metadata": {
      "needs_background": "light"
     },
     "output_type": "display_data"
    }
   ],
   "source": [
    "plt.plot(y_validation, 'b')\n",
    "plt.plot(validation, 'g')\n",
    "plt.grid(True)"
   ]
  },
  {
   "cell_type": "markdown",
   "metadata": {},
   "source": [
    "# lag = 10"
   ]
  },
  {
   "cell_type": "code",
   "execution_count": 72,
   "metadata": {},
   "outputs": [
    {
     "data": {
      "text/html": [
       "<div>\n",
       "<style scoped>\n",
       "    .dataframe tbody tr th:only-of-type {\n",
       "        vertical-align: middle;\n",
       "    }\n",
       "\n",
       "    .dataframe tbody tr th {\n",
       "        vertical-align: top;\n",
       "    }\n",
       "\n",
       "    .dataframe thead th {\n",
       "        text-align: right;\n",
       "    }\n",
       "</style>\n",
       "<table border=\"1\" class=\"dataframe\">\n",
       "  <thead>\n",
       "    <tr style=\"text-align: right;\">\n",
       "      <th></th>\n",
       "      <th>var1(t-1)</th>\n",
       "      <th>var2(t-1)</th>\n",
       "      <th>var3(t-1)</th>\n",
       "      <th>var4(t-1)</th>\n",
       "      <th>var5(t-1)</th>\n",
       "      <th>var6(t-1)</th>\n",
       "      <th>var7(t-1)</th>\n",
       "      <th>var8(t-1)</th>\n",
       "      <th>var9(t-1)</th>\n",
       "      <th>var10(t-1)</th>\n",
       "      <th>...</th>\n",
       "      <th>var3(t+9)</th>\n",
       "      <th>var4(t+9)</th>\n",
       "      <th>var5(t+9)</th>\n",
       "      <th>var6(t+9)</th>\n",
       "      <th>var7(t+9)</th>\n",
       "      <th>var8(t+9)</th>\n",
       "      <th>var9(t+9)</th>\n",
       "      <th>var10(t+9)</th>\n",
       "      <th>var11(t+9)</th>\n",
       "      <th>var12(t+9)</th>\n",
       "    </tr>\n",
       "  </thead>\n",
       "  <tbody>\n",
       "    <tr>\n",
       "      <th>1</th>\n",
       "      <td>0.211864</td>\n",
       "      <td>0.511845</td>\n",
       "      <td>0.185535</td>\n",
       "      <td>0.362097</td>\n",
       "      <td>0.111036</td>\n",
       "      <td>0.310885</td>\n",
       "      <td>0.328402</td>\n",
       "      <td>0.513040</td>\n",
       "      <td>0.454822</td>\n",
       "      <td>0.333333</td>\n",
       "      <td>...</td>\n",
       "      <td>0.018868</td>\n",
       "      <td>0.078646</td>\n",
       "      <td>0.012864</td>\n",
       "      <td>0.633630</td>\n",
       "      <td>0.094675</td>\n",
       "      <td>0.290468</td>\n",
       "      <td>0.097307</td>\n",
       "      <td>0.258065</td>\n",
       "      <td>0.645283</td>\n",
       "      <td>0.274544</td>\n",
       "    </tr>\n",
       "    <tr>\n",
       "      <th>2</th>\n",
       "      <td>0.161017</td>\n",
       "      <td>0.463029</td>\n",
       "      <td>0.146226</td>\n",
       "      <td>0.312398</td>\n",
       "      <td>0.068382</td>\n",
       "      <td>0.360864</td>\n",
       "      <td>0.266272</td>\n",
       "      <td>0.453237</td>\n",
       "      <td>0.326238</td>\n",
       "      <td>0.326882</td>\n",
       "      <td>...</td>\n",
       "      <td>0.015723</td>\n",
       "      <td>0.070453</td>\n",
       "      <td>0.009479</td>\n",
       "      <td>0.675985</td>\n",
       "      <td>0.076923</td>\n",
       "      <td>0.283723</td>\n",
       "      <td>0.087315</td>\n",
       "      <td>0.277419</td>\n",
       "      <td>0.591195</td>\n",
       "      <td>0.269706</td>\n",
       "    </tr>\n",
       "    <tr>\n",
       "      <th>3</th>\n",
       "      <td>0.177966</td>\n",
       "      <td>0.541996</td>\n",
       "      <td>0.139937</td>\n",
       "      <td>0.303659</td>\n",
       "      <td>0.087339</td>\n",
       "      <td>0.346463</td>\n",
       "      <td>0.331361</td>\n",
       "      <td>0.451439</td>\n",
       "      <td>0.370547</td>\n",
       "      <td>0.296774</td>\n",
       "      <td>...</td>\n",
       "      <td>0.023585</td>\n",
       "      <td>0.092845</td>\n",
       "      <td>0.021666</td>\n",
       "      <td>0.599746</td>\n",
       "      <td>0.136095</td>\n",
       "      <td>0.301259</td>\n",
       "      <td>0.109036</td>\n",
       "      <td>0.266667</td>\n",
       "      <td>0.615094</td>\n",
       "      <td>0.269071</td>\n",
       "    </tr>\n",
       "    <tr>\n",
       "      <th>4</th>\n",
       "      <td>0.177966</td>\n",
       "      <td>0.523331</td>\n",
       "      <td>0.143082</td>\n",
       "      <td>0.308575</td>\n",
       "      <td>0.115098</td>\n",
       "      <td>0.326133</td>\n",
       "      <td>0.355030</td>\n",
       "      <td>0.464478</td>\n",
       "      <td>0.426586</td>\n",
       "      <td>0.277419</td>\n",
       "      <td>...</td>\n",
       "      <td>0.048742</td>\n",
       "      <td>0.155106</td>\n",
       "      <td>0.064997</td>\n",
       "      <td>0.494706</td>\n",
       "      <td>0.236686</td>\n",
       "      <td>0.354317</td>\n",
       "      <td>0.221112</td>\n",
       "      <td>0.260215</td>\n",
       "      <td>0.633962</td>\n",
       "      <td>0.272199</td>\n",
       "    </tr>\n",
       "    <tr>\n",
       "      <th>5</th>\n",
       "      <td>0.127119</td>\n",
       "      <td>0.448672</td>\n",
       "      <td>0.100629</td>\n",
       "      <td>0.247406</td>\n",
       "      <td>0.087339</td>\n",
       "      <td>0.373994</td>\n",
       "      <td>0.337278</td>\n",
       "      <td>0.422212</td>\n",
       "      <td>0.386186</td>\n",
       "      <td>0.281720</td>\n",
       "      <td>...</td>\n",
       "      <td>0.124214</td>\n",
       "      <td>0.282359</td>\n",
       "      <td>0.116452</td>\n",
       "      <td>0.344769</td>\n",
       "      <td>0.325444</td>\n",
       "      <td>0.434353</td>\n",
       "      <td>0.382711</td>\n",
       "      <td>0.273118</td>\n",
       "      <td>0.606289</td>\n",
       "      <td>0.271759</td>\n",
       "    </tr>\n",
       "  </tbody>\n",
       "</table>\n",
       "<p>5 rows × 132 columns</p>\n",
       "</div>"
      ],
      "text/plain": [
       "   var1(t-1)  var2(t-1)  var3(t-1)  var4(t-1)  var5(t-1)  var6(t-1)  \\\n",
       "1   0.211864   0.511845   0.185535   0.362097   0.111036   0.310885   \n",
       "2   0.161017   0.463029   0.146226   0.312398   0.068382   0.360864   \n",
       "3   0.177966   0.541996   0.139937   0.303659   0.087339   0.346463   \n",
       "4   0.177966   0.523331   0.143082   0.308575   0.115098   0.326133   \n",
       "5   0.127119   0.448672   0.100629   0.247406   0.087339   0.373994   \n",
       "\n",
       "   var7(t-1)  var8(t-1)  var9(t-1)  var10(t-1)  ...  var3(t+9)  var4(t+9)  \\\n",
       "1   0.328402   0.513040   0.454822    0.333333  ...   0.018868   0.078646   \n",
       "2   0.266272   0.453237   0.326238    0.326882  ...   0.015723   0.070453   \n",
       "3   0.331361   0.451439   0.370547    0.296774  ...   0.023585   0.092845   \n",
       "4   0.355030   0.464478   0.426586    0.277419  ...   0.048742   0.155106   \n",
       "5   0.337278   0.422212   0.386186    0.281720  ...   0.124214   0.282359   \n",
       "\n",
       "   var5(t+9)  var6(t+9)  var7(t+9)  var8(t+9)  var9(t+9)  var10(t+9)  \\\n",
       "1   0.012864   0.633630   0.094675   0.290468   0.097307    0.258065   \n",
       "2   0.009479   0.675985   0.076923   0.283723   0.087315    0.277419   \n",
       "3   0.021666   0.599746   0.136095   0.301259   0.109036    0.266667   \n",
       "4   0.064997   0.494706   0.236686   0.354317   0.221112    0.260215   \n",
       "5   0.116452   0.344769   0.325444   0.434353   0.382711    0.273118   \n",
       "\n",
       "   var11(t+9)  var12(t+9)  \n",
       "1    0.645283    0.274544  \n",
       "2    0.591195    0.269706  \n",
       "3    0.615094    0.269071  \n",
       "4    0.633962    0.272199  \n",
       "5    0.606289    0.271759  \n",
       "\n",
       "[5 rows x 132 columns]"
      ]
     },
     "execution_count": 72,
     "metadata": {},
     "output_type": "execute_result"
    }
   ],
   "source": [
    "data_train_framed = series_to_supervised(data_train, out_lag=10)\n",
    "data_train_framed.head(5)"
   ]
  },
  {
   "cell_type": "code",
   "execution_count": 73,
   "metadata": {},
   "outputs": [
    {
     "data": {
      "text/html": [
       "<div>\n",
       "<style scoped>\n",
       "    .dataframe tbody tr th:only-of-type {\n",
       "        vertical-align: middle;\n",
       "    }\n",
       "\n",
       "    .dataframe tbody tr th {\n",
       "        vertical-align: top;\n",
       "    }\n",
       "\n",
       "    .dataframe thead th {\n",
       "        text-align: right;\n",
       "    }\n",
       "</style>\n",
       "<table border=\"1\" class=\"dataframe\">\n",
       "  <thead>\n",
       "    <tr style=\"text-align: right;\">\n",
       "      <th></th>\n",
       "      <th>var1(t-1)</th>\n",
       "      <th>var2(t-1)</th>\n",
       "      <th>var3(t-1)</th>\n",
       "      <th>var4(t-1)</th>\n",
       "      <th>var5(t-1)</th>\n",
       "      <th>var6(t-1)</th>\n",
       "      <th>var7(t-1)</th>\n",
       "      <th>var8(t-1)</th>\n",
       "      <th>var9(t-1)</th>\n",
       "      <th>var10(t-1)</th>\n",
       "      <th>var11(t-1)</th>\n",
       "      <th>var12(t-1)</th>\n",
       "      <th>var12(t+9)</th>\n",
       "    </tr>\n",
       "  </thead>\n",
       "  <tbody>\n",
       "    <tr>\n",
       "      <th>1</th>\n",
       "      <td>0.211864</td>\n",
       "      <td>0.511845</td>\n",
       "      <td>0.185535</td>\n",
       "      <td>0.362097</td>\n",
       "      <td>0.111036</td>\n",
       "      <td>0.310885</td>\n",
       "      <td>0.328402</td>\n",
       "      <td>0.513040</td>\n",
       "      <td>0.454822</td>\n",
       "      <td>0.333333</td>\n",
       "      <td>0.499371</td>\n",
       "      <td>0.280066</td>\n",
       "      <td>0.274544</td>\n",
       "    </tr>\n",
       "    <tr>\n",
       "      <th>2</th>\n",
       "      <td>0.161017</td>\n",
       "      <td>0.463029</td>\n",
       "      <td>0.146226</td>\n",
       "      <td>0.312398</td>\n",
       "      <td>0.068382</td>\n",
       "      <td>0.360864</td>\n",
       "      <td>0.266272</td>\n",
       "      <td>0.453237</td>\n",
       "      <td>0.326238</td>\n",
       "      <td>0.326882</td>\n",
       "      <td>0.484277</td>\n",
       "      <td>0.264282</td>\n",
       "      <td>0.269706</td>\n",
       "    </tr>\n",
       "    <tr>\n",
       "      <th>3</th>\n",
       "      <td>0.177966</td>\n",
       "      <td>0.541996</td>\n",
       "      <td>0.139937</td>\n",
       "      <td>0.303659</td>\n",
       "      <td>0.087339</td>\n",
       "      <td>0.346463</td>\n",
       "      <td>0.331361</td>\n",
       "      <td>0.451439</td>\n",
       "      <td>0.370547</td>\n",
       "      <td>0.296774</td>\n",
       "      <td>0.563522</td>\n",
       "      <td>0.276352</td>\n",
       "      <td>0.269071</td>\n",
       "    </tr>\n",
       "    <tr>\n",
       "      <th>4</th>\n",
       "      <td>0.177966</td>\n",
       "      <td>0.523331</td>\n",
       "      <td>0.143082</td>\n",
       "      <td>0.308575</td>\n",
       "      <td>0.115098</td>\n",
       "      <td>0.326133</td>\n",
       "      <td>0.355030</td>\n",
       "      <td>0.464478</td>\n",
       "      <td>0.426586</td>\n",
       "      <td>0.277419</td>\n",
       "      <td>0.638994</td>\n",
       "      <td>0.294190</td>\n",
       "      <td>0.272199</td>\n",
       "    </tr>\n",
       "    <tr>\n",
       "      <th>5</th>\n",
       "      <td>0.127119</td>\n",
       "      <td>0.448672</td>\n",
       "      <td>0.100629</td>\n",
       "      <td>0.247406</td>\n",
       "      <td>0.087339</td>\n",
       "      <td>0.373994</td>\n",
       "      <td>0.337278</td>\n",
       "      <td>0.422212</td>\n",
       "      <td>0.386186</td>\n",
       "      <td>0.281720</td>\n",
       "      <td>0.633962</td>\n",
       "      <td>0.295216</td>\n",
       "      <td>0.271759</td>\n",
       "    </tr>\n",
       "  </tbody>\n",
       "</table>\n",
       "</div>"
      ],
      "text/plain": [
       "   var1(t-1)  var2(t-1)  var3(t-1)  var4(t-1)  var5(t-1)  var6(t-1)  \\\n",
       "1   0.211864   0.511845   0.185535   0.362097   0.111036   0.310885   \n",
       "2   0.161017   0.463029   0.146226   0.312398   0.068382   0.360864   \n",
       "3   0.177966   0.541996   0.139937   0.303659   0.087339   0.346463   \n",
       "4   0.177966   0.523331   0.143082   0.308575   0.115098   0.326133   \n",
       "5   0.127119   0.448672   0.100629   0.247406   0.087339   0.373994   \n",
       "\n",
       "   var7(t-1)  var8(t-1)  var9(t-1)  var10(t-1)  var11(t-1)  var12(t-1)  \\\n",
       "1   0.328402   0.513040   0.454822    0.333333    0.499371    0.280066   \n",
       "2   0.266272   0.453237   0.326238    0.326882    0.484277    0.264282   \n",
       "3   0.331361   0.451439   0.370547    0.296774    0.563522    0.276352   \n",
       "4   0.355030   0.464478   0.426586    0.277419    0.638994    0.294190   \n",
       "5   0.337278   0.422212   0.386186    0.281720    0.633962    0.295216   \n",
       "\n",
       "   var12(t+9)  \n",
       "1    0.274544  \n",
       "2    0.269706  \n",
       "3    0.269071  \n",
       "4    0.272199  \n",
       "5    0.271759  "
      ]
     },
     "execution_count": 73,
     "metadata": {},
     "output_type": "execute_result"
    }
   ],
   "source": [
    "data_train_framed.drop(data_train_framed.columns[[\n",
    "    12,13,14,15,16,17,18,19,20,21,22,23,24,25,26,27,28,29,30,31,\n",
    "    32,33,34,35,36,37,38,39,40,41,42,43,44,45,46,47,48,49,50,51,\n",
    "    52,53,54,55,56,57,58,59,60,61,62,63,64,65,66,67,68,69,70,71,\n",
    "    72,73,74,75,76,77,78,79,80,81,82,83,84,85,86,87,88,89,90,91,\n",
    "    92,93,94,95,96,97,98,99,100,101,102,103,104,105,106,107,108,\n",
    "    109,110,111,112,113,114,115,116,117,118,119,120,121,122,123,\n",
    "    124,125,126,127,128,129,130\n",
    "]], axis=1, inplace=True)\n",
    "data_train_framed.head(5)"
   ]
  },
  {
   "cell_type": "code",
   "execution_count": 74,
   "metadata": {},
   "outputs": [],
   "source": [
    "x = data_train_framed.loc[:,[\n",
    "    'var1(t-1)',\n",
    "    'var2(t-1)',\n",
    "    'var3(t-1)',\n",
    "    'var4(t-1)',\n",
    "    'var5(t-1)',\n",
    "    'var6(t-1)',\n",
    "    'var7(t-1)',\n",
    "    'var8(t-1)',\n",
    "    'var9(t-1)',\n",
    "    'var10(t-1)',\n",
    "    'var11(t-1)',\n",
    "    'var12(t-1)'\n",
    "]]\n",
    "\n",
    "y = data_train_framed.loc[:,['var12(t+9)']]"
   ]
  },
  {
   "cell_type": "code",
   "execution_count": 75,
   "metadata": {},
   "outputs": [],
   "source": [
    "x_train, x_test, y_train, y_test = split_data(x, y, train_size=0.8)"
   ]
  },
  {
   "cell_type": "code",
   "execution_count": 76,
   "metadata": {},
   "outputs": [],
   "source": [
    "x = np.expand_dims(x, axis=2)\n",
    "x_test = np.expand_dims(x_test, axis=2)"
   ]
  },
  {
   "cell_type": "code",
   "execution_count": 80,
   "metadata": {},
   "outputs": [],
   "source": [
    "data_test_framed = series_to_supervised(data=data_test, out_lag=10)"
   ]
  },
  {
   "cell_type": "code",
   "execution_count": 81,
   "metadata": {},
   "outputs": [
    {
     "data": {
      "text/html": [
       "<div>\n",
       "<style scoped>\n",
       "    .dataframe tbody tr th:only-of-type {\n",
       "        vertical-align: middle;\n",
       "    }\n",
       "\n",
       "    .dataframe tbody tr th {\n",
       "        vertical-align: top;\n",
       "    }\n",
       "\n",
       "    .dataframe thead th {\n",
       "        text-align: right;\n",
       "    }\n",
       "</style>\n",
       "<table border=\"1\" class=\"dataframe\">\n",
       "  <thead>\n",
       "    <tr style=\"text-align: right;\">\n",
       "      <th></th>\n",
       "      <th>var1(t-1)</th>\n",
       "      <th>var2(t-1)</th>\n",
       "      <th>var3(t-1)</th>\n",
       "      <th>var4(t-1)</th>\n",
       "      <th>var5(t-1)</th>\n",
       "      <th>var6(t-1)</th>\n",
       "      <th>var7(t-1)</th>\n",
       "      <th>var8(t-1)</th>\n",
       "      <th>var9(t-1)</th>\n",
       "      <th>var10(t-1)</th>\n",
       "      <th>var11(t-1)</th>\n",
       "      <th>var12(t-1)</th>\n",
       "      <th>var12(t+9)</th>\n",
       "    </tr>\n",
       "  </thead>\n",
       "  <tbody>\n",
       "    <tr>\n",
       "      <th>1</th>\n",
       "      <td>0.059322</td>\n",
       "      <td>0.123475</td>\n",
       "      <td>0.028302</td>\n",
       "      <td>0.105407</td>\n",
       "      <td>0.075829</td>\n",
       "      <td>0.347310</td>\n",
       "      <td>0.245562</td>\n",
       "      <td>0.116007</td>\n",
       "      <td>0.117724</td>\n",
       "      <td>0.286022</td>\n",
       "      <td>0.286792</td>\n",
       "      <td>0.120364</td>\n",
       "      <td>0.118898</td>\n",
       "    </tr>\n",
       "    <tr>\n",
       "      <th>2</th>\n",
       "      <td>0.050847</td>\n",
       "      <td>0.133525</td>\n",
       "      <td>0.029874</td>\n",
       "      <td>0.109776</td>\n",
       "      <td>0.071090</td>\n",
       "      <td>0.348158</td>\n",
       "      <td>0.230769</td>\n",
       "      <td>0.121403</td>\n",
       "      <td>0.105126</td>\n",
       "      <td>0.283871</td>\n",
       "      <td>0.293082</td>\n",
       "      <td>0.121536</td>\n",
       "      <td>0.122269</td>\n",
       "    </tr>\n",
       "    <tr>\n",
       "      <th>3</th>\n",
       "      <td>0.084746</td>\n",
       "      <td>0.165111</td>\n",
       "      <td>0.042453</td>\n",
       "      <td>0.141453</td>\n",
       "      <td>0.117806</td>\n",
       "      <td>0.302838</td>\n",
       "      <td>0.325444</td>\n",
       "      <td>0.138489</td>\n",
       "      <td>0.149435</td>\n",
       "      <td>0.277419</td>\n",
       "      <td>0.299371</td>\n",
       "      <td>0.121390</td>\n",
       "      <td>0.128867</td>\n",
       "    </tr>\n",
       "    <tr>\n",
       "      <th>4</th>\n",
       "      <td>0.084746</td>\n",
       "      <td>0.175879</td>\n",
       "      <td>0.050314</td>\n",
       "      <td>0.155653</td>\n",
       "      <td>0.120515</td>\n",
       "      <td>0.294367</td>\n",
       "      <td>0.352071</td>\n",
       "      <td>0.144335</td>\n",
       "      <td>0.178540</td>\n",
       "      <td>0.262366</td>\n",
       "      <td>0.324528</td>\n",
       "      <td>0.123638</td>\n",
       "      <td>0.127401</td>\n",
       "    </tr>\n",
       "    <tr>\n",
       "      <th>5</th>\n",
       "      <td>0.093220</td>\n",
       "      <td>0.180905</td>\n",
       "      <td>0.051887</td>\n",
       "      <td>0.158930</td>\n",
       "      <td>0.142180</td>\n",
       "      <td>0.288014</td>\n",
       "      <td>0.384615</td>\n",
       "      <td>0.153777</td>\n",
       "      <td>0.204170</td>\n",
       "      <td>0.221505</td>\n",
       "      <td>0.398742</td>\n",
       "      <td>0.131701</td>\n",
       "      <td>0.129111</td>\n",
       "    </tr>\n",
       "  </tbody>\n",
       "</table>\n",
       "</div>"
      ],
      "text/plain": [
       "   var1(t-1)  var2(t-1)  var3(t-1)  var4(t-1)  var5(t-1)  var6(t-1)  \\\n",
       "1   0.059322   0.123475   0.028302   0.105407   0.075829   0.347310   \n",
       "2   0.050847   0.133525   0.029874   0.109776   0.071090   0.348158   \n",
       "3   0.084746   0.165111   0.042453   0.141453   0.117806   0.302838   \n",
       "4   0.084746   0.175879   0.050314   0.155653   0.120515   0.294367   \n",
       "5   0.093220   0.180905   0.051887   0.158930   0.142180   0.288014   \n",
       "\n",
       "   var7(t-1)  var8(t-1)  var9(t-1)  var10(t-1)  var11(t-1)  var12(t-1)  \\\n",
       "1   0.245562   0.116007   0.117724    0.286022    0.286792    0.120364   \n",
       "2   0.230769   0.121403   0.105126    0.283871    0.293082    0.121536   \n",
       "3   0.325444   0.138489   0.149435    0.277419    0.299371    0.121390   \n",
       "4   0.352071   0.144335   0.178540    0.262366    0.324528    0.123638   \n",
       "5   0.384615   0.153777   0.204170    0.221505    0.398742    0.131701   \n",
       "\n",
       "   var12(t+9)  \n",
       "1    0.118898  \n",
       "2    0.122269  \n",
       "3    0.128867  \n",
       "4    0.127401  \n",
       "5    0.129111  "
      ]
     },
     "execution_count": 81,
     "metadata": {},
     "output_type": "execute_result"
    }
   ],
   "source": [
    "data_test_framed.drop(data_test_framed.columns[[\n",
    "    12,13,14,15,16,17,18,19,20,21,22,23,24,25,26,27,28,29,30,31,\n",
    "    32,33,34,35,36,37,38,39,40,41,42,43,44,45,46,47,48,49,50,51,\n",
    "    52,53,54,55,56,57,58,59,60,61,62,63,64,65,66,67,68,69,70,71,\n",
    "    72,73,74,75,76,77,78,79,80,81,82,83,84,85,86,87,88,89,90,91,\n",
    "    92,93,94,95,96,97,98,99,100,101,102,103,104,105,106,107,108,\n",
    "    109,110,111,112,113,114,115,116,117,118,119,120,121,122,123,\n",
    "    124,125,126,127,128,129,130\n",
    "]], axis=1, inplace=True)\n",
    "data_test_framed.head(5)"
   ]
  },
  {
   "cell_type": "code",
   "execution_count": 82,
   "metadata": {},
   "outputs": [],
   "source": [
    "x_validation = data_test_framed.loc[:,[\n",
    "    'var1(t-1)',\n",
    "    'var2(t-1)',\n",
    "    'var3(t-1)',\n",
    "    'var4(t-1)',\n",
    "    'var5(t-1)',\n",
    "    'var6(t-1)',\n",
    "    'var7(t-1)',\n",
    "    'var8(t-1)',\n",
    "    'var9(t-1)',\n",
    "    'var10(t-1)',\n",
    "    'var11(t-1)',\n",
    "    'var12(t-1)'\n",
    "]]\n",
    "\n",
    "y_validation = data_test_framed.loc[:,['var12(t+9)']]"
   ]
  },
  {
   "cell_type": "code",
   "execution_count": 83,
   "metadata": {},
   "outputs": [],
   "source": [
    "x_validation = np.expand_dims(x_validation, axis=2)"
   ]
  },
  {
   "cell_type": "markdown",
   "metadata": {},
   "source": [
    "# Test and validation with 100 epochs"
   ]
  },
  {
   "cell_type": "code",
   "execution_count": 84,
   "metadata": {},
   "outputs": [
    {
     "data": {
      "text/plain": [
       "<keras.callbacks.History at 0x7f157b494828>"
      ]
     },
     "execution_count": 84,
     "metadata": {},
     "output_type": "execute_result"
    }
   ],
   "source": [
    "model.fit(x, y, epochs=100, verbose=0)"
   ]
  },
  {
   "cell_type": "code",
   "execution_count": 85,
   "metadata": {},
   "outputs": [],
   "source": [
    "prediction = model.predict(x_test)"
   ]
  },
  {
   "cell_type": "code",
   "execution_count": 86,
   "metadata": {},
   "outputs": [
    {
     "name": "stdout",
     "output_type": "stream",
     "text": [
      "Test:\n",
      "0.05519\n"
     ]
    }
   ],
   "source": [
    "print('Test:')\n",
    "print(np.sqrt(mean_squared_error(y_test, prediction)).round(5))"
   ]
  },
  {
   "cell_type": "code",
   "execution_count": 87,
   "metadata": {},
   "outputs": [
    {
     "data": {
      "image/png": "[encoded data removed]",
      "text/plain": [
       "<Figure size 432x288 with 1 Axes>"
      ]
     },
     "metadata": {
      "needs_background": "light"
     },
     "output_type": "display_data"
    }
   ],
   "source": [
    "plt.plot(y_test.reset_index(drop=True), 'b')\n",
    "plt.plot(prediction, 'g')\n",
    "plt.grid(True)"
   ]
  },
  {
   "cell_type": "code",
   "execution_count": 88,
   "metadata": {},
   "outputs": [],
   "source": [
    "validation = model.predict(x_validation)"
   ]
  },
  {
   "cell_type": "code",
   "execution_count": 89,
   "metadata": {},
   "outputs": [
    {
     "name": "stdout",
     "output_type": "stream",
     "text": [
      "Validation:\n",
      "0.07776\n"
     ]
    }
   ],
   "source": [
    "print('Validation:')\n",
    "print(np.sqrt(mean_squared_error(y_validation, validation)).round(5))"
   ]
  },
  {
   "cell_type": "code",
   "execution_count": 90,
   "metadata": {},
   "outputs": [
    {
     "data": {
      "image/png": "[encoded data removed]",
      "text/plain": [
       "<Figure size 432x288 with 1 Axes>"
      ]
     },
     "metadata": {
      "needs_background": "light"
     },
     "output_type": "display_data"
    }
   ],
   "source": [
    "plt.plot(y_validation, 'b')\n",
    "plt.plot(validation, 'g')\n",
    "plt.grid(True)"
   ]
  },
  {
   "cell_type": "markdown",
   "metadata": {},
   "source": [
    "# Test and validation with 500 epochs"
   ]
  },
  {
   "cell_type": "code",
   "execution_count": 91,
   "metadata": {},
   "outputs": [
    {
     "data": {
      "text/plain": [
       "<keras.callbacks.History at 0x7f157a8e8390>"
      ]
     },
     "execution_count": 91,
     "metadata": {},
     "output_type": "execute_result"
    }
   ],
   "source": [
    "model.fit(x, y, epochs=500, verbose=0)"
   ]
  },
  {
   "cell_type": "code",
   "execution_count": 92,
   "metadata": {},
   "outputs": [],
   "source": [
    "prediction = model.predict(x_test)"
   ]
  },
  {
   "cell_type": "code",
   "execution_count": 93,
   "metadata": {},
   "outputs": [
    {
     "name": "stdout",
     "output_type": "stream",
     "text": [
      "Test:\n",
      "0.04866\n"
     ]
    }
   ],
   "source": [
    "print('Test:')\n",
    "print(np.sqrt(mean_squared_error(y_test, prediction)).round(5))"
   ]
  },
  {
   "cell_type": "code",
   "execution_count": 94,
   "metadata": {},
   "outputs": [],
   "source": [
    "validation = model.predict(x_validation)"
   ]
  },
  {
   "cell_type": "code",
   "execution_count": 95,
   "metadata": {},
   "outputs": [
    {
     "name": "stdout",
     "output_type": "stream",
     "text": [
      "Validation:\n",
      "0.09179\n"
     ]
    }
   ],
   "source": [
    "print('Validation:')\n",
    "print(np.sqrt(mean_squared_error(y_validation, validation)).round(5))"
   ]
  },
  {
   "cell_type": "code",
   "execution_count": 96,
   "metadata": {},
   "outputs": [
    {
     "data": {
      "image/png": "[encoded data removed]",
      "text/plain": [
       "<Figure size 432x288 with 1 Axes>"
      ]
     },
     "metadata": {
      "needs_background": "light"
     },
     "output_type": "display_data"
    }
   ],
   "source": [
    "plt.plot(y_validation, 'b')\n",
    "plt.plot(validation, 'g')\n",
    "plt.grid(True)"
   ]
  },
  {
   "cell_type": "markdown",
   "metadata": {},
   "source": [
    "# Test and validation with 1000 epochs"
   ]
  },
  {
   "cell_type": "code",
   "execution_count": 97,
   "metadata": {},
   "outputs": [
    {
     "data": {
      "text/plain": [
       "<keras.callbacks.History at 0x7f157adbca90>"
      ]
     },
     "execution_count": 97,
     "metadata": {},
     "output_type": "execute_result"
    }
   ],
   "source": [
    "model.fit(x, y, epochs=1000, verbose=0)"
   ]
  },
  {
   "cell_type": "code",
   "execution_count": 98,
   "metadata": {},
   "outputs": [],
   "source": [
    "prediction = model.predict(x_test)"
   ]
  },
  {
   "cell_type": "code",
   "execution_count": 99,
   "metadata": {},
   "outputs": [
    {
     "name": "stdout",
     "output_type": "stream",
     "text": [
      "Test:\n",
      "0.04458\n"
     ]
    }
   ],
   "source": [
    "print('Test:')\n",
    "print(np.sqrt(mean_squared_error(y_test, prediction)).round(5))"
   ]
  },
  {
   "cell_type": "code",
   "execution_count": 100,
   "metadata": {},
   "outputs": [],
   "source": [
    "validation = model.predict(x_validation)"
   ]
  },
  {
   "cell_type": "code",
   "execution_count": 101,
   "metadata": {},
   "outputs": [
    {
     "name": "stdout",
     "output_type": "stream",
     "text": [
      "Validation:\n",
      "0.12702\n"
     ]
    }
   ],
   "source": [
    "print('Validation:')\n",
    "print(np.sqrt(mean_squared_error(y_validation, validation)).round(5))"
   ]
  },
  {
   "cell_type": "code",
   "execution_count": 102,
   "metadata": {},
   "outputs": [
    {
     "data": {
      "image/png": "[encoded data removed]",
      "text/plain": [
       "<Figure size 432x288 with 1 Axes>"
      ]
     },
     "metadata": {
      "needs_background": "light"
     },
     "output_type": "display_data"
    }
   ],
   "source": [
    "plt.plot(y_validation, 'b')\n",
    "plt.plot(validation, 'g')\n",
    "plt.grid(True)"
   ]
  },
  {
   "cell_type": "code",
   "execution_count": null,
   "metadata": {},
   "outputs": [],
   "source": []
  }
 ],
 "metadata": {
  "kernelspec": {
   "display_name": "Python 3",
   "language": "python",
   "name": "python3"
  },
  "language_info": {
   "codemirror_mode": {
    "name": "ipython",
    "version": 3
   },
   "file_extension": ".py",
   "mimetype": "text/x-python",
   "name": "python",
   "nbconvert_exporter": "python",
   "pygments_lexer": "ipython3",
   "version": "3.7.3"
  }
 },
 "nbformat": 4,
 "nbformat_minor": 2
}
